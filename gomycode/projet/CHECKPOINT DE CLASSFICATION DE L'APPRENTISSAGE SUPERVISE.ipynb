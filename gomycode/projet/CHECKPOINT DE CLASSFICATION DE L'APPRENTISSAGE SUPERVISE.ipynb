{
 "cells": [
  {
   "cell_type": "markdown",
   "id": "8f7cd2d0",
   "metadata": {},
   "source": [
    "Objectif\n",
    "Dans ce point de contrôle, nous allons travailler sur l’ensemble de données Titanic pour prédire si \n",
    "un passager survivra ou non en utilisant plusieurs algorithmes de classification de l’apprentissage supervisé.\n",
    "Nous commencerons par régression logistique, knn, puis arbre de décision et nous finaliserons par forêt aléatoire.\n",
    "\n",
    "Instructions\n",
    "Partie 1 Régression logistique\n",
    "\n",
    "1. Appliquer la régression logistique.\n",
    "\n",
    "2. Utilisez la matrice de confusion pour valider votre modèle.\n",
    "\n",
    "3. Une autre matrice de validation pour la classification est ROC / AUC,\n",
    "faites vos recherches sur eux expliquez-les et appliquez-les dans notre cas.\n",
    "\n",
    "Partie 2 KNN\n",
    "\n",
    "1. Appliquez le KNN et prédisez votre modèle\n",
    "\n",
    "2. Choisissez le nombre optimal de voisins\n",
    "\n",
    "Partie 3 : Arbre de décision et forêt aléatoire\n",
    "\n",
    "1. Appliquez un arbre de décision et prédisez votre modèle\n",
    "\n",
    "2. Tracez votre arbre de décision et essayez de lire les branches de l’arbre et de conclure une prédiction manuellement.\n",
    "\n",
    "3. Modifier les paramètres de l’arbre de décision (changer au moins deux paramètres),\n",
    "\n",
    "4. Calculez la nouvelle précision et comparez-la avec les résultats précédents.\n",
    "\n",
    "5. Utilisez une forêt aléatoire puis modifiez le nombre d’estimateurs\n",
    "\n",
    "6. Calculez la nouvelle précision et comparez-la avec le résultat précédent.\n",
    "\n",
    "Maintenant, pour finaliser votre projet, faites un graphique récapitulatif qui reprend toutes les précisions\n",
    "de chaque modèle (régression logistique, knn Arbre de décision et forêt aléatoire) pour décider quel modèle est le plus performant."
   ]
  },
  {
   "cell_type": "code",
   "execution_count": 304,
   "id": "61c70e42",
   "metadata": {},
   "outputs": [
    {
     "name": "stdout",
     "output_type": "stream",
     "text": [
      "Note: you may need to restart the kernel to use updated packages.Requirement already satisfied: graphviz in c:\\users\\zigui oumaro\\anaconda3\\lib\\site-packages (0.20.1)\n",
      "\n"
     ]
    }
   ],
   "source": [
    "pip install graphviz"
   ]
  },
  {
   "cell_type": "markdown",
   "id": "b62c6d7c",
   "metadata": {},
   "source": [
    "# Importer les librairies necessaires"
   ]
  },
  {
   "cell_type": "code",
   "execution_count": 305,
   "id": "4a6e8524",
   "metadata": {},
   "outputs": [],
   "source": [
    "import pandas as pd\n",
    "import numpy as np\n",
    "import matplotlib.pyplot as plt\n",
    "from sklearn.metrics import roc_curve\n",
    "from sklearn.metrics import roc_auc_score\n",
    "from sklearn.model_selection import train_test_split\n",
    "from sklearn.linear_model import LogisticRegression\n",
    "from sklearn.metrics import confusion_matrix\n",
    "from sklearn.metrics import accuracy_score\n",
    "from sklearn.metrics import classification_report\n",
    "from sklearn.model_selection import train_test_split\n",
    "from sklearn.neighbors import KNeighborsClassifier\n",
    "from sklearn.ensemble import RandomForestClassifier\n",
    "from sklearn.metrics import roc_curve\n",
    "import sklearn.metrics\n",
    "from sklearn import metrics\n",
    "from sklearn import tree   \n",
    "from sklearn.tree import DecisionTreeClassifier, plot_tree\n",
    "from sklearn.metrics import accuracy_score\n",
    "import sklearn\n",
    "import io\n",
    "import requests\n",
    "import seaborn as sns\n",
    "import warnings\n",
    "warnings.filterwarnings(\"ignore\")\n",
    "%matplotlib inline"
   ]
  },
  {
   "cell_type": "markdown",
   "id": "cfb521a9",
   "metadata": {},
   "source": [
    "# CHARGER LE JEU DE DONNEE"
   ]
  },
  {
   "cell_type": "code",
   "execution_count": 306,
   "id": "e693271e",
   "metadata": {},
   "outputs": [
    {
     "data": {
      "text/html": [
       "<div>\n",
       "<style scoped>\n",
       "    .dataframe tbody tr th:only-of-type {\n",
       "        vertical-align: middle;\n",
       "    }\n",
       "\n",
       "    .dataframe tbody tr th {\n",
       "        vertical-align: top;\n",
       "    }\n",
       "\n",
       "    .dataframe thead th {\n",
       "        text-align: right;\n",
       "    }\n",
       "</style>\n",
       "<table border=\"1\" class=\"dataframe\">\n",
       "  <thead>\n",
       "    <tr style=\"text-align: right;\">\n",
       "      <th></th>\n",
       "      <th>PassengerId</th>\n",
       "      <th>Survived</th>\n",
       "      <th>Pclass</th>\n",
       "      <th>Name</th>\n",
       "      <th>Sex</th>\n",
       "      <th>Age</th>\n",
       "      <th>SibSp</th>\n",
       "      <th>Parch</th>\n",
       "      <th>Ticket</th>\n",
       "      <th>Fare</th>\n",
       "      <th>Cabin</th>\n",
       "      <th>Embarked</th>\n",
       "    </tr>\n",
       "  </thead>\n",
       "  <tbody>\n",
       "    <tr>\n",
       "      <th>0</th>\n",
       "      <td>343</td>\n",
       "      <td>No</td>\n",
       "      <td>2</td>\n",
       "      <td>Collander, Mr. Erik Gustaf</td>\n",
       "      <td>male</td>\n",
       "      <td>28.0</td>\n",
       "      <td>0</td>\n",
       "      <td>0</td>\n",
       "      <td>248740</td>\n",
       "      <td>13.0000</td>\n",
       "      <td>NaN</td>\n",
       "      <td>S</td>\n",
       "    </tr>\n",
       "    <tr>\n",
       "      <th>1</th>\n",
       "      <td>76</td>\n",
       "      <td>No</td>\n",
       "      <td>3</td>\n",
       "      <td>Moen, Mr. Sigurd Hansen</td>\n",
       "      <td>male</td>\n",
       "      <td>25.0</td>\n",
       "      <td>0</td>\n",
       "      <td>0</td>\n",
       "      <td>348123</td>\n",
       "      <td>7.6500</td>\n",
       "      <td>F G73</td>\n",
       "      <td>S</td>\n",
       "    </tr>\n",
       "    <tr>\n",
       "      <th>2</th>\n",
       "      <td>641</td>\n",
       "      <td>No</td>\n",
       "      <td>3</td>\n",
       "      <td>Jensen, Mr. Hans Peder</td>\n",
       "      <td>male</td>\n",
       "      <td>20.0</td>\n",
       "      <td>0</td>\n",
       "      <td>0</td>\n",
       "      <td>350050</td>\n",
       "      <td>7.8542</td>\n",
       "      <td>NaN</td>\n",
       "      <td>S</td>\n",
       "    </tr>\n",
       "    <tr>\n",
       "      <th>3</th>\n",
       "      <td>568</td>\n",
       "      <td>No</td>\n",
       "      <td>3</td>\n",
       "      <td>Palsson, Mrs. Nils (Alma Cornelia Berglund)</td>\n",
       "      <td>female</td>\n",
       "      <td>29.0</td>\n",
       "      <td>0</td>\n",
       "      <td>4</td>\n",
       "      <td>349909</td>\n",
       "      <td>21.0750</td>\n",
       "      <td>NaN</td>\n",
       "      <td>S</td>\n",
       "    </tr>\n",
       "    <tr>\n",
       "      <th>4</th>\n",
       "      <td>672</td>\n",
       "      <td>No</td>\n",
       "      <td>1</td>\n",
       "      <td>Davidson, Mr. Thornton</td>\n",
       "      <td>male</td>\n",
       "      <td>31.0</td>\n",
       "      <td>1</td>\n",
       "      <td>0</td>\n",
       "      <td>F.C. 12750</td>\n",
       "      <td>52.0000</td>\n",
       "      <td>B71</td>\n",
       "      <td>S</td>\n",
       "    </tr>\n",
       "  </tbody>\n",
       "</table>\n",
       "</div>"
      ],
      "text/plain": [
       "   PassengerId Survived  Pclass                                         Name  \\\n",
       "0          343       No       2                   Collander, Mr. Erik Gustaf   \n",
       "1           76       No       3                      Moen, Mr. Sigurd Hansen   \n",
       "2          641       No       3                       Jensen, Mr. Hans Peder   \n",
       "3          568       No       3  Palsson, Mrs. Nils (Alma Cornelia Berglund)   \n",
       "4          672       No       1                       Davidson, Mr. Thornton   \n",
       "\n",
       "      Sex   Age  SibSp  Parch      Ticket     Fare  Cabin Embarked  \n",
       "0    male  28.0      0      0      248740  13.0000    NaN        S  \n",
       "1    male  25.0      0      0      348123   7.6500  F G73        S  \n",
       "2    male  20.0      0      0      350050   7.8542    NaN        S  \n",
       "3  female  29.0      0      4      349909  21.0750    NaN        S  \n",
       "4    male  31.0      1      0  F.C. 12750  52.0000    B71        S  "
      ]
     },
     "execution_count": 306,
     "metadata": {},
     "output_type": "execute_result"
    }
   ],
   "source": [
    "df = pd.read_csv('titanic-passengers.csv',sep=\";\" )\n",
    "df.head()"
   ]
  },
  {
   "cell_type": "code",
   "execution_count": 307,
   "id": "f039b68d",
   "metadata": {},
   "outputs": [],
   "source": [
    "#copie du dataset\n",
    "df2 = df.copy() "
   ]
  },
  {
   "cell_type": "code",
   "execution_count": 308,
   "id": "cc10fb8b",
   "metadata": {},
   "outputs": [
    {
     "name": "stdout",
     "output_type": "stream",
     "text": [
      "<class 'pandas.core.frame.DataFrame'>\n",
      "RangeIndex: 891 entries, 0 to 890\n",
      "Data columns (total 12 columns):\n",
      " #   Column       Non-Null Count  Dtype  \n",
      "---  ------       --------------  -----  \n",
      " 0   PassengerId  891 non-null    int64  \n",
      " 1   Survived     891 non-null    object \n",
      " 2   Pclass       891 non-null    int64  \n",
      " 3   Name         891 non-null    object \n",
      " 4   Sex          891 non-null    object \n",
      " 5   Age          714 non-null    float64\n",
      " 6   SibSp        891 non-null    int64  \n",
      " 7   Parch        891 non-null    int64  \n",
      " 8   Ticket       891 non-null    object \n",
      " 9   Fare         891 non-null    float64\n",
      " 10  Cabin        204 non-null    object \n",
      " 11  Embarked     889 non-null    object \n",
      "dtypes: float64(2), int64(4), object(6)\n",
      "memory usage: 83.7+ KB\n"
     ]
    },
    {
     "data": {
      "text/plain": [
       "(891, 12)"
      ]
     },
     "execution_count": 308,
     "metadata": {},
     "output_type": "execute_result"
    }
   ],
   "source": [
    "df2.info()\n",
    "df2.shape"
   ]
  },
  {
   "cell_type": "code",
   "execution_count": 309,
   "id": "75fec1b2",
   "metadata": {},
   "outputs": [
    {
     "data": {
      "text/html": [
       "<div>\n",
       "<style scoped>\n",
       "    .dataframe tbody tr th:only-of-type {\n",
       "        vertical-align: middle;\n",
       "    }\n",
       "\n",
       "    .dataframe tbody tr th {\n",
       "        vertical-align: top;\n",
       "    }\n",
       "\n",
       "    .dataframe thead th {\n",
       "        text-align: right;\n",
       "    }\n",
       "</style>\n",
       "<table border=\"1\" class=\"dataframe\">\n",
       "  <thead>\n",
       "    <tr style=\"text-align: right;\">\n",
       "      <th></th>\n",
       "      <th>PassengerId</th>\n",
       "      <th>Pclass</th>\n",
       "      <th>Age</th>\n",
       "      <th>SibSp</th>\n",
       "      <th>Parch</th>\n",
       "      <th>Fare</th>\n",
       "    </tr>\n",
       "  </thead>\n",
       "  <tbody>\n",
       "    <tr>\n",
       "      <th>count</th>\n",
       "      <td>891.000000</td>\n",
       "      <td>891.000000</td>\n",
       "      <td>714.000000</td>\n",
       "      <td>891.000000</td>\n",
       "      <td>891.000000</td>\n",
       "      <td>891.000000</td>\n",
       "    </tr>\n",
       "    <tr>\n",
       "      <th>mean</th>\n",
       "      <td>446.000000</td>\n",
       "      <td>2.308642</td>\n",
       "      <td>29.699118</td>\n",
       "      <td>0.523008</td>\n",
       "      <td>0.381594</td>\n",
       "      <td>32.204208</td>\n",
       "    </tr>\n",
       "    <tr>\n",
       "      <th>std</th>\n",
       "      <td>257.353842</td>\n",
       "      <td>0.836071</td>\n",
       "      <td>14.526497</td>\n",
       "      <td>1.102743</td>\n",
       "      <td>0.806057</td>\n",
       "      <td>49.693429</td>\n",
       "    </tr>\n",
       "    <tr>\n",
       "      <th>min</th>\n",
       "      <td>1.000000</td>\n",
       "      <td>1.000000</td>\n",
       "      <td>0.420000</td>\n",
       "      <td>0.000000</td>\n",
       "      <td>0.000000</td>\n",
       "      <td>0.000000</td>\n",
       "    </tr>\n",
       "    <tr>\n",
       "      <th>25%</th>\n",
       "      <td>223.500000</td>\n",
       "      <td>2.000000</td>\n",
       "      <td>20.125000</td>\n",
       "      <td>0.000000</td>\n",
       "      <td>0.000000</td>\n",
       "      <td>7.910400</td>\n",
       "    </tr>\n",
       "    <tr>\n",
       "      <th>50%</th>\n",
       "      <td>446.000000</td>\n",
       "      <td>3.000000</td>\n",
       "      <td>28.000000</td>\n",
       "      <td>0.000000</td>\n",
       "      <td>0.000000</td>\n",
       "      <td>14.454200</td>\n",
       "    </tr>\n",
       "    <tr>\n",
       "      <th>75%</th>\n",
       "      <td>668.500000</td>\n",
       "      <td>3.000000</td>\n",
       "      <td>38.000000</td>\n",
       "      <td>1.000000</td>\n",
       "      <td>0.000000</td>\n",
       "      <td>31.000000</td>\n",
       "    </tr>\n",
       "    <tr>\n",
       "      <th>max</th>\n",
       "      <td>891.000000</td>\n",
       "      <td>3.000000</td>\n",
       "      <td>80.000000</td>\n",
       "      <td>8.000000</td>\n",
       "      <td>6.000000</td>\n",
       "      <td>512.329200</td>\n",
       "    </tr>\n",
       "  </tbody>\n",
       "</table>\n",
       "</div>"
      ],
      "text/plain": [
       "       PassengerId      Pclass         Age       SibSp       Parch        Fare\n",
       "count   891.000000  891.000000  714.000000  891.000000  891.000000  891.000000\n",
       "mean    446.000000    2.308642   29.699118    0.523008    0.381594   32.204208\n",
       "std     257.353842    0.836071   14.526497    1.102743    0.806057   49.693429\n",
       "min       1.000000    1.000000    0.420000    0.000000    0.000000    0.000000\n",
       "25%     223.500000    2.000000   20.125000    0.000000    0.000000    7.910400\n",
       "50%     446.000000    3.000000   28.000000    0.000000    0.000000   14.454200\n",
       "75%     668.500000    3.000000   38.000000    1.000000    0.000000   31.000000\n",
       "max     891.000000    3.000000   80.000000    8.000000    6.000000  512.329200"
      ]
     },
     "execution_count": 309,
     "metadata": {},
     "output_type": "execute_result"
    }
   ],
   "source": [
    "df2.describe()"
   ]
  },
  {
   "cell_type": "markdown",
   "id": "064a7435",
   "metadata": {},
   "source": [
    "# Nettoyage des donnees et selection des fonctionalites"
   ]
  },
  {
   "cell_type": "code",
   "execution_count": 310,
   "id": "149fac19",
   "metadata": {},
   "outputs": [
    {
     "data": {
      "text/plain": [
       "PassengerId      0\n",
       "Survived         0\n",
       "Pclass           0\n",
       "Name             0\n",
       "Sex              0\n",
       "Age            177\n",
       "SibSp            0\n",
       "Parch            0\n",
       "Ticket           0\n",
       "Fare             0\n",
       "Cabin          687\n",
       "Embarked         2\n",
       "dtype: int64"
      ]
     },
     "execution_count": 310,
     "metadata": {},
     "output_type": "execute_result"
    }
   ],
   "source": [
    "#recherche de valeurs manquantes\n",
    "df2.isnull().sum()"
   ]
  },
  {
   "cell_type": "code",
   "execution_count": 311,
   "id": "34bf4837",
   "metadata": {},
   "outputs": [
    {
     "data": {
      "text/plain": [
       "0"
      ]
     },
     "execution_count": 311,
     "metadata": {},
     "output_type": "execute_result"
    }
   ],
   "source": [
    "#recherche de doublons\n",
    "df2.duplicated().sum()"
   ]
  },
  {
   "cell_type": "code",
   "execution_count": 312,
   "id": "707b5653",
   "metadata": {},
   "outputs": [
    {
     "name": "stdout",
     "output_type": "stream",
     "text": [
      "['Mr' 'Mrs' 'Miss' 'Dr' 'Major' 'Don' 'Master' 'Rev' 'Col' 'Mlle' 'Lady'\n",
      " 'Jonkheer' 'Mme' 'Sir' 'Capt' 'Countess' 'Ms']\n"
     ]
    }
   ],
   "source": [
    "#creation d'une colonne title\n",
    "df2['title'] = df2.Name.str.extract('([A-Za-z]+)\\.')\n",
    "print(df2['title'].unique())"
   ]
  },
  {
   "cell_type": "code",
   "execution_count": 313,
   "id": "e3d78eae",
   "metadata": {},
   "outputs": [],
   "source": [
    "#creation d'une colonne alone\n",
    "df2['alone'] = df2['SibSp'] + df2['Parch'] \n",
    "df2['alone'].loc[df2['alone'] > 0] = 'no'\n",
    "df2['alone'].loc[df2['alone'] == 0] = 'yes'"
   ]
  },
  {
   "cell_type": "code",
   "execution_count": 314,
   "id": "4c5ddf3e",
   "metadata": {},
   "outputs": [],
   "source": [
    "#Creation d'une colonne taille de la famille\n",
    "df2['family_size'] = df2['SibSp'] + df2['Parch'] + 1"
   ]
  },
  {
   "cell_type": "code",
   "execution_count": 315,
   "id": "2e55a56c",
   "metadata": {},
   "outputs": [
    {
     "data": {
      "text/html": [
       "<div>\n",
       "<style scoped>\n",
       "    .dataframe tbody tr th:only-of-type {\n",
       "        vertical-align: middle;\n",
       "    }\n",
       "\n",
       "    .dataframe tbody tr th {\n",
       "        vertical-align: top;\n",
       "    }\n",
       "\n",
       "    .dataframe thead th {\n",
       "        text-align: right;\n",
       "    }\n",
       "</style>\n",
       "<table border=\"1\" class=\"dataframe\">\n",
       "  <thead>\n",
       "    <tr style=\"text-align: right;\">\n",
       "      <th></th>\n",
       "      <th>PassengerId</th>\n",
       "      <th>Survived</th>\n",
       "      <th>Pclass</th>\n",
       "      <th>Name</th>\n",
       "      <th>Sex</th>\n",
       "      <th>Age</th>\n",
       "      <th>SibSp</th>\n",
       "      <th>Parch</th>\n",
       "      <th>Ticket</th>\n",
       "      <th>Fare</th>\n",
       "      <th>Cabin</th>\n",
       "      <th>Embarked</th>\n",
       "      <th>title</th>\n",
       "      <th>alone</th>\n",
       "      <th>family_size</th>\n",
       "      <th>gender</th>\n",
       "    </tr>\n",
       "  </thead>\n",
       "  <tbody>\n",
       "    <tr>\n",
       "      <th>0</th>\n",
       "      <td>343</td>\n",
       "      <td>No</td>\n",
       "      <td>2</td>\n",
       "      <td>Collander, Mr. Erik Gustaf</td>\n",
       "      <td>male</td>\n",
       "      <td>28.0</td>\n",
       "      <td>0</td>\n",
       "      <td>0</td>\n",
       "      <td>248740</td>\n",
       "      <td>13.0000</td>\n",
       "      <td>NaN</td>\n",
       "      <td>S</td>\n",
       "      <td>Mr</td>\n",
       "      <td>yes</td>\n",
       "      <td>1</td>\n",
       "      <td>adult</td>\n",
       "    </tr>\n",
       "    <tr>\n",
       "      <th>1</th>\n",
       "      <td>76</td>\n",
       "      <td>No</td>\n",
       "      <td>3</td>\n",
       "      <td>Moen, Mr. Sigurd Hansen</td>\n",
       "      <td>male</td>\n",
       "      <td>25.0</td>\n",
       "      <td>0</td>\n",
       "      <td>0</td>\n",
       "      <td>348123</td>\n",
       "      <td>7.6500</td>\n",
       "      <td>F G73</td>\n",
       "      <td>S</td>\n",
       "      <td>Mr</td>\n",
       "      <td>yes</td>\n",
       "      <td>1</td>\n",
       "      <td>adult</td>\n",
       "    </tr>\n",
       "    <tr>\n",
       "      <th>2</th>\n",
       "      <td>641</td>\n",
       "      <td>No</td>\n",
       "      <td>3</td>\n",
       "      <td>Jensen, Mr. Hans Peder</td>\n",
       "      <td>male</td>\n",
       "      <td>20.0</td>\n",
       "      <td>0</td>\n",
       "      <td>0</td>\n",
       "      <td>350050</td>\n",
       "      <td>7.8542</td>\n",
       "      <td>NaN</td>\n",
       "      <td>S</td>\n",
       "      <td>Mr</td>\n",
       "      <td>yes</td>\n",
       "      <td>1</td>\n",
       "      <td>young</td>\n",
       "    </tr>\n",
       "    <tr>\n",
       "      <th>3</th>\n",
       "      <td>568</td>\n",
       "      <td>No</td>\n",
       "      <td>3</td>\n",
       "      <td>Palsson, Mrs. Nils (Alma Cornelia Berglund)</td>\n",
       "      <td>female</td>\n",
       "      <td>29.0</td>\n",
       "      <td>0</td>\n",
       "      <td>4</td>\n",
       "      <td>349909</td>\n",
       "      <td>21.0750</td>\n",
       "      <td>NaN</td>\n",
       "      <td>S</td>\n",
       "      <td>Mrs</td>\n",
       "      <td>no</td>\n",
       "      <td>5</td>\n",
       "      <td>adult</td>\n",
       "    </tr>\n",
       "    <tr>\n",
       "      <th>4</th>\n",
       "      <td>672</td>\n",
       "      <td>No</td>\n",
       "      <td>1</td>\n",
       "      <td>Davidson, Mr. Thornton</td>\n",
       "      <td>male</td>\n",
       "      <td>31.0</td>\n",
       "      <td>1</td>\n",
       "      <td>0</td>\n",
       "      <td>F.C. 12750</td>\n",
       "      <td>52.0000</td>\n",
       "      <td>B71</td>\n",
       "      <td>S</td>\n",
       "      <td>Mr</td>\n",
       "      <td>no</td>\n",
       "      <td>2</td>\n",
       "      <td>adult</td>\n",
       "    </tr>\n",
       "  </tbody>\n",
       "</table>\n",
       "</div>"
      ],
      "text/plain": [
       "   PassengerId Survived  Pclass                                         Name  \\\n",
       "0          343       No       2                   Collander, Mr. Erik Gustaf   \n",
       "1           76       No       3                      Moen, Mr. Sigurd Hansen   \n",
       "2          641       No       3                       Jensen, Mr. Hans Peder   \n",
       "3          568       No       3  Palsson, Mrs. Nils (Alma Cornelia Berglund)   \n",
       "4          672       No       1                       Davidson, Mr. Thornton   \n",
       "\n",
       "      Sex   Age  SibSp  Parch      Ticket     Fare  Cabin Embarked title  \\\n",
       "0    male  28.0      0      0      248740  13.0000    NaN        S    Mr   \n",
       "1    male  25.0      0      0      348123   7.6500  F G73        S    Mr   \n",
       "2    male  20.0      0      0      350050   7.8542    NaN        S    Mr   \n",
       "3  female  29.0      0      4      349909  21.0750    NaN        S   Mrs   \n",
       "4    male  31.0      1      0  F.C. 12750  52.0000    B71        S    Mr   \n",
       "\n",
       "  alone  family_size gender  \n",
       "0   yes            1  adult  \n",
       "1   yes            1  adult  \n",
       "2   yes            1  young  \n",
       "3    no            5  adult  \n",
       "4    no            2  adult  "
      ]
     },
     "execution_count": 315,
     "metadata": {},
     "output_type": "execute_result"
    }
   ],
   "source": [
    "#Création d'une colonne definissant si la personne est [Enfant, Jeune_Ado, Adulte ou Ainé(Vieillard)]\n",
    "def cat_personne(passenger):\n",
    "  Age, gender = passenger\n",
    "  if Age >= 0 and Age <= 14:\n",
    "    return 'child'\n",
    "  elif Age >= 15 and Age <= 24:\n",
    "    return 'young'\n",
    "  elif Age >= 25 and Age <= 64:\n",
    "    return 'adult'\n",
    "  else:\n",
    "    return 'old_man'\n",
    "df2['gender'] = np.nan\n",
    "df2['gender'] = df2[['Age', 'gender']].apply(cat_personne, axis=1)\n",
    "df2.head() "
   ]
  },
  {
   "cell_type": "code",
   "execution_count": 316,
   "id": "c30ea329",
   "metadata": {},
   "outputs": [],
   "source": [
    "#remplacer les valeurs manquantes de la variable âge\n",
    "df2['Age'].fillna(df2['Age'].median(0),inplace=True)\n",
    "df2['Age']= df2['Age'].astype(float).astype(int)"
   ]
  },
  {
   "cell_type": "code",
   "execution_count": 317,
   "id": "7c19b9e4",
   "metadata": {},
   "outputs": [],
   "source": [
    "#remplacer les valeurs manquantes de la variable Embarked\n",
    "df2['Embarked'].fillna('S',inplace=True)\n",
    "#remplacer les valeurs manquantes de la variable Cabin\n",
    "df2['Cabin'].fillna('G6',inplace=True)"
   ]
  },
  {
   "cell_type": "code",
   "execution_count": 318,
   "id": "c9490bd8",
   "metadata": {},
   "outputs": [],
   "source": [
    "#conversion de la variable sex de type objet en numerique\n",
    "cleanup_nums = {\n",
    "    \"Sex\" : {\"male\" : 1,\"female\" : 0} \n",
    "}\n",
    "df2.replace(cleanup_nums, inplace= True)"
   ]
  },
  {
   "cell_type": "code",
   "execution_count": 319,
   "id": "49122b58",
   "metadata": {},
   "outputs": [
    {
     "data": {
      "text/html": [
       "<div>\n",
       "<style scoped>\n",
       "    .dataframe tbody tr th:only-of-type {\n",
       "        vertical-align: middle;\n",
       "    }\n",
       "\n",
       "    .dataframe tbody tr th {\n",
       "        vertical-align: top;\n",
       "    }\n",
       "\n",
       "    .dataframe thead th {\n",
       "        text-align: right;\n",
       "    }\n",
       "</style>\n",
       "<table border=\"1\" class=\"dataframe\">\n",
       "  <thead>\n",
       "    <tr style=\"text-align: right;\">\n",
       "      <th></th>\n",
       "      <th>Survived</th>\n",
       "      <th>Pclass</th>\n",
       "      <th>Sex</th>\n",
       "      <th>Age</th>\n",
       "      <th>title</th>\n",
       "      <th>alone</th>\n",
       "      <th>family_size</th>\n",
       "      <th>gender</th>\n",
       "    </tr>\n",
       "  </thead>\n",
       "  <tbody>\n",
       "    <tr>\n",
       "      <th>0</th>\n",
       "      <td>No</td>\n",
       "      <td>2</td>\n",
       "      <td>1</td>\n",
       "      <td>28</td>\n",
       "      <td>Mr</td>\n",
       "      <td>yes</td>\n",
       "      <td>1</td>\n",
       "      <td>adult</td>\n",
       "    </tr>\n",
       "    <tr>\n",
       "      <th>1</th>\n",
       "      <td>No</td>\n",
       "      <td>3</td>\n",
       "      <td>1</td>\n",
       "      <td>25</td>\n",
       "      <td>Mr</td>\n",
       "      <td>yes</td>\n",
       "      <td>1</td>\n",
       "      <td>adult</td>\n",
       "    </tr>\n",
       "    <tr>\n",
       "      <th>2</th>\n",
       "      <td>No</td>\n",
       "      <td>3</td>\n",
       "      <td>1</td>\n",
       "      <td>20</td>\n",
       "      <td>Mr</td>\n",
       "      <td>yes</td>\n",
       "      <td>1</td>\n",
       "      <td>young</td>\n",
       "    </tr>\n",
       "    <tr>\n",
       "      <th>3</th>\n",
       "      <td>No</td>\n",
       "      <td>3</td>\n",
       "      <td>0</td>\n",
       "      <td>29</td>\n",
       "      <td>Mrs</td>\n",
       "      <td>no</td>\n",
       "      <td>5</td>\n",
       "      <td>adult</td>\n",
       "    </tr>\n",
       "    <tr>\n",
       "      <th>4</th>\n",
       "      <td>No</td>\n",
       "      <td>1</td>\n",
       "      <td>1</td>\n",
       "      <td>31</td>\n",
       "      <td>Mr</td>\n",
       "      <td>no</td>\n",
       "      <td>2</td>\n",
       "      <td>adult</td>\n",
       "    </tr>\n",
       "  </tbody>\n",
       "</table>\n",
       "</div>"
      ],
      "text/plain": [
       "  Survived  Pclass  Sex  Age title alone  family_size gender\n",
       "0       No       2    1   28    Mr   yes            1  adult\n",
       "1       No       3    1   25    Mr   yes            1  adult\n",
       "2       No       3    1   20    Mr   yes            1  young\n",
       "3       No       3    0   29   Mrs    no            5  adult\n",
       "4       No       1    1   31    Mr    no            2  adult"
      ]
     },
     "execution_count": 319,
     "metadata": {},
     "output_type": "execute_result"
    }
   ],
   "source": [
    "df2.drop(['Name','Ticket','Fare','PassengerId','Cabin','SibSp','Parch','Embarked'], axis=1, inplace=True)\n",
    "df2.head()"
   ]
  },
  {
   "cell_type": "code",
   "execution_count": 320,
   "id": "047a2ff3",
   "metadata": {},
   "outputs": [],
   "source": [
    "#conversion de la variable alone de type objet en numerique\n",
    "cleanup_nums = {\n",
    "    \"alone\" : {\"yes\" : 1,\"no\" : 0} \n",
    "}\n",
    "df2.replace(cleanup_nums, inplace= True)"
   ]
  },
  {
   "cell_type": "code",
   "execution_count": 321,
   "id": "2b8e538e",
   "metadata": {},
   "outputs": [],
   "source": [
    "#conversion de la variable title de type objet en numerique\n",
    "cleanup_nums = {\n",
    "    \"title\" : {'Mr': 0, 'Mrs': 1,'Miss' : 2, 'Dr' : 3,'Major' : 4, 'Don' : 5,'Master' :6, 'Rev': 7, 'Col': 8, 'Mlle':9,'Lady': 10,\n",
    " 'Jonkheer' :11, 'Mme' : 12, 'Sir': 13, 'Capt': 14, 'Countess' : 15, 'Ms': 16} \n",
    "}\n",
    "df2.replace(cleanup_nums, inplace= True)"
   ]
  },
  {
   "cell_type": "code",
   "execution_count": 322,
   "id": "d84d019c",
   "metadata": {},
   "outputs": [],
   "source": [
    "#conversion de la variable gender de type objet en numerique\n",
    "cleanup_nums = {\n",
    "    \"gender\" : {'adult': 0, 'young': 1,'child' : 2, 'old_man' : 3} \n",
    "}\n",
    "df2.replace(cleanup_nums, inplace= True)"
   ]
  },
  {
   "cell_type": "code",
   "execution_count": 323,
   "id": "491c2781",
   "metadata": {},
   "outputs": [],
   "source": [
    "df3 = df2.copy()\n",
    "df4 = df2.copy()"
   ]
  },
  {
   "cell_type": "markdown",
   "id": "9787f049",
   "metadata": {},
   "source": [
    "# Préparation des données de régression logistique"
   ]
  },
  {
   "cell_type": "code",
   "execution_count": 324,
   "id": "546d8bd6",
   "metadata": {},
   "outputs": [
    {
     "data": {
      "text/html": [
       "<div>\n",
       "<style scoped>\n",
       "    .dataframe tbody tr th:only-of-type {\n",
       "        vertical-align: middle;\n",
       "    }\n",
       "\n",
       "    .dataframe tbody tr th {\n",
       "        vertical-align: top;\n",
       "    }\n",
       "\n",
       "    .dataframe thead th {\n",
       "        text-align: right;\n",
       "    }\n",
       "</style>\n",
       "<table border=\"1\" class=\"dataframe\">\n",
       "  <thead>\n",
       "    <tr style=\"text-align: right;\">\n",
       "      <th></th>\n",
       "      <th>Survived</th>\n",
       "      <th>Pclass</th>\n",
       "      <th>Sex</th>\n",
       "      <th>Age</th>\n",
       "      <th>title</th>\n",
       "      <th>alone</th>\n",
       "      <th>family_size</th>\n",
       "      <th>gender</th>\n",
       "    </tr>\n",
       "  </thead>\n",
       "  <tbody>\n",
       "    <tr>\n",
       "      <th>0</th>\n",
       "      <td>0</td>\n",
       "      <td>2</td>\n",
       "      <td>1</td>\n",
       "      <td>28</td>\n",
       "      <td>0</td>\n",
       "      <td>1</td>\n",
       "      <td>1</td>\n",
       "      <td>0</td>\n",
       "    </tr>\n",
       "    <tr>\n",
       "      <th>1</th>\n",
       "      <td>0</td>\n",
       "      <td>3</td>\n",
       "      <td>1</td>\n",
       "      <td>25</td>\n",
       "      <td>0</td>\n",
       "      <td>1</td>\n",
       "      <td>1</td>\n",
       "      <td>0</td>\n",
       "    </tr>\n",
       "    <tr>\n",
       "      <th>2</th>\n",
       "      <td>0</td>\n",
       "      <td>3</td>\n",
       "      <td>1</td>\n",
       "      <td>20</td>\n",
       "      <td>0</td>\n",
       "      <td>1</td>\n",
       "      <td>1</td>\n",
       "      <td>1</td>\n",
       "    </tr>\n",
       "    <tr>\n",
       "      <th>3</th>\n",
       "      <td>0</td>\n",
       "      <td>3</td>\n",
       "      <td>0</td>\n",
       "      <td>29</td>\n",
       "      <td>1</td>\n",
       "      <td>0</td>\n",
       "      <td>5</td>\n",
       "      <td>0</td>\n",
       "    </tr>\n",
       "    <tr>\n",
       "      <th>4</th>\n",
       "      <td>0</td>\n",
       "      <td>1</td>\n",
       "      <td>1</td>\n",
       "      <td>31</td>\n",
       "      <td>0</td>\n",
       "      <td>0</td>\n",
       "      <td>2</td>\n",
       "      <td>0</td>\n",
       "    </tr>\n",
       "  </tbody>\n",
       "</table>\n",
       "</div>"
      ],
      "text/plain": [
       "   Survived  Pclass  Sex  Age  title  alone  family_size  gender\n",
       "0         0       2    1   28      0      1            1       0\n",
       "1         0       3    1   25      0      1            1       0\n",
       "2         0       3    1   20      0      1            1       1\n",
       "3         0       3    0   29      1      0            5       0\n",
       "4         0       1    1   31      0      0            2       0"
      ]
     },
     "execution_count": 324,
     "metadata": {},
     "output_type": "execute_result"
    }
   ],
   "source": [
    "#preparation des donnees de regression logistique\n",
    "df2[\"Survived\"]=df2[\"Survived\"].map({\"Yes\": 1, \"No\": 0})\n",
    "df2.head()"
   ]
  },
  {
   "cell_type": "code",
   "execution_count": 325,
   "id": "9bd4dce3",
   "metadata": {},
   "outputs": [],
   "source": [
    "x = df2.drop('Survived', axis=1)\n",
    "y = df2['Survived']\n",
    "x_train,x_test,y_train,y_test = train_test_split(x,y,test_size=0.2,random_state=30)"
   ]
  },
  {
   "cell_type": "code",
   "execution_count": 326,
   "id": "e3b5cade",
   "metadata": {},
   "outputs": [
    {
     "name": "stdout",
     "output_type": "stream",
     "text": [
      "[0 0 1 1 0 0 1 0 0 0 1 0 0 1 0 0 0 0 1 0 1 0 0 1 0 0 1 0 0 0 1 0 0 0 0 0 0\n",
      " 0 1 1 0 1 0 0 0 0 0 1 1 0 0 0 0 0 1 1 0 0 0 1 0 1 0 0 1 0 0 0 0 0 1 0 1 0\n",
      " 0 1 0 1 0 0 0 1 1 0 0 1 1 1 1 1 0 1 0 1 0 1 1 0 0 0 0 1 0 0 1 0 0 0 1 0 1\n",
      " 0 1 0 0 0 0 1 1 0 0 0 0 1 0 0 0 0 0 0 1 0 0 0 0 0 0 0 1 1 0 1 0 1 1 0 0 1\n",
      " 0 1 1 0 0 1 0 1 0 0 0 1 1 1 0 0 0 0 1 0 0 0 0 0 1 0 1 0 1 0 1]\n",
      "Accuracy=0.77\n",
      " prediction : 76.53631284916202 \n",
      "              precision    recall  f1-score   support\n",
      "\n",
      "           0       0.74      0.88      0.81        99\n",
      "           1       0.81      0.62      0.70        80\n",
      "\n",
      "    accuracy                           0.77       179\n",
      "   macro avg       0.78      0.75      0.75       179\n",
      "weighted avg       0.77      0.77      0.76       179\n",
      "\n"
     ]
    }
   ],
   "source": [
    "# creation du modele de regression logistiaue\n",
    "logreg = LogisticRegression()   \n",
    "logreg.fit(x_train, y_train)  \n",
    "y_pred  = logreg.predict(x_test)  \n",
    "print(y_pred)\n",
    "print(\"Accuracy={:.2f}\".format(logreg.score(x_test, y_test)))\n",
    "print(\" prediction : {} \" .format(accuracy_score(y_test, y_pred)* 100))\n",
    "print(classification_report(y_test,y_pred))"
   ]
  },
  {
   "cell_type": "code",
   "execution_count": 327,
   "id": "10058928",
   "metadata": {},
   "outputs": [
    {
     "data": {
      "text/plain": [
       "<AxesSubplot:xlabel='Predicted', ylabel='Actual'>"
      ]
     },
     "execution_count": 327,
     "metadata": {},
     "output_type": "execute_result"
    },
    {
     "data": {
      "image/png": "[encoded data removed]",
      "text/plain": [
       "<Figure size 432x288 with 2 Axes>"
      ]
     },
     "metadata": {
      "needs_background": "light"
     },
     "output_type": "display_data"
    }
   ],
   "source": [
    "confusion_matrix = pd.crosstab(y_test, y_pred, rownames=['Actual'], colnames=['Predicted'])\n",
    "sns.heatmap(confusion_matrix, annot=True, xticklabels=['not_Survived', 'Survived'], yticklabels=['not_Survived', 'Survived'])"
   ]
  },
  {
   "cell_type": "markdown",
   "id": "39c36ada",
   "metadata": {},
   "source": [
    "#La matrice de confusion montre le total des détails des données X_test comme suit:\n",
    "TP = vrais positifs = 54\n",
    "TN = vrais négatifs = 87\n",
    "FP = faux positifs = 13\n",
    "FN = faux négatifs = 25\n",
    "\n",
    "#La sensibilité nous indique quelle proportion de la classe positive a été correctement classée.\n",
    "\n",
    "sensibilité// Taux de positivité réelle / Rappel = TP / (TP + FN) = 54/79 = 0.68\n",
    "\n",
    "La proportion de personnes réelles qui ont survecues  qui a été correctement détectée par le modèle.\n",
    "\n",
    "#Taux de faux négatifs\n",
    "\n",
    "Le taux de faux négatifs (FNR) nous indique quelle proportion de la classe positive a été mal classée par le classificateur.\n",
    "\n",
    "FNR =  FN / (TP + FN) = 25/79= 0.31\n",
    "\n",
    "Un TPR plus élevé et un FNR plus faible sont souhaitables car nous voulons classer correctement la classe positive.\n",
    "\n",
    "#Spécificité / Taux négatif réel\n",
    "Formule de spécificité\n",
    "TNR = TN / (TN + FP) = 130/143 =0.90\n",
    "La spécificité nous indique quelle proportion de la classe négative a été correctement classée.\n",
    "\n",
    "Taux de faux positifs\n",
    "\n",
    "FPR nous indique quelle proportion de la classe négative a été mal classée par le classificateur.\n",
    "\n",
    "FPR = 1 - TNR = 1-0.90 = 0.10\n",
    "\n",
    "Un TNR plus élevé et un FPR plus faible sont souhaitables car nous voulons classer correctement la classe négative.\n",
    "\n",
    "#Ainsi, la précision totale selon la confusion_matrix est:\n",
    "#Précision = (TP + TN) / Total = (54 + 61) / 223 = 0,825\n",
    "\n"
   ]
  },
  {
   "cell_type": "markdown",
   "id": "b499d7fb",
   "metadata": {},
   "source": [
    "Maintenant, nous allons contre-vérifier le résultat par impression.\n",
    "Donc, nous imprimons simplement les 5 premiers éléments du X_test et\n",
    "du y_test  en utilisant la fonction head pandas.\n",
    "Ensuite, nous imprimons également les 5 premiers résultats des prédictions \n",
    "comme indiqué ci-dessous:"
   ]
  },
  {
   "cell_type": "code",
   "execution_count": 328,
   "id": "67c72530",
   "metadata": {},
   "outputs": [
    {
     "data": {
      "text/html": [
       "<div>\n",
       "<style scoped>\n",
       "    .dataframe tbody tr th:only-of-type {\n",
       "        vertical-align: middle;\n",
       "    }\n",
       "\n",
       "    .dataframe tbody tr th {\n",
       "        vertical-align: top;\n",
       "    }\n",
       "\n",
       "    .dataframe thead th {\n",
       "        text-align: right;\n",
       "    }\n",
       "</style>\n",
       "<table border=\"1\" class=\"dataframe\">\n",
       "  <thead>\n",
       "    <tr style=\"text-align: right;\">\n",
       "      <th></th>\n",
       "      <th>Pclass</th>\n",
       "      <th>Sex</th>\n",
       "      <th>Age</th>\n",
       "      <th>title</th>\n",
       "      <th>alone</th>\n",
       "      <th>family_size</th>\n",
       "      <th>gender</th>\n",
       "    </tr>\n",
       "  </thead>\n",
       "  <tbody>\n",
       "    <tr>\n",
       "      <th>417</th>\n",
       "      <td>1</td>\n",
       "      <td>1</td>\n",
       "      <td>36</td>\n",
       "      <td>0</td>\n",
       "      <td>0</td>\n",
       "      <td>4</td>\n",
       "      <td>0</td>\n",
       "    </tr>\n",
       "    <tr>\n",
       "      <th>307</th>\n",
       "      <td>3</td>\n",
       "      <td>1</td>\n",
       "      <td>31</td>\n",
       "      <td>0</td>\n",
       "      <td>1</td>\n",
       "      <td>1</td>\n",
       "      <td>0</td>\n",
       "    </tr>\n",
       "    <tr>\n",
       "      <th>87</th>\n",
       "      <td>1</td>\n",
       "      <td>0</td>\n",
       "      <td>36</td>\n",
       "      <td>2</td>\n",
       "      <td>0</td>\n",
       "      <td>3</td>\n",
       "      <td>0</td>\n",
       "    </tr>\n",
       "    <tr>\n",
       "      <th>577</th>\n",
       "      <td>2</td>\n",
       "      <td>0</td>\n",
       "      <td>8</td>\n",
       "      <td>2</td>\n",
       "      <td>0</td>\n",
       "      <td>3</td>\n",
       "      <td>2</td>\n",
       "    </tr>\n",
       "    <tr>\n",
       "      <th>684</th>\n",
       "      <td>3</td>\n",
       "      <td>1</td>\n",
       "      <td>28</td>\n",
       "      <td>0</td>\n",
       "      <td>1</td>\n",
       "      <td>1</td>\n",
       "      <td>3</td>\n",
       "    </tr>\n",
       "  </tbody>\n",
       "</table>\n",
       "</div>"
      ],
      "text/plain": [
       "     Pclass  Sex  Age  title  alone  family_size  gender\n",
       "417       1    1   36      0      0            4       0\n",
       "307       3    1   31      0      1            1       0\n",
       "87        1    0   36      2      0            3       0\n",
       "577       2    0    8      2      0            3       2\n",
       "684       3    1   28      0      1            1       3"
      ]
     },
     "execution_count": 328,
     "metadata": {},
     "output_type": "execute_result"
    }
   ],
   "source": [
    "x_test.head()"
   ]
  },
  {
   "cell_type": "code",
   "execution_count": 329,
   "id": "98da3699",
   "metadata": {},
   "outputs": [
    {
     "data": {
      "text/plain": [
       "417    1\n",
       "307    0\n",
       "87     1\n",
       "577    1\n",
       "684    0\n",
       "Name: Survived, dtype: int64"
      ]
     },
     "execution_count": 329,
     "metadata": {},
     "output_type": "execute_result"
    }
   ],
   "source": [
    "y_test.head()"
   ]
  },
  {
   "cell_type": "code",
   "execution_count": 330,
   "id": "86e37bf6",
   "metadata": {},
   "outputs": [
    {
     "data": {
      "text/plain": [
       "array([0, 0, 1, 1, 0], dtype=int64)"
      ]
     },
     "execution_count": 330,
     "metadata": {},
     "output_type": "execute_result"
    }
   ],
   "source": [
    "y_pred[:5]"
   ]
  },
  {
   "cell_type": "markdown",
   "id": "08992c67",
   "metadata": {},
   "source": [
    "# Validation pour la classification est ROC / AUC"
   ]
  },
  {
   "cell_type": "markdown",
   "id": "29033a4f",
   "metadata": {},
   "source": [
    "Une fois que nous avons créé le modèle. Il est très important d’évaluer\n",
    "la précision du modèle pour comprendre s’il est important de le mettre en œuvre ou non. \n",
    "La courbe ROC est l’une des méthodes d’évaluation importantes.\n",
    "La courbe ROC est une courbe de probabilité qui trace le taux de vrais positifs par\n",
    "rapport au taux de faux positifs. \n",
    "Ici, le taux de vrais positifs est le nombre de prédictions où le modèle a réussi à prédire correctement le résultat."
   ]
  },
  {
   "cell_type": "code",
   "execution_count": 331,
   "id": "81f5ff0b",
   "metadata": {},
   "outputs": [
    {
     "data": {
      "image/png": "[encoded data removed]",
      "text/plain": [
       "<Figure size 432x288 with 1 Axes>"
      ]
     },
     "metadata": {
      "needs_background": "light"
     },
     "output_type": "display_data"
    }
   ],
   "source": [
    "#roc curve and auc\n",
    "logit_roc_auc = roc_auc_score(y_test, logreg.predict(x_test) )\n",
    "fpr , tpr , thresholds = roc_curve(y_test, logreg.predict_proba(x_test)[:,1] )\n",
    "plt.figure()\n",
    "plt.plot(fpr, tpr, label='Regression Logistique (AUC =%0.2f)' % logit_roc_auc)\n",
    "plt.plot([0,1], [0,1],'r--')\n",
    "plt.xlim([0.0, 1.0])\n",
    "plt.ylim([0.0, 1.05])\n",
    "plt.xlabel('Taux de faux positifs')\n",
    "plt.ylabel('Taux de vrais positifs')\n",
    "plt.title('Receiver Operating Characteristic')\n",
    "plt.legend(loc=\"lower right\")\n",
    "plt.show()"
   ]
  },
  {
   "cell_type": "markdown",
   "id": "6011ddae",
   "metadata": {},
   "source": [
    "Si le TPR est plus proche de 1, cela montre que c’est un très bon modèle.\n",
    "Le modèle est capable de distinguer correctement les résultats positifs des résultats négatifs.\n",
    "Si le TPR est de 0,5, cela montre que le modèle est aussi bon qu’une supposition.\n",
    "Si le TPR est inférieur à 0,5, cela montre que le modèle prédit des valeurs positives \n",
    "comme négatives et des valeurs négatives comme positives.\n",
    "\n",
    "ICI L'AUC = 0.75 : Cela montre que c'est un très bon modèle. car le modèle a ete capable de predire correctement à 75% le resulat."
   ]
  },
  {
   "cell_type": "markdown",
   "id": "69a6efb0",
   "metadata": {},
   "source": [
    "# Partie 2 KNN\n",
    "\n",
    "    Appliquez le KNN et prédisez votre modèle\n",
    "\n",
    "    Choisissez le nombre optimal de voisins\n"
   ]
  },
  {
   "cell_type": "raw",
   "id": "8b34f2cf",
   "metadata": {},
   "source": [
    "# Appliquez le KNN et prédisez votre modèle"
   ]
  },
  {
   "cell_type": "code",
   "execution_count": 332,
   "id": "b48a7e5c",
   "metadata": {},
   "outputs": [
    {
     "name": "stdout",
     "output_type": "stream",
     "text": [
      "Accuracy= 0.7094972067039106\n",
      " prediction : 70.94972067039106 \n"
     ]
    }
   ],
   "source": [
    "# KNN\n",
    "knn=KNeighborsClassifier(n_neighbors=5)\n",
    "knn.fit(x_train,y_train) \n",
    "y_pred=knn.predict(x_test)\n",
    "print('Accuracy=',accuracy_score(y_pred,y_test))\n",
    "print(\" prediction : {} \" .format(accuracy_score(y_test, y_pred)* 100))"
   ]
  },
  {
   "cell_type": "markdown",
   "id": "4291eea7",
   "metadata": {},
   "source": [
    "Choisissez le nombre optimal de voisins"
   ]
  },
  {
   "cell_type": "code",
   "execution_count": 333,
   "id": "202b1961",
   "metadata": {},
   "outputs": [
    {
     "name": "stdout",
     "output_type": "stream",
     "text": [
      "Accuracy for k= 1 is: 0.69\n",
      "Accuracy for k= 2 is: 0.66\n",
      "Accuracy for k= 3 is: 0.69\n",
      "Accuracy for k= 4 is: 0.67\n",
      "Accuracy for k= 5 is: 0.69\n",
      "Accuracy for k= 6 is: 0.68\n",
      "Accuracy for k= 7 is: 0.71\n",
      "Accuracy for k= 8 is: 0.69\n",
      "Accuracy for k= 9 is: 0.7\n",
      "Accuracy for k= 10 is: 0.7\n",
      "Accuracy for k= 11 is: 0.71\n",
      "Accuracy for k= 12 is: 0.69\n",
      "Accuracy for k= 13 is: 0.71\n",
      "Accuracy for k= 14 is: 0.7\n",
      "Accuracy for k= 15 is: 0.74\n",
      "Accuracy for k= 16 is: 0.72\n",
      "Accuracy for k= 17 is: 0.73\n",
      "Accuracy for k= 18 is: 0.7\n",
      "Accuracy for k= 19 is: 0.73\n",
      "Accuracy for k= 20 is: 0.71\n",
      "Accuracy for k= 21 is: 0.73\n",
      "Accuracy for k= 22 is: 0.71\n",
      "Accuracy for k= 23 is: 0.71\n",
      "Accuracy for k= 24 is: 0.7\n",
      "Accuracy for k= 25 is: 0.71\n",
      "Accuracy for k= 26 is: 0.69\n",
      "Accuracy for k= 27 is: 0.73\n",
      "Accuracy for k= 28 is: 0.7\n",
      "Accuracy for k= 29 is: 0.75\n"
     ]
    }
   ],
   "source": [
    "n_neighbors=30\n",
    "scores=[]\n",
    "for k in range(1,30):\n",
    "    knn=KNeighborsClassifier(n_neighbors-k)\n",
    "    knn.fit(x_train,y_train)\n",
    "    y_pred=knn.predict(x_test)\n",
    "    print('Accuracy for k=',k,'is:',round(accuracy_score(y_pred,y_test),2))\n",
    "    scores.append(round(accuracy_score(y_pred,y_test),2))"
   ]
  },
  {
   "cell_type": "code",
   "execution_count": 334,
   "id": "ecac9b8a",
   "metadata": {},
   "outputs": [
    {
     "data": {
      "text/plain": [
       "Text(0, 0.5, 'Testing Accuracy')"
      ]
     },
     "execution_count": 334,
     "metadata": {},
     "output_type": "execute_result"
    },
    {
     "data": {
      "image/png": "[encoded data removed]",
      "text/plain": [
       "<Figure size 432x288 with 1 Axes>"
      ]
     },
     "metadata": {
      "needs_background": "light"
     },
     "output_type": "display_data"
    }
   ],
   "source": [
    "import matplotlib.pyplot as plt\n",
    "plt.plot(range(1,30),scores)\n",
    "plt.xlabel('Value K for KNN')\n",
    "plt.ylabel('Testing Accuracy')"
   ]
  },
  {
   "cell_type": "markdown",
   "id": "0fe8ce3e",
   "metadata": {},
   "source": [
    "le nombre optimal de voisins est de 7."
   ]
  },
  {
   "cell_type": "markdown",
   "id": "350ada20",
   "metadata": {},
   "source": [
    "# Partie 3 : Arbre de décision et forêt aléatoire"
   ]
  },
  {
   "cell_type": "code",
   "execution_count": 335,
   "id": "24b4a2a8",
   "metadata": {},
   "outputs": [
    {
     "name": "stdout",
     "output_type": "stream",
     "text": [
      "score:0.8044692737430168\n",
      " prediction : 80.44692737430168 \n"
     ]
    }
   ],
   "source": [
    "#ARBRE DE DECISION\n",
    "tree = DecisionTreeClassifier()  \n",
    "tree.fit(x_train, y_train)   \n",
    "y_pred=tree.predict(x_test)   \n",
    "print(\"score:{}\".format(accuracy_score(y_test, y_pred)))\n",
    "print(\" prediction : {} \" .format(accuracy_score(y_test, y_pred)* 100))"
   ]
  },
  {
   "cell_type": "code",
   "execution_count": 337,
   "id": "c6ecc124",
   "metadata": {},
   "outputs": [
    {
     "data": {
      "image/png": "[encoded data removed]",
      "text/plain": [
       "<Figure size 864x576 with 1 Axes>"
      ]
     },
     "metadata": {
      "needs_background": "light"
     },
     "output_type": "display_data"
    }
   ],
   "source": [
    "plt.figure(figsize = (12,8))\n",
    "plot_tree(tree)\n",
    "plt.show()"
   ]
  },
  {
   "cell_type": "code",
   "execution_count": 338,
   "id": "ad08cbed",
   "metadata": {},
   "outputs": [
    {
     "name": "stdout",
     "output_type": "stream",
     "text": [
      "score:0.7597765363128491\n",
      " prediction : 75.97765363128491 \n"
     ]
    }
   ],
   "source": [
    "#ARBRE DE DECISION avec changement de trois parametres (splitter,max_depth,max_leaf_nodes)\n",
    "tree = DecisionTreeClassifier(criterion= 'gini',splitter='random', max_depth=5, min_samples_leaf=5,max_leaf_nodes=10)  \n",
    "tree.fit(x_train, y_train)   \n",
    "y_pred=tree.predict(x_test)   \n",
    "print(\"score:{}\".format(accuracy_score(y_test, y_pred)))\n",
    "print(\" prediction : {} \" .format(accuracy_score(y_test, y_pred)* 100))"
   ]
  },
  {
   "cell_type": "code",
   "execution_count": 339,
   "id": "86fed5b0",
   "metadata": {},
   "outputs": [
    {
     "data": {
      "image/png": "[encoded data removed]",
      "text/plain": [
       "<Figure size 1440x576 with 1 Axes>"
      ]
     },
     "metadata": {
      "needs_background": "light"
     },
     "output_type": "display_data"
    }
   ],
   "source": [
    "plt.figure(figsize = (20,8))\n",
    "plot_tree(tree)\n",
    "plt.show()"
   ]
  },
  {
   "cell_type": "markdown",
   "id": "6f40116a",
   "metadata": {},
   "source": [
    "NB : essayez de lire les branches de l’arbre et de conclure une prédiction manuellement.\n",
    "    je n'ai pas ete capable de le faire"
   ]
  },
  {
   "cell_type": "code",
   "execution_count": 340,
   "id": "34f8f100",
   "metadata": {},
   "outputs": [
    {
     "name": "stdout",
     "output_type": "stream",
     "text": [
      "Score Random Forest :  0.8044692737430168\n"
     ]
    }
   ],
   "source": [
    "# Random Forest\n",
    "rf = RandomForestClassifier(n_estimators=100)\n",
    "rf.fit(x_train, y_train)\n",
    "rf_pred = rf.predict(x_test)\n",
    "print(\"Score Random Forest : \", metrics.accuracy_score(rf_pred, y_test))"
   ]
  },
  {
   "cell_type": "code",
   "execution_count": 341,
   "id": "d7dbc0d6",
   "metadata": {},
   "outputs": [
    {
     "name": "stdout",
     "output_type": "stream",
     "text": [
      "Score Random Forest :  0.8100558659217877\n"
     ]
    }
   ],
   "source": [
    "# Random Forest avec n_estimators=150\n",
    "rf = RandomForestClassifier(n_estimators=150)\n",
    "rf.fit(x_train, y_train)\n",
    "rf_pred = rf.predict(x_test)\n",
    "print(\"Score Random Forest : \", metrics.accuracy_score(rf_pred, y_test))"
   ]
  },
  {
   "cell_type": "markdown",
   "id": "3094fe9c",
   "metadata": {},
   "source": [
    "les deux scores sont quasiment identiques 0.80 et 0.81"
   ]
  },
  {
   "cell_type": "markdown",
   "id": "e0977b76",
   "metadata": {},
   "source": [
    "un graphique récapitulatif qui reprend toutes les précisions de chaque modèle\n",
    "(régression logistique, knn Arbre de décision et forêt aléatoire) \n",
    "pour décider quel modèle est le plus performant."
   ]
  },
  {
   "cell_type": "code",
   "execution_count": 345,
   "id": "7d683f7b",
   "metadata": {},
   "outputs": [
    {
     "data": {
      "text/plain": [
       "<matplotlib.legend.Legend at 0xd0b5ae3970>"
      ]
     },
     "execution_count": 345,
     "metadata": {},
     "output_type": "execute_result"
    },
    {
     "data": {
      "image/png": "[encoded data removed]",
      "text/plain": [
       "<Figure size 432x288 with 1 Axes>"
      ]
     },
     "metadata": {
      "needs_background": "light"
     },
     "output_type": "display_data"
    }
   ],
   "source": [
    "faux_positifs_logreg, vrais_positifs_logreg, seuil_logreg = roc_curve(y_test, logreg.predict_proba(x_test)[:,1])\n",
    "plt.plot(faux_positifs_logreg, vrais_positifs_logreg, label=\"Régression logistique\")\n",
    "faux_positifs_knn, vrais_positifs_knn, seuil_knn = roc_curve(y_test, knn.predict_proba(x_test)[:,1])\n",
    "plt.plot(faux_positifs_knn, vrais_positifs_knn, label=\"KNN\")\n",
    "faux_positifs_tr, vrais_positifs_tr, seuil_tr = roc_curve(y_test, tree.predict_proba(x_test)[:,1])\n",
    "plt.plot(faux_positifs_tr, vrais_positifs_tr, label=\"Arbre de décision\")\n",
    "faux_positifs_rf, vrais_positifs_rf, seuil_rf = roc_curve(y_test, rf.predict_proba(x_test)[:,1])\n",
    "plt.plot(faux_positifs_rf, vrais_positifs_rf, label=\"forêt aléatoire\")\n",
    "plt.xlabel (\"Faux positifs\")\n",
    "plt.ylabel (\"Vrais positifs\")\n",
    "plt.legend ()\n",
    "#print (\"AUC Reg. logistique: \",metrics.auc(faux_positifs_logreg, vrais_positifs_logreg))\n",
    "#print (\"AUC Knn: \",metrics.auc(faux_positifs_knn, vrais_positifs_knn))\n",
    "#print (\"AUC Arbre de décision: \",metrics.auc(faux_positifs_tr, vrais_positifs_tr))\n",
    "#print (\"AUC forêt aléatoire: \",metrics.auc(faux_positifs_rf, vrais_positifs_rf))"
   ]
  },
  {
   "cell_type": "markdown",
   "id": "d8599172",
   "metadata": {},
   "source": [
    "le modèle le plus performant est la forêt aléatoire"
   ]
  }
 ],
 "metadata": {
  "kernelspec": {
   "display_name": "Python 3 (ipykernel)",
   "language": "python",
   "name": "python3"
  },
  "language_info": {
   "codemirror_mode": {
    "name": "ipython",
    "version": 3
   },
   "file_extension": ".py",
   "mimetype": "text/x-python",
   "name": "python",
   "nbconvert_exporter": "python",
   "pygments_lexer": "ipython3",
   "version": "3.9.7"
  }
 },
 "nbformat": 4,
 "nbformat_minor": 5
}
