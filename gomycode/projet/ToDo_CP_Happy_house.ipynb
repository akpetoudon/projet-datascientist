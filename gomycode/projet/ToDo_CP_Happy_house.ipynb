{
 "cells": [
  {
   "cell_type": "markdown",
   "metadata": {
    "colab_type": "text",
    "id": "2th5H5b1hbcS"
   },
   "source": [
    "# If you happy and I know it you can enter my House \n",
    "\n",
    "You'll see how you can in a couple of hours build a deep learning algorithm."
   ]
  },
  {
   "cell_type": "code",
   "execution_count": 69,
   "metadata": {},
   "outputs": [
    {
     "name": "stdout",
     "output_type": "stream",
     "text": [
      "Note: you may need to restart the kernel to use updated packages.Requirement already satisfied: pydot in c:\\users\\zigui oumaro\\anaconda3\\lib\\site-packages (1.4.2)\n",
      "\n",
      "Requirement already satisfied: pyparsing>=2.1.4 in c:\\users\\zigui oumaro\\anaconda3\\lib\\site-packages (from pydot) (3.0.4)\n"
     ]
    }
   ],
   "source": [
    "pip install pydot"
   ]
  },
  {
   "cell_type": "code",
   "execution_count": 209,
   "metadata": {
    "colab": {
     "base_uri": "https://localhost:8080/",
     "height": 73
    },
    "colab_type": "code",
    "id": "MuU-RPhvflcW",
    "outputId": "d28295fe-ea4e-4da2-9f7e-b276c2543574"
   },
   "outputs": [],
   "source": [
    "import numpy as np\n",
    "import pandas as pd\n",
    "from sklearn.metrics import confusion_matrix\n",
    "import seaborn as sns\n",
    "import h5py\n",
    "from keras import layers\n",
    "import itertools\n",
    "import os\n",
    "from sklearn.model_selection import train_test_split\n",
    "from keras.layers import Input, Dense, Activation, ZeroPadding2D, BatchNormalization, Flatten, Conv2D\n",
    "from keras.layers import AveragePooling2D, MaxPooling2D, Dropout, GlobalMaxPooling2D, GlobalAveragePooling2D\n",
    "from keras.models import Model\n",
    "from keras.preprocessing import image\n",
    "from keras.preprocessing.image import ImageDataGenerator\n",
    "from keras.utils import layer_utils\n",
    "from keras.utils.data_utils import get_file\n",
    "from keras.applications.imagenet_utils import preprocess_input\n",
    "from keras.models import Sequential\n",
    "from keras.utils import np_utils\n",
    "from sklearn import metrics \n",
    "import pydot\n",
    "from IPython.display import SVG\n",
    "\n",
    "\n",
    "import keras.backend as K\n",
    "K.set_image_data_format('channels_last')\n",
    "import matplotlib.pyplot as plt\n",
    "from matplotlib.pyplot import imshow\n"
   ]
  },
  {
   "cell_type": "code",
   "execution_count": 210,
   "metadata": {
    "colab": {},
    "colab_type": "code",
    "id": "4Z7gBX7YfTRL"
   },
   "outputs": [],
   "source": [
    "def load_dataset(path_to_train, path_to_test):\n",
    "    train_dataset = h5py.File(path_to_train)\n",
    "    train_x = np.array(train_dataset['train_set_x'][:])\n",
    "    train_y = np.array(train_dataset['train_set_y'][:])\n",
    "\n",
    "    test_dataset = h5py.File(path_to_test)\n",
    "    test_x = np.array(test_dataset['test_set_x'][:])\n",
    "    test_y = np.array(test_dataset['test_set_y'][:])\n",
    "\n",
    "    # y reshaped\n",
    "    train_y = train_y.reshape((1, train_x.shape[0]))\n",
    "    test_y = test_y.reshape((1, test_y.shape[0]))\n",
    "\n",
    "    return train_x, train_y, test_x, test_y"
   ]
  },
  {
   "cell_type": "markdown",
   "metadata": {
    "colab_type": "text",
    "id": "s0shUMnCg9GK"
   },
   "source": [
    "This dataset can be used to solve the Happy House problem.\n",
    "Where, we allow a person to enter the house only if he/she is smiling!\n",
    "So, a smile detector!\n"
   ]
  },
  {
   "cell_type": "markdown",
   "metadata": {
    "colab_type": "text",
    "id": "LF7js4UdhO0F"
   },
   "source": [
    "![Texte alternatif…](https://raw.githubusercontent.com/Kulbear/deep-learning-coursera/master/Convolutional%20Neural%20Networks/images/house-members.png)"
   ]
  },
  {
   "cell_type": "markdown",
   "metadata": {
    "colab_type": "text",
    "id": "roksQQtvizn4"
   },
   "source": [
    "\n",
    "\n",
    "Details of the \"Happy\" dataset:\n",
    "\n",
    "* Images are of shape (64,64,3)\n",
    "* Training: 600 pictures\n",
    "* Test: 150 pictures\n"
   ]
  },
  {
   "cell_type": "markdown",
   "metadata": {
    "colab_type": "text",
    "id": "z9hCBeyJi--_"
   },
   "source": [
    "# Load Dataset"
   ]
  },
  {
   "cell_type": "code",
   "execution_count": 211,
   "metadata": {
    "colab": {
     "base_uri": "https://localhost:8080/",
     "height": 216
    },
    "colab_type": "code",
    "id": "nOZo0cNbg8ts",
    "outputId": "6a0c4a30-23e8-4b60-f37f-d74aedca03b5"
   },
   "outputs": [
    {
     "name": "stdout",
     "output_type": "stream",
     "text": [
      "number of training examples = 600\n",
      "number of test examples = 150\n",
      "X_train shape: (600, 64, 64, 3)\n",
      "Y_train shape: (600, 1)\n",
      "X_test shape: (150, 64, 64, 3)\n",
      "Y_test shape: (150, 1)\n"
     ]
    }
   ],
   "source": [
    "X_train_orig, Y_train_orig, X_test_orig, Y_test_orig = load_dataset(\"train_happy.h5\",\"test_happy.h5\")\n",
    "\n",
    "\n",
    "# Normalize image vectors\n",
    "X_train = X_train_orig/255.0\n",
    "X_test = X_test_orig/255.0\n",
    "\n",
    "# Reshape\n",
    "Y_train = Y_train_orig.T\n",
    "Y_test = Y_test_orig.T\n",
    "\n",
    "print (\"number of training examples = \" + str(X_train.shape[0]))\n",
    "print (\"number of test examples = \" + str(X_test.shape[0]))\n",
    "print (\"X_train shape: \" + str(X_train.shape))\n",
    "print (\"Y_train shape: \" + str(Y_train.shape))\n",
    "print (\"X_test shape: \" + str(X_test.shape))\n",
    "print (\"Y_test shape: \" + str(Y_test.shape))"
   ]
  },
  {
   "cell_type": "code",
   "execution_count": 212,
   "metadata": {
    "colab": {
     "base_uri": "https://localhost:8080/",
     "height": 304
    },
    "colab_type": "code",
    "id": "RALj5hk4gMXB",
    "outputId": "236220f5-9ab4-496b-ff54-9a3595c76b2e"
   },
   "outputs": [
    {
     "name": "stdout",
     "output_type": "stream",
     "text": [
      "Image shape : (64, 64, 3)\n"
     ]
    },
    {
     "data": {
      "text/plain": [
       "<matplotlib.image.AxesImage at 0x4700bb1970>"
      ]
     },
     "execution_count": 212,
     "metadata": {},
     "output_type": "execute_result"
    },
    {
     "data": {
      "image/png": "[encoded data removed]",
      "text/plain": [
       "<Figure size 432x288 with 1 Axes>"
      ]
     },
     "metadata": {
      "needs_background": "light"
     },
     "output_type": "display_data"
    }
   ],
   "source": [
    "# Sample image from dataset\n",
    "print(\"Image shape :\",X_train_orig[10].shape)\n",
    "imshow(X_train_orig[10])"
   ]
  },
  {
   "cell_type": "markdown",
   "metadata": {
    "colab_type": "text",
    "id": "vQNZh4XxjCiB"
   },
   "source": [
    "# Building Model"
   ]
  },
  {
   "cell_type": "markdown",
   "metadata": {
    "colab_type": "text",
    "id": "IJJpc1lppa_m"
   },
   "source": [
    "_________________________________________________________________\n",
    "\n",
    "conv2d_3 (Conv2D)            (None, 64, 64, 32)        4736      \n",
    "_________________________________________________________________\n",
    "batch_normalization_2 (Batch (None, 64, 64, 32)        128       \n",
    "_________________________________________________________________\n",
    "max_pooling2d_2 (MaxPooling2 (None, 32, 32, 32)        0         \n",
    "_________________________________________________________________\n",
    "flatten_2 (Flatten)          (None, 32768)             0         \n",
    "_________________________________________________________________\n",
    "dense_2 (Dense)              (None, 1)                 32769     \n",
    "_________________________________________________________________\n",
    "\n"
   ]
  },
  {
   "cell_type": "code",
   "execution_count": 213,
   "metadata": {
    "colab": {},
    "colab_type": "code",
    "id": "j1YT0k2rkvAM"
   },
   "outputs": [
    {
     "name": "stdout",
     "output_type": "stream",
     "text": [
      "Model: \"sequential_17\"\n",
      "_________________________________________________________________\n",
      " Layer (type)                Output Shape              Param #   \n",
      "=================================================================\n",
      " conv2d_17 (Conv2D)          (None, 64, 64, 32)        4736      \n",
      "                                                                 \n",
      " batch_normalization_17 (Bat  (None, 64, 64, 32)       128       \n",
      " chNormalization)                                                \n",
      "                                                                 \n",
      " max_pooling2d_17 (MaxPoolin  (None, 32, 32, 32)       0         \n",
      " g2D)                                                            \n",
      "                                                                 \n",
      " flatten_17 (Flatten)        (None, 32768)             0         \n",
      "                                                                 \n",
      " dense_17 (Dense)            (None, 1)                 32769     \n",
      "                                                                 \n",
      "=================================================================\n",
      "Total params: 37,633\n",
      "Trainable params: 37,569\n",
      "Non-trainable params: 64\n",
      "_________________________________________________________________\n"
     ]
    }
   ],
   "source": [
    "model = Sequential()\n",
    "model.add(Conv2D(filters = 32, kernel_size = (7,7),padding = 'Same', activation ='relu', input_shape = (64,64,3)))\n",
    "model.add(BatchNormalization())\n",
    "model.add(MaxPooling2D(pool_size=(2,2),strides=(2,2)))\n",
    "model.add(Flatten())\n",
    "model.add(Dense(1, activation = \"sigmoid\"))\n",
    "model.summary()"
   ]
  },
  {
   "cell_type": "code",
   "execution_count": 214,
   "metadata": {
    "colab": {},
    "colab_type": "code",
    "id": "3CtQ3d7pmdEU"
   },
   "outputs": [],
   "source": [
    "model.compile(optimizer=\"adam\", loss='binary_crossentropy', metrics=[\"accuracy\"])"
   ]
  },
  {
   "cell_type": "code",
   "execution_count": 215,
   "metadata": {
    "colab": {
     "base_uri": "https://localhost:8080/",
     "height": 196
    },
    "colab_type": "code",
    "id": "JJzOsVQnmsz0",
    "outputId": "2e3656cd-a67e-42d0-9ce7-f358aebb75b7"
   },
   "outputs": [
    {
     "name": "stdout",
     "output_type": "stream",
     "text": [
      "Epoch 1/5\n",
      "8/8 [==============================] - 11s 1s/step - loss: 2.0420 - accuracy: 0.5542 - val_loss: 0.6379 - val_accuracy: 0.5750\n",
      "Epoch 2/5\n",
      "8/8 [==============================] - 7s 802ms/step - loss: 0.4304 - accuracy: 0.7708 - val_loss: 0.6115 - val_accuracy: 0.8250\n",
      "Epoch 3/5\n",
      "8/8 [==============================] - 7s 902ms/step - loss: 0.3029 - accuracy: 0.8750 - val_loss: 0.5838 - val_accuracy: 0.7583\n",
      "Epoch 4/5\n",
      "8/8 [==============================] - 7s 887ms/step - loss: 0.2211 - accuracy: 0.9250 - val_loss: 0.5690 - val_accuracy: 0.7583\n",
      "Epoch 5/5\n",
      "8/8 [==============================] - 7s 900ms/step - loss: 0.1947 - accuracy: 0.9292 - val_loss: 0.5651 - val_accuracy: 0.6833\n"
     ]
    }
   ],
   "source": [
    "history_model = model.fit(X_train, Y_train,validation_split=0.2, batch_size = 64, epochs= 5)"
   ]
  },
  {
   "cell_type": "markdown",
   "metadata": {
    "colab_type": "text",
    "id": "MZFI90ydpx0n"
   },
   "source": [
    "# Evaluate / Test"
   ]
  },
  {
   "cell_type": "code",
   "execution_count": 216,
   "metadata": {
    "colab": {
     "base_uri": "https://localhost:8080/",
     "height": 299
    },
    "colab_type": "code",
    "id": "xV8Jav30myg0",
    "outputId": "2b6d9f46-94b0-40bd-a200-897c20127007"
   },
   "outputs": [
    {
     "data": {
      "text/plain": [
       "<matplotlib.legend.Legend at 0x4700366160>"
      ]
     },
     "execution_count": 216,
     "metadata": {},
     "output_type": "execute_result"
    },
    {
     "data": {
      "image/png": "[encoded data removed]",
      "text/plain": [
       "<Figure size 432x288 with 1 Axes>"
      ]
     },
     "metadata": {
      "needs_background": "light"
     },
     "output_type": "display_data"
    }
   ],
   "source": [
    "train_accuracy = history_model.history['accuracy']\n",
    "train_loss = history_model.history['loss']\n",
    "\n",
    "count = range(len(train_accuracy))\n",
    "plt.plot(count, train_accuracy, label='Training accuracy')\n",
    "plt.plot(count, train_loss, label='Training Loss')\n",
    "plt.title('epochs vs Training Loss')\n",
    "plt.legend()"
   ]
  },
  {
   "cell_type": "markdown",
   "metadata": {
    "colab_type": "text",
    "id": "gBOEETB6qD3L"
   },
   "source": [
    "Evaluate Test set"
   ]
  },
  {
   "cell_type": "code",
   "execution_count": 217,
   "metadata": {
    "colab": {},
    "colab_type": "code",
    "id": "VNuzxr58m6bI"
   },
   "outputs": [
    {
     "name": "stdout",
     "output_type": "stream",
     "text": [
      "3/3 [==============================] - 1s 212ms/step - loss: 0.6119 - accuracy: 0.6267\n",
      "Test loss: 0.6119 accuracy: 0.6267\n"
     ]
    }
   ],
   "source": [
    "# Code Here\n",
    "test_loss, test_accuracy = model.evaluate(X_test, Y_test, batch_size=64,verbose=1)\n",
    "print('Test loss: %.4f accuracy: %.4f' % (test_loss, test_accuracy))"
   ]
  },
  {
   "cell_type": "markdown",
   "metadata": {
    "colab_type": "text",
    "id": "hFC1nz5_p33b"
   },
   "source": [
    "Confusion Matrix"
   ]
  },
  {
   "cell_type": "code",
   "execution_count": 228,
   "metadata": {
    "colab": {},
    "colab_type": "code",
    "id": "iflIgFgnnIfv"
   },
   "outputs": [
    {
     "name": "stdout",
     "output_type": "stream",
     "text": [
      "5/5 [==============================] - 1s 160ms/step\n"
     ]
    },
    {
     "data": {
      "image/png": "[encoded data removed]",
      "text/plain": [
       "<Figure size 432x288 with 2 Axes>"
      ]
     },
     "metadata": {
      "needs_background": "light"
     },
     "output_type": "display_data"
    }
   ],
   "source": [
    "Y_pred = model.predict(X_test)\n",
    "Y_pred = np.round(Y_pred).astype(int)\n",
    "cm=confusion_matrix(Y_test,Y_pred)\n",
    "sns.heatmap(cm, annot=True,xticklabels=['not_HAPPY', 'HAPPY'], yticklabels=['not_HAPPY', 'HAPPY'])\n",
    "plt.xlabel(\"Predicted\")\n",
    "plt.ylabel(\"Actual\")\n",
    "plt.title(\"Confusion Matrix\")\n",
    "plt.show()"
   ]
  },
  {
   "cell_type": "code",
   "execution_count": 235,
   "metadata": {},
   "outputs": [
    {
     "name": "stdout",
     "output_type": "stream",
     "text": [
      "5/5 [==============================] - 1s 133ms/step\n"
     ]
    }
   ],
   "source": [
    "predictions = model.predict([X_test])"
   ]
  },
  {
   "cell_type": "code",
   "execution_count": 236,
   "metadata": {},
   "outputs": [
    {
     "data": {
      "text/plain": [
       "array([1], dtype=int64)"
      ]
     },
     "execution_count": 236,
     "metadata": {},
     "output_type": "execute_result"
    }
   ],
   "source": [
    "Y_test[33]"
   ]
  },
  {
   "cell_type": "code",
   "execution_count": 237,
   "metadata": {},
   "outputs": [
    {
     "data": {
      "text/plain": [
       "<matplotlib.image.AxesImage at 0x4700c680a0>"
      ]
     },
     "execution_count": 237,
     "metadata": {},
     "output_type": "execute_result"
    },
    {
     "data": {
      "image/png": "[encoded data removed]",
      "text/plain": [
       "<Figure size 432x288 with 1 Axes>"
      ]
     },
     "metadata": {
      "needs_background": "light"
     },
     "output_type": "display_data"
    }
   ],
   "source": [
    "plt.imshow(X_test[33])"
   ]
  },
  {
   "cell_type": "markdown",
   "metadata": {},
   "source": [
    "# optimizers"
   ]
  },
  {
   "cell_type": "code",
   "execution_count": 246,
   "metadata": {},
   "outputs": [],
   "source": [
    "#Gradient Descent with Momentum (SGD)\n",
    "SGD_model = model\n",
    "SGD_model.compile(loss ='binary_crossentropy',metrics =['accuracy'],optimizer='SGD')"
   ]
  },
  {
   "cell_type": "code",
   "execution_count": 247,
   "metadata": {},
   "outputs": [
    {
     "name": "stdout",
     "output_type": "stream",
     "text": [
      "Epoch 1/5\n",
      "8/8 [==============================] - 10s 993ms/step - loss: 0.2068 - accuracy: 0.9271 - val_loss: 0.5120 - val_accuracy: 0.7250\n",
      "Epoch 2/5\n",
      "8/8 [==============================] - 6s 777ms/step - loss: 1.4344 - accuracy: 0.6062 - val_loss: 1.2832 - val_accuracy: 0.4583\n",
      "Epoch 3/5\n",
      "8/8 [==============================] - 7s 846ms/step - loss: 1.1079 - accuracy: 0.7000 - val_loss: 0.3847 - val_accuracy: 0.8250\n",
      "Epoch 4/5\n",
      "8/8 [==============================] - 7s 825ms/step - loss: 0.2121 - accuracy: 0.9208 - val_loss: 0.3635 - val_accuracy: 0.8500\n",
      "Epoch 5/5\n",
      "8/8 [==============================] - 6s 799ms/step - loss: 0.1667 - accuracy: 0.9438 - val_loss: 0.3685 - val_accuracy: 0.8500\n"
     ]
    }
   ],
   "source": [
    "history_model = SGD_model.fit(X_train, Y_train,validation_split=0.2, batch_size = 64, epochs= 5)"
   ]
  },
  {
   "cell_type": "code",
   "execution_count": 248,
   "metadata": {},
   "outputs": [
    {
     "data": {
      "text/plain": [
       "<matplotlib.legend.Legend at 0x4701545d30>"
      ]
     },
     "execution_count": 248,
     "metadata": {},
     "output_type": "execute_result"
    },
    {
     "data": {
      "image/png": "[encoded data removed]",
      "text/plain": [
       "<Figure size 432x288 with 1 Axes>"
      ]
     },
     "metadata": {
      "needs_background": "light"
     },
     "output_type": "display_data"
    }
   ],
   "source": [
    "train_accuracy = history_model.history['accuracy']\n",
    "train_loss = history_model.history['loss']\n",
    "\n",
    "count = range(len(train_accuracy))\n",
    "plt.plot(count, train_accuracy, label='Training accuracy')\n",
    "plt.plot(count, train_loss, label='Training Loss')\n",
    "plt.title('epochs vs Training Loss')\n",
    "plt.legend()"
   ]
  },
  {
   "cell_type": "markdown",
   "metadata": {},
   "source": [
    "# Evaluate Test set"
   ]
  },
  {
   "cell_type": "code",
   "execution_count": 250,
   "metadata": {},
   "outputs": [
    {
     "name": "stdout",
     "output_type": "stream",
     "text": [
      "3/3 [==============================] - 1s 195ms/step - loss: 0.4803 - accuracy: 0.7333\n",
      "Test loss: 0.4803 accuracy: 0.7333\n"
     ]
    }
   ],
   "source": [
    "test_loss, test_accuracy = model.evaluate(X_test, Y_test, batch_size=64,verbose=1)\n",
    "print('Test loss: %.4f accuracy: %.4f' % (test_loss, test_accuracy))"
   ]
  },
  {
   "cell_type": "code",
   "execution_count": 251,
   "metadata": {},
   "outputs": [],
   "source": [
    "#Root Mean Square Propagation (RMSProp)\n",
    "RMSProp_model = model\n",
    "RMSProp_model.compile(loss ='binary_crossentropy',metrics =['accuracy'],optimizer='RMSProp')"
   ]
  },
  {
   "cell_type": "code",
   "execution_count": 252,
   "metadata": {},
   "outputs": [
    {
     "name": "stdout",
     "output_type": "stream",
     "text": [
      "Epoch 1/5\n",
      "8/8 [==============================] - 11s 964ms/step - loss: 0.4664 - accuracy: 0.8417 - val_loss: 0.3548 - val_accuracy: 0.8750\n",
      "Epoch 2/5\n",
      "8/8 [==============================] - 7s 867ms/step - loss: 0.1638 - accuracy: 0.9417 - val_loss: 0.6605 - val_accuracy: 0.5167\n",
      "Epoch 3/5\n",
      "8/8 [==============================] - 8s 946ms/step - loss: 0.2786 - accuracy: 0.8792 - val_loss: 0.3167 - val_accuracy: 0.8667\n",
      "Epoch 4/5\n",
      "8/8 [==============================] - 8s 908ms/step - loss: 0.1155 - accuracy: 0.9542 - val_loss: 0.3758 - val_accuracy: 0.8333\n",
      "Epoch 5/5\n",
      "8/8 [==============================] - 7s 870ms/step - loss: 0.1796 - accuracy: 0.9187 - val_loss: 0.3501 - val_accuracy: 0.8583\n"
     ]
    }
   ],
   "source": [
    "history_model = RMSProp_model.fit(X_train, Y_train,validation_split=0.2, batch_size = 64, epochs= 5)"
   ]
  },
  {
   "cell_type": "code",
   "execution_count": 253,
   "metadata": {},
   "outputs": [
    {
     "data": {
      "text/plain": [
       "<matplotlib.legend.Legend at 0x4702637b20>"
      ]
     },
     "execution_count": 253,
     "metadata": {},
     "output_type": "execute_result"
    },
    {
     "data": {
      "image/png": "[encoded data removed]",
      "text/plain": [
       "<Figure size 432x288 with 1 Axes>"
      ]
     },
     "metadata": {
      "needs_background": "light"
     },
     "output_type": "display_data"
    }
   ],
   "source": [
    "train_accuracy = history_model.history['accuracy']\n",
    "train_loss = history_model.history['loss']\n",
    "\n",
    "count = range(len(train_accuracy))\n",
    "plt.plot(count, train_accuracy, label='Training accuracy')\n",
    "plt.plot(count, train_loss, label='Training Loss')\n",
    "plt.title('epochs vs Training Loss')\n",
    "plt.legend()"
   ]
  },
  {
   "cell_type": "markdown",
   "metadata": {},
   "source": [
    "# Evaluate Test set"
   ]
  },
  {
   "cell_type": "code",
   "execution_count": 254,
   "metadata": {},
   "outputs": [
    {
     "name": "stdout",
     "output_type": "stream",
     "text": [
      "3/3 [==============================] - 1s 187ms/step - loss: 0.3926 - accuracy: 0.8133\n",
      "Test loss: 0.3926 accuracy: 0.8133\n"
     ]
    }
   ],
   "source": [
    "test_loss, test_accuracy = model.evaluate(X_test, Y_test, batch_size=64,verbose=1)\n",
    "print('Test loss: %.4f accuracy: %.4f' % (test_loss, test_accuracy))"
   ]
  },
  {
   "cell_type": "code",
   "execution_count": null,
   "metadata": {},
   "outputs": [],
   "source": []
  },
  {
   "cell_type": "markdown",
   "metadata": {
    "colab_type": "text",
    "id": "QQKL1aDLqjqU"
   },
   "source": [
    "# Note\n",
    "\n",
    "Before you submit your work \n",
    "\n",
    "* You should compare different optimizers\n",
    "\n",
    "---\n",
    "\n",
    "* Display images with Predicted & expected labels (Happy-sad)\n"
   ]
  },
  {
   "cell_type": "code",
   "execution_count": 0,
   "metadata": {
    "colab": {},
    "colab_type": "code",
    "id": "EW_BaM-9p69t"
   },
   "outputs": [],
   "source": []
  }
 ],
 "metadata": {
  "colab": {
   "collapsed_sections": [],
   "name": "ToDo_CP_Happy house.ipynb",
   "provenance": []
  },
  "kernelspec": {
   "display_name": "Python 3 (ipykernel)",
   "language": "python",
   "name": "python3"
  },
  "language_info": {
   "codemirror_mode": {
    "name": "ipython",
    "version": 3
   },
   "file_extension": ".py",
   "mimetype": "text/x-python",
   "name": "python",
   "nbconvert_exporter": "python",
   "pygments_lexer": "ipython3",
   "version": "3.9.7"
  }
 },
 "nbformat": 4,
 "nbformat_minor": 1
}
