{
 "cells": [
  {
   "cell_type": "markdown",
   "id": "b18e6579",
   "metadata": {},
   "source": [
    "Objectif\n",
    "L'objectif de ce point de contrôle est d'analyser l'ensemble de données de notation de crédit afin d'obtenir des informations à partir de nos données.\n",
    "\n",
    "Des instructions\n",
    "Partie 1 : Analyse univariée\n",
    "\n",
    "Analysez la variable et concluez\n",
    "Analysez la variable Revenu et concluez.\n",
    "Analysez la variable de votre choix et concluez.(bonus)\n",
    "Partie 2 : Analyse bivariée\n",
    "\n",
    "Étudier la relation entre la variable Montant et Revenu en calculant le coefficient de corrélation en appliquant la régression linéaire\n",
    "\n",
    "Partie 3 : Analyse multivariée\n",
    "\n",
    "Extraire des données numériques et appliquer l'analyse en composantes principales\n",
    "Sélectionnez des variables catégorielles et appliquez MCA\n",
    "N'oubliez pas d'implémenter ce travail en python\n"
   ]
  },
  {
   "cell_type": "code",
   "execution_count": 220,
   "id": "20f1ff5f",
   "metadata": {},
   "outputs": [
    {
     "name": "stdout",
     "output_type": "stream",
     "text": [
      "Note: you may need to restart the kernel to use updated packages.Collecting prince\n",
      "\n",
      "  Using cached prince-0.7.1-py3-none-any.whl (21 kB)\n",
      "Requirement already satisfied: scikit-learn>=0.22.1 in c:\\users\\zigui oumaro\\anaconda3\\lib\\site-packages (from prince) (0.24.2)\n",
      "Requirement already satisfied: scipy>=1.3.0 in c:\\users\\zigui oumaro\\anaconda3\\lib\\site-packages (from prince) (1.7.1)\n",
      "Requirement already satisfied: pandas>=1.0.3 in c:\\users\\zigui oumaro\\anaconda3\\lib\\site-packages (from prince) (1.3.4)\n",
      "Requirement already satisfied: numpy>=1.17.1 in c:\\users\\zigui oumaro\\anaconda3\\lib\\site-packages (from prince) (1.20.3)\n",
      "Requirement already satisfied: matplotlib>=3.0.2 in c:\\users\\zigui oumaro\\anaconda3\\lib\\site-packages (from prince) (3.4.3)\n",
      "Requirement already satisfied: pyparsing>=2.2.1 in c:\\users\\zigui oumaro\\anaconda3\\lib\\site-packages (from matplotlib>=3.0.2->prince) (3.0.4)\n",
      "Requirement already satisfied: cycler>=0.10 in c:\\users\\zigui oumaro\\anaconda3\\lib\\site-packages (from matplotlib>=3.0.2->prince) (0.10.0)\n",
      "Requirement already satisfied: python-dateutil>=2.7 in c:\\users\\zigui oumaro\\anaconda3\\lib\\site-packages (from matplotlib>=3.0.2->prince) (2.8.2)\n",
      "Requirement already satisfied: pillow>=6.2.0 in c:\\users\\zigui oumaro\\anaconda3\\lib\\site-packages (from matplotlib>=3.0.2->prince) (8.4.0)\n",
      "Requirement already satisfied: kiwisolver>=1.0.1 in c:\\users\\zigui oumaro\\anaconda3\\lib\\site-packages (from matplotlib>=3.0.2->prince) (1.3.1)\n",
      "Requirement already satisfied: six in c:\\users\\zigui oumaro\\anaconda3\\lib\\site-packages (from cycler>=0.10->matplotlib>=3.0.2->prince) (1.16.0)\n",
      "Requirement already satisfied: pytz>=2017.3 in c:\\users\\zigui oumaro\\anaconda3\\lib\\site-packages (from pandas>=1.0.3->prince) (2021.3)\n",
      "Requirement already satisfied: joblib>=0.11 in c:\\users\\zigui oumaro\\anaconda3\\lib\\site-packages (from scikit-learn>=0.22.1->prince) (1.1.0)\n",
      "Requirement already satisfied: threadpoolctl>=2.0.0 in c:\\users\\zigui oumaro\\anaconda3\\lib\\site-packages (from scikit-learn>=0.22.1->prince) (2.2.0)\n",
      "Installing collected packages: prince\n",
      "Successfully installed prince-0.7.1\n"
     ]
    }
   ],
   "source": [
    "pip install prince"
   ]
  },
  {
   "cell_type": "markdown",
   "id": "aa13eca8",
   "metadata": {},
   "source": [
    "# Importer les librairies necessaires"
   ]
  },
  {
   "cell_type": "code",
   "execution_count": 2,
   "id": "2f2ea7e6",
   "metadata": {},
   "outputs": [],
   "source": [
    "import pandas as pd\n",
    "import numpy as np\n",
    "import matplotlib.pyplot as plt\n",
    "import seaborn as sns\n",
    "import sklearn.metrics\n",
    "import prince\n",
    "from sklearn.decomposition import PCA\n",
    "from sklearn.preprocessing import StandardScaler\n",
    "from sklearn.model_selection import train_test_split\n",
    "from sklearn.linear_model import LinearRegression\n",
    "from sklearn.metrics import mean_squared_error\n",
    "from sklearn.metrics import r2_score\n",
    "from matplotlib.patches import Ellipse # Pour représenter le cercle de corrélation\n",
    "import warnings\n",
    "warnings.filterwarnings(\"ignore\")\n",
    "%matplotlib inline"
   ]
  },
  {
   "cell_type": "markdown",
   "id": "1238145c",
   "metadata": {},
   "source": [
    "# CHARGER LE JEU DE DONNEE"
   ]
  },
  {
   "cell_type": "code",
   "execution_count": 3,
   "id": "9d5a0fe8",
   "metadata": {},
   "outputs": [
    {
     "data": {
      "text/html": [
       "<div>\n",
       "<style scoped>\n",
       "    .dataframe tbody tr th:only-of-type {\n",
       "        vertical-align: middle;\n",
       "    }\n",
       "\n",
       "    .dataframe tbody tr th {\n",
       "        vertical-align: top;\n",
       "    }\n",
       "\n",
       "    .dataframe thead th {\n",
       "        text-align: right;\n",
       "    }\n",
       "</style>\n",
       "<table border=\"1\" class=\"dataframe\">\n",
       "  <thead>\n",
       "    <tr style=\"text-align: right;\">\n",
       "      <th></th>\n",
       "      <th>Status</th>\n",
       "      <th>Seniority</th>\n",
       "      <th>Home</th>\n",
       "      <th>Time</th>\n",
       "      <th>Age</th>\n",
       "      <th>Marital</th>\n",
       "      <th>Records</th>\n",
       "      <th>Job</th>\n",
       "      <th>Expenses</th>\n",
       "      <th>Income</th>\n",
       "      <th>...</th>\n",
       "      <th>timeR</th>\n",
       "      <th>ageR</th>\n",
       "      <th>expensesR</th>\n",
       "      <th>incomeR</th>\n",
       "      <th>assetsR</th>\n",
       "      <th>debtR</th>\n",
       "      <th>amountR</th>\n",
       "      <th>priceR</th>\n",
       "      <th>finratR</th>\n",
       "      <th>savingsR</th>\n",
       "    </tr>\n",
       "  </thead>\n",
       "  <tbody>\n",
       "    <tr>\n",
       "      <th>0</th>\n",
       "      <td>good</td>\n",
       "      <td>9</td>\n",
       "      <td>rent</td>\n",
       "      <td>60</td>\n",
       "      <td>30</td>\n",
       "      <td>married</td>\n",
       "      <td>no_rec</td>\n",
       "      <td>freelance</td>\n",
       "      <td>73</td>\n",
       "      <td>129</td>\n",
       "      <td>...</td>\n",
       "      <td>time (48,99]</td>\n",
       "      <td>age (25,30]</td>\n",
       "      <td>exp (60,80]</td>\n",
       "      <td>inc (110,140]</td>\n",
       "      <td>asset (-1,0]</td>\n",
       "      <td>debt (-1,0]</td>\n",
       "      <td>am (600,900]</td>\n",
       "      <td>priz (0,1e+03]</td>\n",
       "      <td>finr (90,100]</td>\n",
       "      <td>sav (4,6]</td>\n",
       "    </tr>\n",
       "    <tr>\n",
       "      <th>1</th>\n",
       "      <td>good</td>\n",
       "      <td>17</td>\n",
       "      <td>rent</td>\n",
       "      <td>60</td>\n",
       "      <td>58</td>\n",
       "      <td>widow</td>\n",
       "      <td>no_rec</td>\n",
       "      <td>fixed</td>\n",
       "      <td>48</td>\n",
       "      <td>131</td>\n",
       "      <td>...</td>\n",
       "      <td>time (48,99]</td>\n",
       "      <td>age (50,99]</td>\n",
       "      <td>exp (40,50]</td>\n",
       "      <td>inc (110,140]</td>\n",
       "      <td>asset (-1,0]</td>\n",
       "      <td>debt (-1,0]</td>\n",
       "      <td>am (900,1.1e+03]</td>\n",
       "      <td>priz (1.5e+03,1.8e+03]</td>\n",
       "      <td>finr (50,70]</td>\n",
       "      <td>sav (4,6]</td>\n",
       "    </tr>\n",
       "    <tr>\n",
       "      <th>2</th>\n",
       "      <td>bad</td>\n",
       "      <td>10</td>\n",
       "      <td>owner</td>\n",
       "      <td>36</td>\n",
       "      <td>46</td>\n",
       "      <td>married</td>\n",
       "      <td>yes_rec</td>\n",
       "      <td>freelance</td>\n",
       "      <td>90</td>\n",
       "      <td>200</td>\n",
       "      <td>...</td>\n",
       "      <td>time (24,36]</td>\n",
       "      <td>age (40,50]</td>\n",
       "      <td>exp (80,1e+04]</td>\n",
       "      <td>inc (190,1e+04]</td>\n",
       "      <td>asset (0,3e+03]</td>\n",
       "      <td>debt (-1,0]</td>\n",
       "      <td>am (1.4e+03,1e+05]</td>\n",
       "      <td>priz (1.8e+03,1e+05]</td>\n",
       "      <td>finr (50,70]</td>\n",
       "      <td>sav (0,2]</td>\n",
       "    </tr>\n",
       "    <tr>\n",
       "      <th>3</th>\n",
       "      <td>good</td>\n",
       "      <td>0</td>\n",
       "      <td>rent</td>\n",
       "      <td>60</td>\n",
       "      <td>24</td>\n",
       "      <td>single</td>\n",
       "      <td>no_rec</td>\n",
       "      <td>fixed</td>\n",
       "      <td>63</td>\n",
       "      <td>182</td>\n",
       "      <td>...</td>\n",
       "      <td>time (48,99]</td>\n",
       "      <td>age (0,25]</td>\n",
       "      <td>exp (60,80]</td>\n",
       "      <td>inc (140,190]</td>\n",
       "      <td>asset (0,3e+03]</td>\n",
       "      <td>debt (-1,0]</td>\n",
       "      <td>am (600,900]</td>\n",
       "      <td>priz (1.3e+03,1.5e+03]</td>\n",
       "      <td>finr (50,70]</td>\n",
       "      <td>sav (6,99]</td>\n",
       "    </tr>\n",
       "    <tr>\n",
       "      <th>4</th>\n",
       "      <td>good</td>\n",
       "      <td>0</td>\n",
       "      <td>rent</td>\n",
       "      <td>36</td>\n",
       "      <td>26</td>\n",
       "      <td>single</td>\n",
       "      <td>no_rec</td>\n",
       "      <td>fixed</td>\n",
       "      <td>46</td>\n",
       "      <td>107</td>\n",
       "      <td>...</td>\n",
       "      <td>time (24,36]</td>\n",
       "      <td>age (25,30]</td>\n",
       "      <td>exp (40,50]</td>\n",
       "      <td>inc (80,110]</td>\n",
       "      <td>asset (-1,0]</td>\n",
       "      <td>debt (-1,0]</td>\n",
       "      <td>am (0,600]</td>\n",
       "      <td>priz (0,1e+03]</td>\n",
       "      <td>finr (0,50]</td>\n",
       "      <td>sav (6,99]</td>\n",
       "    </tr>\n",
       "  </tbody>\n",
       "</table>\n",
       "<p>5 rows × 27 columns</p>\n",
       "</div>"
      ],
      "text/plain": [
       "  Status  Seniority   Home  Time  Age  Marital  Records        Job  Expenses  \\\n",
       "0   good          9   rent    60   30  married   no_rec  freelance        73   \n",
       "1   good         17   rent    60   58    widow   no_rec      fixed        48   \n",
       "2    bad         10  owner    36   46  married  yes_rec  freelance        90   \n",
       "3   good          0   rent    60   24   single   no_rec      fixed        63   \n",
       "4   good          0   rent    36   26   single   no_rec      fixed        46   \n",
       "\n",
       "   Income  ...         timeR         ageR       expensesR          incomeR  \\\n",
       "0     129  ...  time (48,99]  age (25,30]     exp (60,80]    inc (110,140]   \n",
       "1     131  ...  time (48,99]  age (50,99]     exp (40,50]    inc (110,140]   \n",
       "2     200  ...  time (24,36]  age (40,50]  exp (80,1e+04]  inc (190,1e+04]   \n",
       "3     182  ...  time (48,99]   age (0,25]     exp (60,80]    inc (140,190]   \n",
       "4     107  ...  time (24,36]  age (25,30]     exp (40,50]     inc (80,110]   \n",
       "\n",
       "           assetsR        debtR             amountR                  priceR  \\\n",
       "0     asset (-1,0]  debt (-1,0]        am (600,900]          priz (0,1e+03]   \n",
       "1     asset (-1,0]  debt (-1,0]    am (900,1.1e+03]  priz (1.5e+03,1.8e+03]   \n",
       "2  asset (0,3e+03]  debt (-1,0]  am (1.4e+03,1e+05]    priz (1.8e+03,1e+05]   \n",
       "3  asset (0,3e+03]  debt (-1,0]        am (600,900]  priz (1.3e+03,1.5e+03]   \n",
       "4     asset (-1,0]  debt (-1,0]          am (0,600]          priz (0,1e+03]   \n",
       "\n",
       "         finratR    savingsR  \n",
       "0  finr (90,100]   sav (4,6]  \n",
       "1   finr (50,70]   sav (4,6]  \n",
       "2   finr (50,70]   sav (0,2]  \n",
       "3   finr (50,70]  sav (6,99]  \n",
       "4    finr (0,50]  sav (6,99]  \n",
       "\n",
       "[5 rows x 27 columns]"
      ]
     },
     "execution_count": 3,
     "metadata": {},
     "output_type": "execute_result"
    }
   ],
   "source": [
    "df = pd.read_csv('CleanCreditScoring.csv',sep =\",\")\n",
    "df.head()"
   ]
  },
  {
   "cell_type": "code",
   "execution_count": 4,
   "id": "7d522622",
   "metadata": {},
   "outputs": [
    {
     "data": {
      "text/plain": [
       "(4446, 27)"
      ]
     },
     "execution_count": 4,
     "metadata": {},
     "output_type": "execute_result"
    }
   ],
   "source": [
    "df2 = df.copy()\n",
    "df2.shape"
   ]
  },
  {
   "cell_type": "code",
   "execution_count": 5,
   "id": "f498e6b8",
   "metadata": {},
   "outputs": [
    {
     "data": {
      "text/html": [
       "<div>\n",
       "<style scoped>\n",
       "    .dataframe tbody tr th:only-of-type {\n",
       "        vertical-align: middle;\n",
       "    }\n",
       "\n",
       "    .dataframe tbody tr th {\n",
       "        vertical-align: top;\n",
       "    }\n",
       "\n",
       "    .dataframe thead th {\n",
       "        text-align: right;\n",
       "    }\n",
       "</style>\n",
       "<table border=\"1\" class=\"dataframe\">\n",
       "  <thead>\n",
       "    <tr style=\"text-align: right;\">\n",
       "      <th></th>\n",
       "      <th>Seniority</th>\n",
       "      <th>Time</th>\n",
       "      <th>Age</th>\n",
       "      <th>Expenses</th>\n",
       "      <th>Income</th>\n",
       "      <th>Assets</th>\n",
       "      <th>Debt</th>\n",
       "      <th>Amount</th>\n",
       "      <th>Price</th>\n",
       "      <th>Finrat</th>\n",
       "      <th>Savings</th>\n",
       "    </tr>\n",
       "  </thead>\n",
       "  <tbody>\n",
       "    <tr>\n",
       "      <th>count</th>\n",
       "      <td>4446.000000</td>\n",
       "      <td>4446.000000</td>\n",
       "      <td>4446.000000</td>\n",
       "      <td>4446.000000</td>\n",
       "      <td>4446.000000</td>\n",
       "      <td>4446.000000</td>\n",
       "      <td>4446.000000</td>\n",
       "      <td>4446.000000</td>\n",
       "      <td>4446.000000</td>\n",
       "      <td>4446.000000</td>\n",
       "      <td>4446.000000</td>\n",
       "    </tr>\n",
       "    <tr>\n",
       "      <th>mean</th>\n",
       "      <td>7.991453</td>\n",
       "      <td>46.453441</td>\n",
       "      <td>37.084121</td>\n",
       "      <td>55.601439</td>\n",
       "      <td>140.629780</td>\n",
       "      <td>5354.948943</td>\n",
       "      <td>342.257085</td>\n",
       "      <td>1038.763383</td>\n",
       "      <td>1462.480432</td>\n",
       "      <td>72.616409</td>\n",
       "      <td>3.860083</td>\n",
       "    </tr>\n",
       "    <tr>\n",
       "      <th>std</th>\n",
       "      <td>8.176370</td>\n",
       "      <td>14.647979</td>\n",
       "      <td>10.986366</td>\n",
       "      <td>19.520839</td>\n",
       "      <td>80.177896</td>\n",
       "      <td>11534.328183</td>\n",
       "      <td>1244.694549</td>\n",
       "      <td>474.747952</td>\n",
       "      <td>628.555171</td>\n",
       "      <td>20.390595</td>\n",
       "      <td>3.726292</td>\n",
       "    </tr>\n",
       "    <tr>\n",
       "      <th>min</th>\n",
       "      <td>0.000000</td>\n",
       "      <td>6.000000</td>\n",
       "      <td>18.000000</td>\n",
       "      <td>35.000000</td>\n",
       "      <td>1.000000</td>\n",
       "      <td>0.000000</td>\n",
       "      <td>0.000000</td>\n",
       "      <td>100.000000</td>\n",
       "      <td>105.000000</td>\n",
       "      <td>6.702413</td>\n",
       "      <td>-8.160000</td>\n",
       "    </tr>\n",
       "    <tr>\n",
       "      <th>25%</th>\n",
       "      <td>2.000000</td>\n",
       "      <td>36.000000</td>\n",
       "      <td>28.000000</td>\n",
       "      <td>35.000000</td>\n",
       "      <td>90.000000</td>\n",
       "      <td>0.000000</td>\n",
       "      <td>0.000000</td>\n",
       "      <td>700.000000</td>\n",
       "      <td>1116.250000</td>\n",
       "      <td>60.030020</td>\n",
       "      <td>1.615385</td>\n",
       "    </tr>\n",
       "    <tr>\n",
       "      <th>50%</th>\n",
       "      <td>5.000000</td>\n",
       "      <td>48.000000</td>\n",
       "      <td>36.000000</td>\n",
       "      <td>51.000000</td>\n",
       "      <td>124.000000</td>\n",
       "      <td>3000.000000</td>\n",
       "      <td>0.000000</td>\n",
       "      <td>1000.000000</td>\n",
       "      <td>1400.000000</td>\n",
       "      <td>77.096757</td>\n",
       "      <td>3.120000</td>\n",
       "    </tr>\n",
       "    <tr>\n",
       "      <th>75%</th>\n",
       "      <td>12.000000</td>\n",
       "      <td>60.000000</td>\n",
       "      <td>45.000000</td>\n",
       "      <td>72.000000</td>\n",
       "      <td>170.000000</td>\n",
       "      <td>6000.000000</td>\n",
       "      <td>0.000000</td>\n",
       "      <td>1300.000000</td>\n",
       "      <td>1691.500000</td>\n",
       "      <td>88.460263</td>\n",
       "      <td>5.195688</td>\n",
       "    </tr>\n",
       "    <tr>\n",
       "      <th>max</th>\n",
       "      <td>48.000000</td>\n",
       "      <td>72.000000</td>\n",
       "      <td>68.000000</td>\n",
       "      <td>180.000000</td>\n",
       "      <td>959.000000</td>\n",
       "      <td>300000.000000</td>\n",
       "      <td>30000.000000</td>\n",
       "      <td>5000.000000</td>\n",
       "      <td>11140.000000</td>\n",
       "      <td>100.000000</td>\n",
       "      <td>33.250000</td>\n",
       "    </tr>\n",
       "  </tbody>\n",
       "</table>\n",
       "</div>"
      ],
      "text/plain": [
       "         Seniority         Time          Age     Expenses       Income  \\\n",
       "count  4446.000000  4446.000000  4446.000000  4446.000000  4446.000000   \n",
       "mean      7.991453    46.453441    37.084121    55.601439   140.629780   \n",
       "std       8.176370    14.647979    10.986366    19.520839    80.177896   \n",
       "min       0.000000     6.000000    18.000000    35.000000     1.000000   \n",
       "25%       2.000000    36.000000    28.000000    35.000000    90.000000   \n",
       "50%       5.000000    48.000000    36.000000    51.000000   124.000000   \n",
       "75%      12.000000    60.000000    45.000000    72.000000   170.000000   \n",
       "max      48.000000    72.000000    68.000000   180.000000   959.000000   \n",
       "\n",
       "              Assets          Debt       Amount         Price       Finrat  \\\n",
       "count    4446.000000   4446.000000  4446.000000   4446.000000  4446.000000   \n",
       "mean     5354.948943    342.257085  1038.763383   1462.480432    72.616409   \n",
       "std     11534.328183   1244.694549   474.747952    628.555171    20.390595   \n",
       "min         0.000000      0.000000   100.000000    105.000000     6.702413   \n",
       "25%         0.000000      0.000000   700.000000   1116.250000    60.030020   \n",
       "50%      3000.000000      0.000000  1000.000000   1400.000000    77.096757   \n",
       "75%      6000.000000      0.000000  1300.000000   1691.500000    88.460263   \n",
       "max    300000.000000  30000.000000  5000.000000  11140.000000   100.000000   \n",
       "\n",
       "           Savings  \n",
       "count  4446.000000  \n",
       "mean      3.860083  \n",
       "std       3.726292  \n",
       "min      -8.160000  \n",
       "25%       1.615385  \n",
       "50%       3.120000  \n",
       "75%       5.195688  \n",
       "max      33.250000  "
      ]
     },
     "execution_count": 5,
     "metadata": {},
     "output_type": "execute_result"
    }
   ],
   "source": [
    "df2.describe()"
   ]
  },
  {
   "cell_type": "code",
   "execution_count": 6,
   "id": "e2372218",
   "metadata": {},
   "outputs": [
    {
     "name": "stdout",
     "output_type": "stream",
     "text": [
      "<class 'pandas.core.frame.DataFrame'>\n",
      "RangeIndex: 4446 entries, 0 to 4445\n",
      "Data columns (total 27 columns):\n",
      " #   Column      Non-Null Count  Dtype  \n",
      "---  ------      --------------  -----  \n",
      " 0   Status      4446 non-null   object \n",
      " 1   Seniority   4446 non-null   int64  \n",
      " 2   Home        4446 non-null   object \n",
      " 3   Time        4446 non-null   int64  \n",
      " 4   Age         4446 non-null   int64  \n",
      " 5   Marital     4446 non-null   object \n",
      " 6   Records     4446 non-null   object \n",
      " 7   Job         4446 non-null   object \n",
      " 8   Expenses    4446 non-null   int64  \n",
      " 9   Income      4446 non-null   int64  \n",
      " 10  Assets      4446 non-null   int64  \n",
      " 11  Debt        4446 non-null   int64  \n",
      " 12  Amount      4446 non-null   int64  \n",
      " 13  Price       4446 non-null   int64  \n",
      " 14  Finrat      4446 non-null   float64\n",
      " 15  Savings     4446 non-null   float64\n",
      " 16  seniorityR  4446 non-null   object \n",
      " 17  timeR       4446 non-null   object \n",
      " 18  ageR        4446 non-null   object \n",
      " 19  expensesR   4446 non-null   object \n",
      " 20  incomeR     4446 non-null   object \n",
      " 21  assetsR     4446 non-null   object \n",
      " 22  debtR       4446 non-null   object \n",
      " 23  amountR     4446 non-null   object \n",
      " 24  priceR      4446 non-null   object \n",
      " 25  finratR     4446 non-null   object \n",
      " 26  savingsR    4446 non-null   object \n",
      "dtypes: float64(2), int64(9), object(16)\n",
      "memory usage: 938.0+ KB\n"
     ]
    }
   ],
   "source": [
    "df2.info()"
   ]
  },
  {
   "cell_type": "code",
   "execution_count": 7,
   "id": "5b149725",
   "metadata": {},
   "outputs": [
    {
     "data": {
      "text/plain": [
       "Status        0\n",
       "Seniority     0\n",
       "Home          0\n",
       "Time          0\n",
       "Age           0\n",
       "Marital       0\n",
       "Records       0\n",
       "Job           0\n",
       "Expenses      0\n",
       "Income        0\n",
       "Assets        0\n",
       "Debt          0\n",
       "Amount        0\n",
       "Price         0\n",
       "Finrat        0\n",
       "Savings       0\n",
       "seniorityR    0\n",
       "timeR         0\n",
       "ageR          0\n",
       "expensesR     0\n",
       "incomeR       0\n",
       "assetsR       0\n",
       "debtR         0\n",
       "amountR       0\n",
       "priceR        0\n",
       "finratR       0\n",
       "savingsR      0\n",
       "dtype: int64"
      ]
     },
     "execution_count": 7,
     "metadata": {},
     "output_type": "execute_result"
    }
   ],
   "source": [
    "# Valeurs Manquantes par colonnes\n",
    "df2.isnull().sum()"
   ]
  },
  {
   "cell_type": "markdown",
   "id": "01a38a79",
   "metadata": {},
   "source": [
    "# Partie 1 : Analyse univariée"
   ]
  },
  {
   "cell_type": "markdown",
   "id": "5671fd9d",
   "metadata": {},
   "source": [
    "Passons maintenant à l’analyse descriptive de toutes les variables d’intérêt. \n",
    "Tout d’abord, nous vérifions les mesures de la moyenne, de la médiane et du mode des tendances centrales, \n",
    "vérifions les valeurs min et max et les quantiles de chaque variable.\n"
   ]
  },
  {
   "cell_type": "markdown",
   "id": "3a773e3c",
   "metadata": {},
   "source": [
    "# CAS DE LA VARIABLE AMOUNT (MONTANT)"
   ]
  },
  {
   "cell_type": "code",
   "execution_count": 8,
   "id": "98baf687",
   "metadata": {},
   "outputs": [
    {
     "data": {
      "text/plain": [
       "count    4446.000000\n",
       "mean     1038.763383\n",
       "std       474.747952\n",
       "min       100.000000\n",
       "25%       700.000000\n",
       "50%      1000.000000\n",
       "75%      1300.000000\n",
       "max      5000.000000\n",
       "Name: Amount, dtype: float64"
      ]
     },
     "execution_count": 8,
     "metadata": {},
     "output_type": "execute_result"
    }
   ],
   "source": [
    "# STats Descriptives\n",
    "df2['Amount'].describe()"
   ]
  },
  {
   "cell_type": "code",
   "execution_count": 9,
   "id": "b05766c7",
   "metadata": {},
   "outputs": [
    {
     "data": {
      "text/plain": [
       "0    1000\n",
       "dtype: int64"
      ]
     },
     "execution_count": 9,
     "metadata": {},
     "output_type": "execute_result"
    }
   ],
   "source": [
    "df2['Amount'].mode()"
   ]
  },
  {
   "cell_type": "code",
   "execution_count": 10,
   "id": "1837ed32",
   "metadata": {},
   "outputs": [
    {
     "data": {
      "text/plain": [
       "225334.92376938832"
      ]
     },
     "execution_count": 10,
     "metadata": {},
     "output_type": "execute_result"
    }
   ],
   "source": [
    "np.var(df2['Amount'])"
   ]
  },
  {
   "cell_type": "markdown",
   "id": "1e72587d",
   "metadata": {},
   "source": [
    "# CAS DE LA VARIABLE INCOME (REVENU)"
   ]
  },
  {
   "cell_type": "code",
   "execution_count": 11,
   "id": "efec12c4",
   "metadata": {},
   "outputs": [
    {
     "data": {
      "text/plain": [
       "count    4446.000000\n",
       "mean      140.629780\n",
       "std        80.177896\n",
       "min         1.000000\n",
       "25%        90.000000\n",
       "50%       124.000000\n",
       "75%       170.000000\n",
       "max       959.000000\n",
       "Name: Income, dtype: float64"
      ]
     },
     "execution_count": 11,
     "metadata": {},
     "output_type": "execute_result"
    }
   ],
   "source": [
    "# STats Descriptives\n",
    "df2['Income'].describe()"
   ]
  },
  {
   "cell_type": "code",
   "execution_count": 12,
   "id": "7f178289",
   "metadata": {},
   "outputs": [
    {
     "data": {
      "text/plain": [
       "0    100\n",
       "dtype: int64"
      ]
     },
     "execution_count": 12,
     "metadata": {},
     "output_type": "execute_result"
    }
   ],
   "source": [
    "df2['Income'].mode()"
   ]
  },
  {
   "cell_type": "code",
   "execution_count": 13,
   "id": "bc615965",
   "metadata": {},
   "outputs": [
    {
     "data": {
      "text/plain": [
       "6427.049171656299"
      ]
     },
     "execution_count": 13,
     "metadata": {},
     "output_type": "execute_result"
    }
   ],
   "source": [
    "np.var(df2['Income'])"
   ]
  },
  {
   "cell_type": "markdown",
   "id": "487bb784",
   "metadata": {},
   "source": [
    "# CAS DE LA VARIABLE SAVINGS (EPARGNES)"
   ]
  },
  {
   "cell_type": "code",
   "execution_count": 14,
   "id": "bbb8652c",
   "metadata": {},
   "outputs": [
    {
     "data": {
      "text/plain": [
       "count    4446.000000\n",
       "mean        3.860083\n",
       "std         3.726292\n",
       "min        -8.160000\n",
       "25%         1.615385\n",
       "50%         3.120000\n",
       "75%         5.195688\n",
       "max        33.250000\n",
       "Name: Savings, dtype: float64"
      ]
     },
     "execution_count": 14,
     "metadata": {},
     "output_type": "execute_result"
    }
   ],
   "source": [
    "# STats Descriptives\n",
    "df2['Savings'].describe()"
   ]
  },
  {
   "cell_type": "code",
   "execution_count": 15,
   "id": "ef037fe1",
   "metadata": {},
   "outputs": [
    {
     "data": {
      "text/plain": [
       "0    2.4\n",
       "dtype: float64"
      ]
     },
     "execution_count": 15,
     "metadata": {},
     "output_type": "execute_result"
    }
   ],
   "source": [
    "df2['Savings'].mode()"
   ]
  },
  {
   "cell_type": "code",
   "execution_count": 16,
   "id": "dd6cbe13",
   "metadata": {},
   "outputs": [
    {
     "data": {
      "text/plain": [
       "13.88212569931355"
      ]
     },
     "execution_count": 16,
     "metadata": {},
     "output_type": "execute_result"
    }
   ],
   "source": [
    "np.var(df2['Savings'])"
   ]
  },
  {
   "cell_type": "markdown",
   "id": "31b84039",
   "metadata": {},
   "source": [
    "Revenons à nos résultats lorsque nous avons fait une analyse descriptive et imprimé les principales mesures telles que moyenne,\n",
    "max, min, médiane, mode, variance, écart-type... etc.\n",
    "\n",
    "Cas de la Variable Amount (Montant)\n",
    "\n",
    "nous pouvons dire que:\n",
    "La moyenne des montants demandés de tous les montants est:\n",
    "1038.7633828160144\n",
    "Le montant demande le plus bas est 100.\n",
    "Le montant demande le plus élevé est 5000.\n",
    "Le montant le plus fréquement  demandé est 1000.\n",
    "\n",
    "Cas de la Variable Income(Revenu)\n",
    "\n",
    "La moyenne des Revenus  de tous les revenus est:\n",
    "140.62977957714799\n",
    "Le revenu le plus bas est 1.\n",
    "Le revenu le plus élevé est 959.\n",
    "Le revenu le plus fréquent est 100.\n",
    "\n",
    "Cas de la Variable Savings (Epargnes)\n",
    "\n",
    "La moyenne des epargnes de tous les epargnes est:\n",
    "3.8600832788015755\n",
    "#L'epargne  le plus bas est -8.16.\n",
    "#L'epargne  le plus élevé est 33.25.\n",
    "#L'epargne  le plus fréquement  demandé est 2.400000.\n"
   ]
  },
  {
   "cell_type": "markdown",
   "id": "8a609426",
   "metadata": {},
   "source": [
    "# Partie 2 :  Analyse bivariée"
   ]
  },
  {
   "cell_type": "code",
   "execution_count": 17,
   "id": "e5041ec9",
   "metadata": {},
   "outputs": [
    {
     "data": {
      "text/plain": [
       "array([[1.        , 0.19082011],\n",
       "       [0.19082011, 1.        ]])"
      ]
     },
     "execution_count": 17,
     "metadata": {},
     "output_type": "execute_result"
    }
   ],
   "source": [
    "#calculant le coefficient de corrélation entre les variables Amount et Income\n",
    "np.corrcoef(df2['Amount'], df2['Income'])"
   ]
  },
  {
   "cell_type": "markdown",
   "id": "8c3d6a80",
   "metadata": {},
   "source": [
    "0.19082011 Cela signifie que les variables sont faiblement  corrélées  les unes avec les autres."
   ]
  },
  {
   "cell_type": "markdown",
   "id": "ec4fb600",
   "metadata": {},
   "source": [
    "# Visualisation du Modele  que suivent nos variables(Amount et Income)"
   ]
  },
  {
   "cell_type": "code",
   "execution_count": 18,
   "id": "05f22ead",
   "metadata": {},
   "outputs": [
    {
     "data": {
      "image/png": "[encoded data removed]",
      "text/plain": [
       "<Figure size 864x576 with 1 Axes>"
      ]
     },
     "metadata": {
      "needs_background": "light"
     },
     "output_type": "display_data"
    }
   ],
   "source": [
    "plt.figure(figsize = (12,8))\n",
    "sns.scatterplot(data=df2, x= 'Income', y= 'Amount')\n",
    "plt.xlabel('revenu')\n",
    "plt.ylabel('montant demande')\n",
    "plt.show()"
   ]
  },
  {
   "cell_type": "markdown",
   "id": "0fb6352b",
   "metadata": {},
   "source": [
    "# Application d'une regression lineaire"
   ]
  },
  {
   "cell_type": "code",
   "execution_count": 19,
   "id": "732da6c8",
   "metadata": {},
   "outputs": [
    {
     "name": "stdout",
     "output_type": "stream",
     "text": [
      "coefficient of determination: 0.036412315441911036\n",
      "intercept: 879.8685090870313\n",
      "coef: [1.1298807]\n"
     ]
    }
   ],
   "source": [
    "#données\n",
    "x= np.array(df2['Income']).reshape(-1, 1)\n",
    "y = np.array(df2['Amount'])\n",
    "\n",
    "model = LinearRegression().fit(x, y) \n",
    "r_sq = model.score(x,y)\n",
    "print('coefficient of determination:', r_sq)\n",
    "print('intercept:', model.intercept_)\n",
    "print('coef:', model.coef_)"
   ]
  },
  {
   "cell_type": "markdown",
   "id": "072a6c8a",
   "metadata": {},
   "source": [
    "L’expression de cette régression sera exprimée comme suit :"
   ]
  },
  {
   "cell_type": "code",
   "execution_count": 20,
   "id": "fa69dbf2",
   "metadata": {},
   "outputs": [],
   "source": [
    "y = 879.87 + 1.12 * x"
   ]
  },
  {
   "cell_type": "markdown",
   "id": "c201e7a0",
   "metadata": {},
   "source": [
    "# Partie 3 : Analyse multivariée"
   ]
  },
  {
   "cell_type": "markdown",
   "id": "e01fb37a",
   "metadata": {},
   "source": [
    "# Extraire des données numériques"
   ]
  },
  {
   "cell_type": "code",
   "execution_count": 21,
   "id": "65ec09e7",
   "metadata": {},
   "outputs": [
    {
     "data": {
      "text/plain": [
       "Index(['Status', 'Seniority', 'Home', 'Time', 'Age', 'Marital', 'Records',\n",
       "       'Job', 'Expenses', 'Income', 'Assets', 'Debt', 'Amount', 'Price',\n",
       "       'Finrat', 'Savings', 'seniorityR', 'timeR', 'ageR', 'expensesR',\n",
       "       'incomeR', 'assetsR', 'debtR', 'amountR', 'priceR', 'finratR',\n",
       "       'savingsR'],\n",
       "      dtype='object')"
      ]
     },
     "execution_count": 21,
     "metadata": {},
     "output_type": "execute_result"
    }
   ],
   "source": [
    "df2.columns"
   ]
  },
  {
   "cell_type": "code",
   "execution_count": 22,
   "id": "f60f586d",
   "metadata": {},
   "outputs": [
    {
     "name": "stdout",
     "output_type": "stream",
     "text": [
      "<class 'pandas.core.frame.DataFrame'>\n",
      "RangeIndex: 4446 entries, 0 to 4445\n",
      "Data columns (total 27 columns):\n",
      " #   Column      Non-Null Count  Dtype  \n",
      "---  ------      --------------  -----  \n",
      " 0   Status      4446 non-null   object \n",
      " 1   Seniority   4446 non-null   int64  \n",
      " 2   Home        4446 non-null   object \n",
      " 3   Time        4446 non-null   int64  \n",
      " 4   Age         4446 non-null   int64  \n",
      " 5   Marital     4446 non-null   object \n",
      " 6   Records     4446 non-null   object \n",
      " 7   Job         4446 non-null   object \n",
      " 8   Expenses    4446 non-null   int64  \n",
      " 9   Income      4446 non-null   int64  \n",
      " 10  Assets      4446 non-null   int64  \n",
      " 11  Debt        4446 non-null   int64  \n",
      " 12  Amount      4446 non-null   int64  \n",
      " 13  Price       4446 non-null   int64  \n",
      " 14  Finrat      4446 non-null   float64\n",
      " 15  Savings     4446 non-null   float64\n",
      " 16  seniorityR  4446 non-null   object \n",
      " 17  timeR       4446 non-null   object \n",
      " 18  ageR        4446 non-null   object \n",
      " 19  expensesR   4446 non-null   object \n",
      " 20  incomeR     4446 non-null   object \n",
      " 21  assetsR     4446 non-null   object \n",
      " 22  debtR       4446 non-null   object \n",
      " 23  amountR     4446 non-null   object \n",
      " 24  priceR      4446 non-null   object \n",
      " 25  finratR     4446 non-null   object \n",
      " 26  savingsR    4446 non-null   object \n",
      "dtypes: float64(2), int64(9), object(16)\n",
      "memory usage: 938.0+ KB\n"
     ]
    }
   ],
   "source": [
    "df2.info()"
   ]
  },
  {
   "cell_type": "code",
   "execution_count": 23,
   "id": "65c7ebb4",
   "metadata": {},
   "outputs": [
    {
     "data": {
      "text/html": [
       "<div>\n",
       "<style scoped>\n",
       "    .dataframe tbody tr th:only-of-type {\n",
       "        vertical-align: middle;\n",
       "    }\n",
       "\n",
       "    .dataframe tbody tr th {\n",
       "        vertical-align: top;\n",
       "    }\n",
       "\n",
       "    .dataframe thead th {\n",
       "        text-align: right;\n",
       "    }\n",
       "</style>\n",
       "<table border=\"1\" class=\"dataframe\">\n",
       "  <thead>\n",
       "    <tr style=\"text-align: right;\">\n",
       "      <th></th>\n",
       "      <th>Seniority</th>\n",
       "      <th>Time</th>\n",
       "      <th>Age</th>\n",
       "      <th>Expenses</th>\n",
       "      <th>Income</th>\n",
       "      <th>Assets</th>\n",
       "      <th>Debt</th>\n",
       "      <th>Amount</th>\n",
       "      <th>Price</th>\n",
       "      <th>Finrat</th>\n",
       "      <th>Savings</th>\n",
       "    </tr>\n",
       "  </thead>\n",
       "  <tbody>\n",
       "    <tr>\n",
       "      <th>0</th>\n",
       "      <td>9</td>\n",
       "      <td>60</td>\n",
       "      <td>30</td>\n",
       "      <td>73</td>\n",
       "      <td>129</td>\n",
       "      <td>0</td>\n",
       "      <td>0</td>\n",
       "      <td>800</td>\n",
       "      <td>846</td>\n",
       "      <td>94.562648</td>\n",
       "      <td>4.200000</td>\n",
       "    </tr>\n",
       "    <tr>\n",
       "      <th>1</th>\n",
       "      <td>17</td>\n",
       "      <td>60</td>\n",
       "      <td>58</td>\n",
       "      <td>48</td>\n",
       "      <td>131</td>\n",
       "      <td>0</td>\n",
       "      <td>0</td>\n",
       "      <td>1000</td>\n",
       "      <td>1658</td>\n",
       "      <td>60.313631</td>\n",
       "      <td>4.980000</td>\n",
       "    </tr>\n",
       "    <tr>\n",
       "      <th>2</th>\n",
       "      <td>10</td>\n",
       "      <td>36</td>\n",
       "      <td>46</td>\n",
       "      <td>90</td>\n",
       "      <td>200</td>\n",
       "      <td>3000</td>\n",
       "      <td>0</td>\n",
       "      <td>2000</td>\n",
       "      <td>2985</td>\n",
       "      <td>67.001675</td>\n",
       "      <td>1.980000</td>\n",
       "    </tr>\n",
       "    <tr>\n",
       "      <th>3</th>\n",
       "      <td>0</td>\n",
       "      <td>60</td>\n",
       "      <td>24</td>\n",
       "      <td>63</td>\n",
       "      <td>182</td>\n",
       "      <td>2500</td>\n",
       "      <td>0</td>\n",
       "      <td>900</td>\n",
       "      <td>1325</td>\n",
       "      <td>67.924528</td>\n",
       "      <td>7.933333</td>\n",
       "    </tr>\n",
       "    <tr>\n",
       "      <th>4</th>\n",
       "      <td>0</td>\n",
       "      <td>36</td>\n",
       "      <td>26</td>\n",
       "      <td>46</td>\n",
       "      <td>107</td>\n",
       "      <td>0</td>\n",
       "      <td>0</td>\n",
       "      <td>310</td>\n",
       "      <td>910</td>\n",
       "      <td>34.065934</td>\n",
       "      <td>7.083871</td>\n",
       "    </tr>\n",
       "  </tbody>\n",
       "</table>\n",
       "</div>"
      ],
      "text/plain": [
       "   Seniority  Time  Age  Expenses  Income  Assets  Debt  Amount  Price  \\\n",
       "0          9    60   30        73     129       0     0     800    846   \n",
       "1         17    60   58        48     131       0     0    1000   1658   \n",
       "2         10    36   46        90     200    3000     0    2000   2985   \n",
       "3          0    60   24        63     182    2500     0     900   1325   \n",
       "4          0    36   26        46     107       0     0     310    910   \n",
       "\n",
       "      Finrat   Savings  \n",
       "0  94.562648  4.200000  \n",
       "1  60.313631  4.980000  \n",
       "2  67.001675  1.980000  \n",
       "3  67.924528  7.933333  \n",
       "4  34.065934  7.083871  "
      ]
     },
     "execution_count": 23,
     "metadata": {},
     "output_type": "execute_result"
    }
   ],
   "source": [
    "df2 = df2.drop(['Status', 'Home', 'Marital', 'Records', 'Job', 'seniorityR', 'timeR', 'ageR',\n",
    "                'expensesR', 'incomeR', 'assetsR', 'debtR', 'amountR', 'priceR', 'finratR', 'savingsR'], axis=1)\n",
    "df2.head()"
   ]
  },
  {
   "cell_type": "code",
   "execution_count": 24,
   "id": "22f59f00",
   "metadata": {},
   "outputs": [
    {
     "data": {
      "text/plain": [
       "numpy.ndarray"
      ]
     },
     "execution_count": 24,
     "metadata": {},
     "output_type": "execute_result"
    }
   ],
   "source": [
    "X = df2.values\n",
    "type(X)"
   ]
  },
  {
   "cell_type": "code",
   "execution_count": 25,
   "id": "a4b6390e",
   "metadata": {},
   "outputs": [
    {
     "name": "stdout",
     "output_type": "stream",
     "text": [
      "4446 lignes et 11 colonnes\n"
     ]
    }
   ],
   "source": [
    "# Dimensions de notre tableau\n",
    "row = df2.shape[0]\n",
    "col = df2.shape[1]\n",
    "print(f'{row} lignes et {col} colonnes')"
   ]
  },
  {
   "cell_type": "code",
   "execution_count": 26,
   "id": "be8d3131",
   "metadata": {},
   "outputs": [],
   "source": [
    "#X.shape"
   ]
  },
  {
   "cell_type": "code",
   "execution_count": 27,
   "id": "4cfd49ad",
   "metadata": {},
   "outputs": [
    {
     "data": {
      "text/plain": [
       "Index(['Seniority', 'Time', 'Age', 'Expenses', 'Income', 'Assets', 'Debt',\n",
       "       'Amount', 'Price', 'Finrat', 'Savings'],\n",
       "      dtype='object')"
      ]
     },
     "execution_count": 27,
     "metadata": {},
     "output_type": "execute_result"
    }
   ],
   "source": [
    "colonnes = df2.columns\n",
    "colonnes"
   ]
  },
  {
   "cell_type": "code",
   "execution_count": 28,
   "id": "dbbeef82",
   "metadata": {},
   "outputs": [
    {
     "data": {
      "text/plain": [
       "array([[9.00000000e+00, 6.00000000e+01, 3.00000000e+01, ...,\n",
       "        8.46000000e+02, 9.45626478e+01, 4.20000000e+00],\n",
       "       [1.70000000e+01, 6.00000000e+01, 5.80000000e+01, ...,\n",
       "        1.65800000e+03, 6.03136309e+01, 4.98000000e+00],\n",
       "       [1.00000000e+01, 3.60000000e+01, 4.60000000e+01, ...,\n",
       "        2.98500000e+03, 6.70016750e+01, 1.98000000e+00],\n",
       "       ...,\n",
       "       [0.00000000e+00, 2.40000000e+01, 3.70000000e+01, ...,\n",
       "        9.63000000e+02, 5.19210800e+01, 1.44000000e+00],\n",
       "       [0.00000000e+00, 4.80000000e+01, 2.30000000e+01, ...,\n",
       "        5.50000000e+02, 1.00000000e+02, 7.94181818e+00],\n",
       "       [5.00000000e+00, 6.00000000e+01, 3.20000000e+01, ...,\n",
       "        1.65000000e+03, 8.18181818e+01, 3.11111111e+00]])"
      ]
     },
     "execution_count": 28,
     "metadata": {},
     "output_type": "execute_result"
    }
   ],
   "source": [
    "X"
   ]
  },
  {
   "cell_type": "code",
   "execution_count": 29,
   "id": "6c3599df",
   "metadata": {},
   "outputs": [
    {
     "data": {
      "text/plain": [
       "array([[ 0.12336287,  0.92491136, -0.64488271, ..., -0.98090001,\n",
       "         1.0764133 ,  0.09123144],\n",
       "       [ 1.10190227,  0.92491136,  1.90401744, ...,  0.31109689,\n",
       "        -0.6034234 ,  0.30057838],\n",
       "       [ 0.2456803 , -0.71372418,  0.81163166, ...,  2.42252532,\n",
       "        -0.27538999, -0.50460215],\n",
       "       ...,\n",
       "       [-0.97749395, -1.53304195, -0.00765768, ..., -0.79473789,\n",
       "        -1.01505902, -0.64953465],\n",
       "       [-0.97749395,  0.10559359, -1.28210775, ..., -1.45187425,\n",
       "         1.34310311,  1.09551117],\n",
       "       [-0.36590683,  0.92491136, -0.46281842, ...,  0.29836786,\n",
       "         0.45132611, -0.20101927]])"
      ]
     },
     "execution_count": 29,
     "metadata": {},
     "output_type": "execute_result"
    }
   ],
   "source": [
    "# Standardisation\n",
    "scaler = StandardScaler()\n",
    "X_scaled = scaler.fit_transform(X)\n",
    "X_scaled"
   ]
  },
  {
   "cell_type": "code",
   "execution_count": 30,
   "id": "f22140b0",
   "metadata": {},
   "outputs": [
    {
     "data": {
      "text/html": [
       "<div>\n",
       "<style scoped>\n",
       "    .dataframe tbody tr th:only-of-type {\n",
       "        vertical-align: middle;\n",
       "    }\n",
       "\n",
       "    .dataframe tbody tr th {\n",
       "        vertical-align: top;\n",
       "    }\n",
       "\n",
       "    .dataframe thead th {\n",
       "        text-align: right;\n",
       "    }\n",
       "</style>\n",
       "<table border=\"1\" class=\"dataframe\">\n",
       "  <thead>\n",
       "    <tr style=\"text-align: right;\">\n",
       "      <th></th>\n",
       "      <th>Seniority</th>\n",
       "      <th>Time</th>\n",
       "      <th>Age</th>\n",
       "      <th>Expenses</th>\n",
       "      <th>Income</th>\n",
       "      <th>Assets</th>\n",
       "      <th>Debt</th>\n",
       "      <th>Amount</th>\n",
       "      <th>Price</th>\n",
       "      <th>Finrat</th>\n",
       "      <th>Savings</th>\n",
       "    </tr>\n",
       "  </thead>\n",
       "  <tbody>\n",
       "    <tr>\n",
       "      <th>Seniority</th>\n",
       "      <td>1.000000</td>\n",
       "      <td>-0.021874</td>\n",
       "      <td>0.506089</td>\n",
       "      <td>0.125680</td>\n",
       "      <td>0.121224</td>\n",
       "      <td>0.124241</td>\n",
       "      <td>-0.019347</td>\n",
       "      <td>-0.007639</td>\n",
       "      <td>0.041122</td>\n",
       "      <td>-0.073392</td>\n",
       "      <td>0.093246</td>\n",
       "    </tr>\n",
       "    <tr>\n",
       "      <th>Time</th>\n",
       "      <td>-0.021874</td>\n",
       "      <td>1.000000</td>\n",
       "      <td>-0.051850</td>\n",
       "      <td>-0.001717</td>\n",
       "      <td>-0.029915</td>\n",
       "      <td>-0.083018</td>\n",
       "      <td>0.058267</td>\n",
       "      <td>0.430858</td>\n",
       "      <td>0.129677</td>\n",
       "      <td>0.468641</td>\n",
       "      <td>0.101653</td>\n",
       "    </tr>\n",
       "    <tr>\n",
       "      <th>Age</th>\n",
       "      <td>0.506089</td>\n",
       "      <td>-0.051850</td>\n",
       "      <td>1.000000</td>\n",
       "      <td>0.248137</td>\n",
       "      <td>0.147556</td>\n",
       "      <td>0.180986</td>\n",
       "      <td>-0.046188</td>\n",
       "      <td>0.029031</td>\n",
       "      <td>0.048685</td>\n",
       "      <td>-0.034514</td>\n",
       "      <td>0.062036</td>\n",
       "    </tr>\n",
       "    <tr>\n",
       "      <th>Expenses</th>\n",
       "      <td>0.125680</td>\n",
       "      <td>-0.001717</td>\n",
       "      <td>0.248137</td>\n",
       "      <td>1.000000</td>\n",
       "      <td>0.255005</td>\n",
       "      <td>0.018935</td>\n",
       "      <td>0.014771</td>\n",
       "      <td>0.049539</td>\n",
       "      <td>0.040728</td>\n",
       "      <td>0.024582</td>\n",
       "      <td>-0.038094</td>\n",
       "    </tr>\n",
       "    <tr>\n",
       "      <th>Income</th>\n",
       "      <td>0.121224</td>\n",
       "      <td>-0.029915</td>\n",
       "      <td>0.147556</td>\n",
       "      <td>0.255005</td>\n",
       "      <td>1.000000</td>\n",
       "      <td>0.219112</td>\n",
       "      <td>0.144697</td>\n",
       "      <td>0.190820</td>\n",
       "      <td>0.217789</td>\n",
       "      <td>-0.003407</td>\n",
       "      <td>0.717963</td>\n",
       "    </tr>\n",
       "    <tr>\n",
       "      <th>Assets</th>\n",
       "      <td>0.124241</td>\n",
       "      <td>-0.083018</td>\n",
       "      <td>0.180986</td>\n",
       "      <td>0.018935</td>\n",
       "      <td>0.219112</td>\n",
       "      <td>1.000000</td>\n",
       "      <td>0.191619</td>\n",
       "      <td>0.144284</td>\n",
       "      <td>0.194894</td>\n",
       "      <td>-0.025060</td>\n",
       "      <td>0.067001</td>\n",
       "    </tr>\n",
       "    <tr>\n",
       "      <th>Debt</th>\n",
       "      <td>-0.019347</td>\n",
       "      <td>0.058267</td>\n",
       "      <td>-0.046188</td>\n",
       "      <td>0.014771</td>\n",
       "      <td>0.144697</td>\n",
       "      <td>0.191619</td>\n",
       "      <td>1.000000</td>\n",
       "      <td>0.050902</td>\n",
       "      <td>0.043917</td>\n",
       "      <td>0.008609</td>\n",
       "      <td>0.004990</td>\n",
       "    </tr>\n",
       "    <tr>\n",
       "      <th>Amount</th>\n",
       "      <td>-0.007639</td>\n",
       "      <td>0.430858</td>\n",
       "      <td>0.029031</td>\n",
       "      <td>0.049539</td>\n",
       "      <td>0.190820</td>\n",
       "      <td>0.144284</td>\n",
       "      <td>0.050902</td>\n",
       "      <td>1.000000</td>\n",
       "      <td>0.725025</td>\n",
       "      <td>0.473842</td>\n",
       "      <td>-0.149323</td>\n",
       "    </tr>\n",
       "    <tr>\n",
       "      <th>Price</th>\n",
       "      <td>0.041122</td>\n",
       "      <td>0.129677</td>\n",
       "      <td>0.048685</td>\n",
       "      <td>0.040728</td>\n",
       "      <td>0.217789</td>\n",
       "      <td>0.194894</td>\n",
       "      <td>0.043917</td>\n",
       "      <td>0.725025</td>\n",
       "      <td>1.000000</td>\n",
       "      <td>-0.181348</td>\n",
       "      <td>-0.070361</td>\n",
       "    </tr>\n",
       "    <tr>\n",
       "      <th>Finrat</th>\n",
       "      <td>-0.073392</td>\n",
       "      <td>0.468641</td>\n",
       "      <td>-0.034514</td>\n",
       "      <td>0.024582</td>\n",
       "      <td>-0.003407</td>\n",
       "      <td>-0.025060</td>\n",
       "      <td>0.008609</td>\n",
       "      <td>0.473842</td>\n",
       "      <td>-0.181348</td>\n",
       "      <td>1.000000</td>\n",
       "      <td>-0.123180</td>\n",
       "    </tr>\n",
       "    <tr>\n",
       "      <th>Savings</th>\n",
       "      <td>0.093246</td>\n",
       "      <td>0.101653</td>\n",
       "      <td>0.062036</td>\n",
       "      <td>-0.038094</td>\n",
       "      <td>0.717963</td>\n",
       "      <td>0.067001</td>\n",
       "      <td>0.004990</td>\n",
       "      <td>-0.149323</td>\n",
       "      <td>-0.070361</td>\n",
       "      <td>-0.123180</td>\n",
       "      <td>1.000000</td>\n",
       "    </tr>\n",
       "  </tbody>\n",
       "</table>\n",
       "</div>"
      ],
      "text/plain": [
       "           Seniority      Time       Age  Expenses    Income    Assets  \\\n",
       "Seniority   1.000000 -0.021874  0.506089  0.125680  0.121224  0.124241   \n",
       "Time       -0.021874  1.000000 -0.051850 -0.001717 -0.029915 -0.083018   \n",
       "Age         0.506089 -0.051850  1.000000  0.248137  0.147556  0.180986   \n",
       "Expenses    0.125680 -0.001717  0.248137  1.000000  0.255005  0.018935   \n",
       "Income      0.121224 -0.029915  0.147556  0.255005  1.000000  0.219112   \n",
       "Assets      0.124241 -0.083018  0.180986  0.018935  0.219112  1.000000   \n",
       "Debt       -0.019347  0.058267 -0.046188  0.014771  0.144697  0.191619   \n",
       "Amount     -0.007639  0.430858  0.029031  0.049539  0.190820  0.144284   \n",
       "Price       0.041122  0.129677  0.048685  0.040728  0.217789  0.194894   \n",
       "Finrat     -0.073392  0.468641 -0.034514  0.024582 -0.003407 -0.025060   \n",
       "Savings     0.093246  0.101653  0.062036 -0.038094  0.717963  0.067001   \n",
       "\n",
       "               Debt    Amount     Price    Finrat   Savings  \n",
       "Seniority -0.019347 -0.007639  0.041122 -0.073392  0.093246  \n",
       "Time       0.058267  0.430858  0.129677  0.468641  0.101653  \n",
       "Age       -0.046188  0.029031  0.048685 -0.034514  0.062036  \n",
       "Expenses   0.014771  0.049539  0.040728  0.024582 -0.038094  \n",
       "Income     0.144697  0.190820  0.217789 -0.003407  0.717963  \n",
       "Assets     0.191619  0.144284  0.194894 -0.025060  0.067001  \n",
       "Debt       1.000000  0.050902  0.043917  0.008609  0.004990  \n",
       "Amount     0.050902  1.000000  0.725025  0.473842 -0.149323  \n",
       "Price      0.043917  0.725025  1.000000 -0.181348 -0.070361  \n",
       "Finrat     0.008609  0.473842 -0.181348  1.000000 -0.123180  \n",
       "Savings    0.004990 -0.149323 -0.070361 -0.123180  1.000000  "
      ]
     },
     "execution_count": 30,
     "metadata": {},
     "output_type": "execute_result"
    }
   ],
   "source": [
    "# calculer la matrix de correlation\n",
    "matrix = df2.corr()\n",
    "matrix"
   ]
  },
  {
   "cell_type": "code",
   "execution_count": 31,
   "id": "10410c47",
   "metadata": {},
   "outputs": [
    {
     "data": {
      "text/plain": [
       "array([[ 1.        , -0.02187363,  0.50608874,  0.12568047,  0.12122411,\n",
       "         0.12424073, -0.01934661, -0.00763935,  0.04112198, -0.07339167,\n",
       "         0.09324557],\n",
       "       [-0.02187363,  1.        , -0.05184996, -0.00171714, -0.02991524,\n",
       "        -0.0830177 ,  0.05826747,  0.43085832,  0.12967683,  0.46864134,\n",
       "         0.10165326],\n",
       "       [ 0.50608874, -0.05184996,  1.        ,  0.24813694,  0.14755649,\n",
       "         0.18098586, -0.04618789,  0.02903078,  0.04868519, -0.03451424,\n",
       "         0.06203607],\n",
       "       [ 0.12568047, -0.00171714,  0.24813694,  1.        ,  0.25500519,\n",
       "         0.01893457,  0.01477083,  0.04953912,  0.04072803,  0.02458219,\n",
       "        -0.03809391],\n",
       "       [ 0.12122411, -0.02991524,  0.14755649,  0.25500519,  1.        ,\n",
       "         0.21911198,  0.14469675,  0.19082011,  0.21778928, -0.00340719,\n",
       "         0.71796297],\n",
       "       [ 0.12424073, -0.0830177 ,  0.18098586,  0.01893457,  0.21911198,\n",
       "         1.        ,  0.19161949,  0.14428376,  0.19489363, -0.02505999,\n",
       "         0.06700103],\n",
       "       [-0.01934661,  0.05826747, -0.04618789,  0.01477083,  0.14469675,\n",
       "         0.19161949,  1.        ,  0.05090225,  0.04391706,  0.00860853,\n",
       "         0.00499006],\n",
       "       [-0.00763935,  0.43085832,  0.02903078,  0.04953912,  0.19082011,\n",
       "         0.14428376,  0.05090225,  1.        ,  0.72502542,  0.4738421 ,\n",
       "        -0.14932305],\n",
       "       [ 0.04112198,  0.12967683,  0.04868519,  0.04072803,  0.21778928,\n",
       "         0.19489363,  0.04391706,  0.72502542,  1.        , -0.18134757,\n",
       "        -0.07036095],\n",
       "       [-0.07339167,  0.46864134, -0.03451424,  0.02458219, -0.00340719,\n",
       "        -0.02505999,  0.00860853,  0.4738421 , -0.18134757,  1.        ,\n",
       "        -0.12318038],\n",
       "       [ 0.09324557,  0.10165326,  0.06203607, -0.03809391,  0.71796297,\n",
       "         0.06700103,  0.00499006, -0.14932305, -0.07036095, -0.12318038,\n",
       "         1.        ]])"
      ]
     },
     "execution_count": 31,
     "metadata": {},
     "output_type": "execute_result"
    }
   ],
   "source": [
    "# calculer la matrice de covariance\n",
    "cov_df2 = np.corrcoef(X.T)\n",
    "cov_df2"
   ]
  },
  {
   "cell_type": "markdown",
   "id": "419c000c",
   "metadata": {},
   "source": [
    "# MISE EN ŒUVRE DE L'ACP\n",
    "\n",
    "Deux procédures permettent de mettre en œuvre une ACP:\n",
    "\n",
    "    Mais nous allons utiliser La Diagonalisation des matrices de corrélation."
   ]
  },
  {
   "cell_type": "markdown",
   "id": "646332ea",
   "metadata": {},
   "source": [
    "# Diagonalisation des matrices de corrélation"
   ]
  },
  {
   "cell_type": "markdown",
   "id": "fd9221d6",
   "metadata": {},
   "source": [
    "On cherche à projeter orthogonalement le nuage de points sur un espace Fk de dimension k < p.\n",
    "On cherche donc Fk , sous espace de dimension k deFp , tel que l’inertie du nuage projeté sur Fk soit maximale.\n",
    "La projection sur k variables est obtenue en considérant les k plus grandes valeurs propres λ1 ≥ . . . ≥ λk ≥ 0 du DF \n",
    "et les vecteurs propres a1 , . . . , ak.\n"
   ]
  },
  {
   "cell_type": "code",
   "execution_count": 32,
   "id": "8beef02c",
   "metadata": {},
   "outputs": [
    {
     "data": {
      "text/html": [
       "<div>\n",
       "<style scoped>\n",
       "    .dataframe tbody tr th:only-of-type {\n",
       "        vertical-align: middle;\n",
       "    }\n",
       "\n",
       "    .dataframe tbody tr th {\n",
       "        vertical-align: top;\n",
       "    }\n",
       "\n",
       "    .dataframe thead th {\n",
       "        text-align: right;\n",
       "    }\n",
       "</style>\n",
       "<table border=\"1\" class=\"dataframe\">\n",
       "  <thead>\n",
       "    <tr style=\"text-align: right;\">\n",
       "      <th></th>\n",
       "      <th>Valeurs Propres</th>\n",
       "      <th>Pourcentage d'inertie</th>\n",
       "      <th>Pourcentage d'inertie cumulée</th>\n",
       "    </tr>\n",
       "  </thead>\n",
       "  <tbody>\n",
       "    <tr>\n",
       "      <th>Dim1</th>\n",
       "      <td>2.23</td>\n",
       "      <td>0.00</td>\n",
       "      <td>0.00</td>\n",
       "    </tr>\n",
       "    <tr>\n",
       "      <th>Dim2</th>\n",
       "      <td>2.01</td>\n",
       "      <td>9.09</td>\n",
       "      <td>9.09</td>\n",
       "    </tr>\n",
       "    <tr>\n",
       "      <th>Dim3</th>\n",
       "      <td>1.45</td>\n",
       "      <td>18.18</td>\n",
       "      <td>27.27</td>\n",
       "    </tr>\n",
       "    <tr>\n",
       "      <th>Dim4</th>\n",
       "      <td>1.34</td>\n",
       "      <td>27.27</td>\n",
       "      <td>54.55</td>\n",
       "    </tr>\n",
       "    <tr>\n",
       "      <th>Dim5</th>\n",
       "      <td>1.07</td>\n",
       "      <td>36.36</td>\n",
       "      <td>90.91</td>\n",
       "    </tr>\n",
       "    <tr>\n",
       "      <th>Dim6</th>\n",
       "      <td>0.96</td>\n",
       "      <td>45.45</td>\n",
       "      <td>136.36</td>\n",
       "    </tr>\n",
       "    <tr>\n",
       "      <th>Dim7</th>\n",
       "      <td>0.78</td>\n",
       "      <td>54.55</td>\n",
       "      <td>190.91</td>\n",
       "    </tr>\n",
       "    <tr>\n",
       "      <th>Dim8</th>\n",
       "      <td>0.47</td>\n",
       "      <td>63.64</td>\n",
       "      <td>254.55</td>\n",
       "    </tr>\n",
       "    <tr>\n",
       "      <th>Dim9</th>\n",
       "      <td>0.54</td>\n",
       "      <td>72.73</td>\n",
       "      <td>327.27</td>\n",
       "    </tr>\n",
       "    <tr>\n",
       "      <th>Dim10</th>\n",
       "      <td>0.11</td>\n",
       "      <td>81.82</td>\n",
       "      <td>409.09</td>\n",
       "    </tr>\n",
       "    <tr>\n",
       "      <th>Dim11</th>\n",
       "      <td>0.04</td>\n",
       "      <td>90.91</td>\n",
       "      <td>500.00</td>\n",
       "    </tr>\n",
       "  </tbody>\n",
       "</table>\n",
       "</div>"
      ],
      "text/plain": [
       "       Valeurs Propres  Pourcentage d'inertie  Pourcentage d'inertie cumulée\n",
       "Dim1              2.23                   0.00                           0.00\n",
       "Dim2              2.01                   9.09                           9.09\n",
       "Dim3              1.45                  18.18                          27.27\n",
       "Dim4              1.34                  27.27                          54.55\n",
       "Dim5              1.07                  36.36                          90.91\n",
       "Dim6              0.96                  45.45                         136.36\n",
       "Dim7              0.78                  54.55                         190.91\n",
       "Dim8              0.47                  63.64                         254.55\n",
       "Dim9              0.54                  72.73                         327.27\n",
       "Dim10             0.11                  81.82                         409.09\n",
       "Dim11             0.04                  90.91                         500.00"
      ]
     },
     "execution_count": 32,
     "metadata": {},
     "output_type": "execute_result"
    }
   ],
   "source": [
    "# Diagonalisation\n",
    "eigenvalues, eigenvectors = np.linalg.eig(matrix)\n",
    "\n",
    "# Dataframe des valeurs propres\n",
    "inertie_ = np.array([100*i/sum(eigenvalues) for i in range(col)])\n",
    "inertie_cum = np.cumsum(inertie_)\n",
    "eigen_df2 = pd.DataFrame(np.transpose([eigenvalues.round(2), inertie_.round(2), inertie_cum.round(2)]), \n",
    "                        index=[f\"Dim{i+1}\" for i in range(col)], \n",
    "                        columns=['Valeurs Propres', 'Pourcentage d\\'inertie', 'Pourcentage d\\'inertie cumulée'])\n",
    "eigen_df2"
   ]
  },
  {
   "cell_type": "code",
   "execution_count": 33,
   "id": "e7b19b2e",
   "metadata": {},
   "outputs": [],
   "source": [
    "# Fonction de visualisation des valeurs propres\n",
    "def screeplot(data,choice=None,figsize=None):\n",
    "    col = data.shape[0]\n",
    "    fig,axes = plt.subplots(nrows=1, ncols=2, figsize = figsize)\n",
    "    axes[0].grid()\n",
    "    axes[0].set_xlabel('Dimensions',fontsize=14)\n",
    "    axes[0].set_title('Scree plot',fontsize=14)\n",
    "    axes[0].set_xticks([x for x in range(1,col+1)])\n",
    "    \n",
    "    axes[1].grid()\n",
    "    axes[1].set_xlabel('Dimensions',fontsize=14)\n",
    "    axes[1].set_title('Scree plot',fontsize=14)\n",
    "    axes[1].set_xticks([x for x in range(1,col+1)])\n",
    "    \n",
    "    eigen = data.iloc[:,0].round(2)\n",
    "    ylim = np.max(eigen)+1\n",
    "    axes[0].set_ylim(0,ylim)\n",
    "    axes[0].bar(np.arange(1,col+1),eigen.values,width=0.9)\n",
    "    axes[0].plot(np.arange(1,col+1),eigen.values,c=\"black\")\n",
    "    axes[0].set_ylabel('Valeurs Propres',fontsize=13)\n",
    "    for i in range(col):\n",
    "        axes[0].scatter(i+1,eigen.values[i],color='black',alpha=1)\n",
    "        axes[0].text(i+.75,0.10+eigen.values[i],str(eigen.values[i]),color = 'black')\n",
    "\n",
    "    percent = data.iloc[:,1].round()\n",
    "    axes[1].set_ylim(0,100)\n",
    "    axes[1].bar(np.arange(1,col+1),percent.values,width=0.9)\n",
    "    axes[1].plot(np.arange(1,col+1),percent.values,c=\"black\")\n",
    "    axes[1].set_ylabel('Pourcentage de variance',fontsize=13)\n",
    "    for i in range(col):\n",
    "        axes[1].scatter(i+1,percent.values[i],color='black',alpha=1)\n",
    "        axes[1].text(i+.6,0.10+percent.values[i],f'{percent.values[i]}%',color = 'black',\n",
    "                  fontweight='bold',fontsize=12)\n",
    "    plt.show()"
   ]
  },
  {
   "cell_type": "code",
   "execution_count": 34,
   "id": "51507416",
   "metadata": {},
   "outputs": [
    {
     "data": {
      "image/png": "[encoded data removed]",
      "text/plain": [
       "<Figure size 1440x576 with 2 Axes>"
      ]
     },
     "metadata": {
      "needs_background": "light"
     },
     "output_type": "display_data"
    }
   ],
   "source": [
    "# Affichage\n",
    "screeplot(eigen_df2, figsize=(20, 8))\n",
    "#Screeplot(eigen_df2, choice=\"percentage\",figsize=(20, 8))"
   ]
  },
  {
   "cell_type": "markdown",
   "id": "e14d9cbb",
   "metadata": {},
   "source": [
    "# Choix du nombre d'axes"
   ]
  },
  {
   "cell_type": "markdown",
   "id": "a5cd1dad",
   "metadata": {},
   "source": [
    "il y a deux manières pour déterminer le nombre d’axes à prendre en compte :\n",
    "\n",
    "   Un critère “absolu” : Ne retenir que les axes dont les valeurs propres sont supérieures à 1 (c’est le critère de Kaiser).\n",
    "   Un critère “relatif” : Retenir les valeurs propres qui dominent les autres, en se référant au graphique en barres(screeplot)\n",
    "        des valeurs propres.\n",
    "\n",
    "Il est important que les valeurs propres des axes retenus restituent une “bonne proportion” de l’analyse. Cela signifie que la somme de l’inertie expliquée par chacun des axes représente une partie importante de l’inertie totale."
   ]
  },
  {
   "cell_type": "markdown",
   "id": "7dc4448f",
   "metadata": {},
   "source": [
    "Lors d'une ACP, l'inertie totale de chacun des nuages (individus et variables) est égale au nombre de variables actives soit 11 dans notre cas.\n",
    "\n",
    "Les 5 premiers facteurs totalisent 80.8% d'inertie totale\n"
   ]
  },
  {
   "cell_type": "markdown",
   "id": "002d582d",
   "metadata": {},
   "source": [
    "# Représentation des Individus et des Variables"
   ]
  },
  {
   "cell_type": "markdown",
   "id": "4ba5f128",
   "metadata": {},
   "source": [
    "Nuage des individus"
   ]
  },
  {
   "cell_type": "markdown",
   "id": "083f354b",
   "metadata": {},
   "source": [
    "Pour avoir ce nuage, il faut calculer coordonnées factorielles des individus.\n",
    "Pour celà, il suffit d'effectuer le produit de la matrice des vecteurs propres et de la matrice des données centrées réduites"
   ]
  },
  {
   "cell_type": "code",
   "execution_count": 35,
   "id": "82c2bf30",
   "metadata": {},
   "outputs": [
    {
     "data": {
      "text/html": [
       "<div>\n",
       "<style scoped>\n",
       "    .dataframe tbody tr th:only-of-type {\n",
       "        vertical-align: middle;\n",
       "    }\n",
       "\n",
       "    .dataframe tbody tr th {\n",
       "        vertical-align: top;\n",
       "    }\n",
       "\n",
       "    .dataframe thead th {\n",
       "        text-align: right;\n",
       "    }\n",
       "</style>\n",
       "<table border=\"1\" class=\"dataframe\">\n",
       "  <thead>\n",
       "    <tr style=\"text-align: right;\">\n",
       "      <th></th>\n",
       "      <th>Dim1</th>\n",
       "      <th>Dim2</th>\n",
       "      <th>Dim3</th>\n",
       "      <th>Dim4</th>\n",
       "      <th>Dim5</th>\n",
       "      <th>Dim6</th>\n",
       "      <th>Dim7</th>\n",
       "      <th>Dim8</th>\n",
       "      <th>Dim9</th>\n",
       "      <th>Dim10</th>\n",
       "      <th>Dim11</th>\n",
       "    </tr>\n",
       "  </thead>\n",
       "  <tbody>\n",
       "    <tr>\n",
       "      <th>0</th>\n",
       "      <td>0.340293</td>\n",
       "      <td>-0.606274</td>\n",
       "      <td>-0.466484</td>\n",
       "      <td>1.690579</td>\n",
       "      <td>-0.217054</td>\n",
       "      <td>0.650949</td>\n",
       "      <td>0.107838</td>\n",
       "      <td>0.697363</td>\n",
       "      <td>0.442403</td>\n",
       "      <td>-0.004930</td>\n",
       "      <td>-0.227927</td>\n",
       "    </tr>\n",
       "    <tr>\n",
       "      <th>1</th>\n",
       "      <td>-0.606546</td>\n",
       "      <td>0.809877</td>\n",
       "      <td>1.072568</td>\n",
       "      <td>0.840450</td>\n",
       "      <td>0.594695</td>\n",
       "      <td>-1.114715</td>\n",
       "      <td>-1.065063</td>\n",
       "      <td>-0.906149</td>\n",
       "      <td>0.489793</td>\n",
       "      <td>0.194794</td>\n",
       "      <td>-0.006479</td>\n",
       "    </tr>\n",
       "    <tr>\n",
       "      <th>2</th>\n",
       "      <td>-2.527355</td>\n",
       "      <td>0.084336</td>\n",
       "      <td>1.524734</td>\n",
       "      <td>-1.164199</td>\n",
       "      <td>1.405466</td>\n",
       "      <td>1.623912</td>\n",
       "      <td>-0.145541</td>\n",
       "      <td>-0.125343</td>\n",
       "      <td>-0.686271</td>\n",
       "      <td>-0.318451</td>\n",
       "      <td>0.056250</td>\n",
       "    </tr>\n",
       "    <tr>\n",
       "      <th>3</th>\n",
       "      <td>0.079699</td>\n",
       "      <td>-0.187411</td>\n",
       "      <td>-1.868629</td>\n",
       "      <td>0.204942</td>\n",
       "      <td>0.544781</td>\n",
       "      <td>0.564744</td>\n",
       "      <td>0.020990</td>\n",
       "      <td>0.210553</td>\n",
       "      <td>0.958798</td>\n",
       "      <td>-0.019017</td>\n",
       "      <td>0.050196</td>\n",
       "    </tr>\n",
       "    <tr>\n",
       "      <th>4</th>\n",
       "      <td>2.476189</td>\n",
       "      <td>0.996887</td>\n",
       "      <td>-1.313339</td>\n",
       "      <td>-0.851893</td>\n",
       "      <td>0.541228</td>\n",
       "      <td>0.050024</td>\n",
       "      <td>-0.240887</td>\n",
       "      <td>-0.118503</td>\n",
       "      <td>0.732336</td>\n",
       "      <td>-0.203144</td>\n",
       "      <td>0.353134</td>\n",
       "    </tr>\n",
       "  </tbody>\n",
       "</table>\n",
       "</div>"
      ],
      "text/plain": [
       "       Dim1      Dim2      Dim3      Dim4      Dim5      Dim6      Dim7  \\\n",
       "0  0.340293 -0.606274 -0.466484  1.690579 -0.217054  0.650949  0.107838   \n",
       "1 -0.606546  0.809877  1.072568  0.840450  0.594695 -1.114715 -1.065063   \n",
       "2 -2.527355  0.084336  1.524734 -1.164199  1.405466  1.623912 -0.145541   \n",
       "3  0.079699 -0.187411 -1.868629  0.204942  0.544781  0.564744  0.020990   \n",
       "4  2.476189  0.996887 -1.313339 -0.851893  0.541228  0.050024 -0.240887   \n",
       "\n",
       "       Dim8      Dim9     Dim10     Dim11  \n",
       "0  0.697363  0.442403 -0.004930 -0.227927  \n",
       "1 -0.906149  0.489793  0.194794 -0.006479  \n",
       "2 -0.125343 -0.686271 -0.318451  0.056250  \n",
       "3  0.210553  0.958798 -0.019017  0.050196  \n",
       "4 -0.118503  0.732336 -0.203144  0.353134  "
      ]
     },
     "execution_count": 35,
     "metadata": {},
     "output_type": "execute_result"
    }
   ],
   "source": [
    "# Coordonnées Factorielles\n",
    "coord_fac = np.dot(X_scaled, eigenvectors)\n",
    "indiv_coord = pd.DataFrame(coord_fac, columns=[f\"Dim{i+1}\" for i in range(col)], index=df2.index)\n",
    "indiv_coord.head()"
   ]
  },
  {
   "cell_type": "code",
   "execution_count": 36,
   "id": "d7f646cb",
   "metadata": {},
   "outputs": [],
   "source": [
    "# Visualisation du nuages\n",
    "def pca_plot_indiv(data, eigenvalue, axe_x, axe_y, figsize=None):\n",
    "    try:\n",
    "        if axe_x == axe_y:\n",
    "            raise ValueError('Erreur: Les deux doivent être différent')\n",
    "        elif axe_x > axe_y:\n",
    "            raise ValueError('Erreur: L\\'axe x doit être inférieur à l\\'axe y')\n",
    "        elif axe_x < 0 or axe_y <0:\n",
    "            raise ValueError('Erreur: Les axes doivent être supérieur à 0')\n",
    "        else:\n",
    "            row = df2.shape[0]\n",
    "            X = np.array(data)\n",
    "            eigen_percent = np.array([100*i/sum(eigenvalue) for i in eigenvalue]) # % de valeurs propres\n",
    "            dim_x = round(eigen_percent[axe_x], 2) \n",
    "            dim_y = round(eigen_percent[axe_y], 2)\n",
    "            x_max = np.abs(X[:, axe_x]).max() *1.1\n",
    "            y_max = np.abs(X[:, axe_y]).max() *1.1\n",
    "            fig, ax = plt.subplots(figsize=figsize)\n",
    "            ax.grid()\n",
    "            ax.axis([-8, 8, -6, 6])\n",
    "            ax.set_title('Projection des individus')\n",
    "            ax.set_xlim(left=-x_max, right=x_max)\n",
    "            ax.set_ylim(bottom= -y_max, top=y_max)\n",
    "            ax.set_xlabel(f'Dim {axe_x + 1} ({dim_x}%)')\n",
    "            ax.set_ylabel(f'Dim {axe_y + 1} ({dim_y}%)')\n",
    "            for i in range(row):\n",
    "                plt.scatter(data.iloc[i, axe_x], data.iloc[i, axe_y], c=\"blue\")\n",
    "                ax.text(data.iloc[i, axe_x], data.iloc[i, axe_y], data.index[i], color=\"blue\", \n",
    "                        fontsize=10, ha=\"left\", va=\"center\")\n",
    "            plt.show()\n",
    "    except ValueError as error:\n",
    "        print(error)"
   ]
  },
  {
   "cell_type": "code",
   "execution_count": 37,
   "id": "c373da06",
   "metadata": {},
   "outputs": [
    {
     "data": {
      "image/png": "[encoded data removed]",
      "text/plain": [
       "<Figure size 864x576 with 1 Axes>"
      ]
     },
     "metadata": {
      "needs_background": "light"
     },
     "output_type": "display_data"
    }
   ],
   "source": [
    "pca_plot_indiv(indiv_coord, eigenvalues, axe_x=0, axe_y=1, figsize=(12, 8))"
   ]
  },
  {
   "cell_type": "markdown",
   "id": "0d8c92e8",
   "metadata": {},
   "source": [
    "Nuage des variables"
   ]
  },
  {
   "cell_type": "markdown",
   "id": "f908ca96",
   "metadata": {},
   "source": [
    "Calcule de la distance euclidienne entre variables d(x,y) = 2(1-corr(x,y)) => 0 <= d <= 4"
   ]
  },
  {
   "cell_type": "code",
   "execution_count": 38,
   "id": "cad420e8",
   "metadata": {},
   "outputs": [
    {
     "data": {
      "image/png": "[encoded data removed]",
      "text/plain": [
       "<Figure size 864x576 with 2 Axes>"
      ]
     },
     "metadata": {
      "needs_background": "light"
     },
     "output_type": "display_data"
    }
   ],
   "source": [
    "#Initialisation d'un df vide pour stocker nos distances\n",
    "dist_var = pd.DataFrame(np.zeros(shape=(col, col)), index=df2.columns, columns=df2.columns)\n",
    "\n",
    "for i in range(col):\n",
    "    for j in range(i+1, col):\n",
    "        dist_var.iloc[i, j] = 2*(1-matrix.iloc[i, j]) # corr est la matrice de corrélation calculé plus haut\n",
    "        \n",
    "# Visualisation\n",
    "plt.figure(figsize=(12, 8))\n",
    "sns.heatmap(dist_var, cmap='RdBu', linewidths=0.8, annot=True)\n",
    "plt.title('Heatmap des distances entre les variables')\n",
    "plt.show()"
   ]
  },
  {
   "cell_type": "markdown",
   "id": "baafea54",
   "metadata": {},
   "source": [
    "Coordonnées factorielles des variables\n",
    "\n",
    "La coordonnée d’un point-variable sur un axe n’est autre que le coefficient de corrélation de cette variable avec le facteur Fα (combinaison linaire des variables).\n",
    "Gα (k) = Corr(k,Fα ).\n",
    "Pour calculer les coordonnées factorielles d'un point α, on multiplie son vecteur propre uα par la racine de sa valeur propre sqrt(λα)\n",
    "Gα = uα(sqrt(λα))\n"
   ]
  },
  {
   "cell_type": "code",
   "execution_count": 39,
   "id": "0c6046c1",
   "metadata": {},
   "outputs": [],
   "source": [
    "coord_var = pd.DataFrame(eigenvectors * np.sqrt(eigenvalues), index=df2.columns)\n",
    "\n",
    "#Cercle de corrélation\n",
    "def pca_plot_var(data, eigenvalue, axe_x, axe_y, figsize=None):\n",
    "    try:\n",
    "        if axe_x == axe_y:\n",
    "            raise ValueError('Erreur: Les deux doivent être différent')\n",
    "        elif axe_x > axe_y:\n",
    "            raise ValueError('Erreur: L\\'axe x doit être inférieur à l\\'axe y')\n",
    "        elif axe_x < 0 or axe_y <0:\n",
    "            raise ValueError('Erreur: Les axes doivent être supérieur à 0')\n",
    "        else:\n",
    "            row = data.shape[0]\n",
    "            eigen_percent = np.array([100*i/sum(eigenvalue) for i in eigenvalue])\n",
    "            dim_x = round(eigen_percent[axe_x], 2) \n",
    "            dim_y = round(eigen_percent[axe_y], 2)\n",
    "            \n",
    "            fig, axes = plt.subplots(figsize=figsize)\n",
    "            axes.grid()\n",
    "            axes.axis([-1.5,1.5,-1.5,1.5])\n",
    "            axes.set_title(\"Cercle de corrélation\")\n",
    "            axes.set_xlabel(f\"Dim.{1+axe_x} ({dim_x}%)\")\n",
    "            axes.set_ylabel(f\"Dim.{1+axe_y} ({dim_y}%)\")\n",
    "            \n",
    "            for i in range(row):\n",
    "                axes.arrow(0,0,data.iloc[i,axe_x],data.iloc[i,axe_y],\n",
    "                head_width = 0.02,head_length = 0.02,color='black')\n",
    "                axes.text(data.iloc[i,axe_x],data.iloc[i,axe_y],data.index[i],color = \"red\")\n",
    "                \n",
    "            circle = Ellipse((0,0),width = 2, height = 2,facecolor = \"none\",\n",
    "            edgecolor = \"blue\")\n",
    "            axes.add_patch(circle)\n",
    "            plt.axhline(0, color='blue',linestyle=\"--\", linewidth=0.5)\n",
    "            plt.axvline(0, color='blue',linestyle=\"--\", linewidth=0.5)\n",
    "            plt.show()\n",
    "            \n",
    "    except ValueError as error:\n",
    "        print(error)"
   ]
  },
  {
   "cell_type": "code",
   "execution_count": 40,
   "id": "b7c386bd",
   "metadata": {},
   "outputs": [
    {
     "data": {
      "image/png": "[encoded data removed]",
      "text/plain": [
       "<Figure size 576x576 with 1 Axes>"
      ]
     },
     "metadata": {
      "needs_background": "light"
     },
     "output_type": "display_data"
    }
   ],
   "source": [
    "pca_plot_var(data=coord_var, eigenvalue=eigenvalues, axe_x=0, axe_y=1, figsize=(8, 8))"
   ]
  },
  {
   "cell_type": "markdown",
   "id": "01460e7d",
   "metadata": {},
   "source": [
    "# MISE EN ŒUVRE DE LA MCA"
   ]
  },
  {
   "cell_type": "markdown",
   "id": "0162abb1",
   "metadata": {},
   "source": [
    "# Sélection des variables catégorielles"
   ]
  },
  {
   "cell_type": "code",
   "execution_count": 58,
   "id": "77c6eb1c",
   "metadata": {},
   "outputs": [
    {
     "data": {
      "text/html": [
       "<div>\n",
       "<style scoped>\n",
       "    .dataframe tbody tr th:only-of-type {\n",
       "        vertical-align: middle;\n",
       "    }\n",
       "\n",
       "    .dataframe tbody tr th {\n",
       "        vertical-align: top;\n",
       "    }\n",
       "\n",
       "    .dataframe thead th {\n",
       "        text-align: right;\n",
       "    }\n",
       "</style>\n",
       "<table border=\"1\" class=\"dataframe\">\n",
       "  <thead>\n",
       "    <tr style=\"text-align: right;\">\n",
       "      <th></th>\n",
       "      <th>Status</th>\n",
       "      <th>Home</th>\n",
       "      <th>Marital</th>\n",
       "      <th>Records</th>\n",
       "      <th>Job</th>\n",
       "      <th>seniorityR</th>\n",
       "      <th>timeR</th>\n",
       "      <th>ageR</th>\n",
       "      <th>expensesR</th>\n",
       "      <th>incomeR</th>\n",
       "      <th>assetsR</th>\n",
       "      <th>debtR</th>\n",
       "      <th>amountR</th>\n",
       "      <th>priceR</th>\n",
       "      <th>finratR</th>\n",
       "      <th>savingsR</th>\n",
       "    </tr>\n",
       "  </thead>\n",
       "  <tbody>\n",
       "    <tr>\n",
       "      <th>0</th>\n",
       "      <td>good</td>\n",
       "      <td>rent</td>\n",
       "      <td>married</td>\n",
       "      <td>no_rec</td>\n",
       "      <td>freelance</td>\n",
       "      <td>sen (8,14]</td>\n",
       "      <td>time (48,99]</td>\n",
       "      <td>age (25,30]</td>\n",
       "      <td>exp (60,80]</td>\n",
       "      <td>inc (110,140]</td>\n",
       "      <td>asset (-1,0]</td>\n",
       "      <td>debt (-1,0]</td>\n",
       "      <td>am (600,900]</td>\n",
       "      <td>priz (0,1e+03]</td>\n",
       "      <td>finr (90,100]</td>\n",
       "      <td>sav (4,6]</td>\n",
       "    </tr>\n",
       "    <tr>\n",
       "      <th>1</th>\n",
       "      <td>good</td>\n",
       "      <td>rent</td>\n",
       "      <td>widow</td>\n",
       "      <td>no_rec</td>\n",
       "      <td>fixed</td>\n",
       "      <td>sen (14,99]</td>\n",
       "      <td>time (48,99]</td>\n",
       "      <td>age (50,99]</td>\n",
       "      <td>exp (40,50]</td>\n",
       "      <td>inc (110,140]</td>\n",
       "      <td>asset (-1,0]</td>\n",
       "      <td>debt (-1,0]</td>\n",
       "      <td>am (900,1.1e+03]</td>\n",
       "      <td>priz (1.5e+03,1.8e+03]</td>\n",
       "      <td>finr (50,70]</td>\n",
       "      <td>sav (4,6]</td>\n",
       "    </tr>\n",
       "    <tr>\n",
       "      <th>2</th>\n",
       "      <td>bad</td>\n",
       "      <td>owner</td>\n",
       "      <td>married</td>\n",
       "      <td>yes_rec</td>\n",
       "      <td>freelance</td>\n",
       "      <td>sen (8,14]</td>\n",
       "      <td>time (24,36]</td>\n",
       "      <td>age (40,50]</td>\n",
       "      <td>exp (80,1e+04]</td>\n",
       "      <td>inc (190,1e+04]</td>\n",
       "      <td>asset (0,3e+03]</td>\n",
       "      <td>debt (-1,0]</td>\n",
       "      <td>am (1.4e+03,1e+05]</td>\n",
       "      <td>priz (1.8e+03,1e+05]</td>\n",
       "      <td>finr (50,70]</td>\n",
       "      <td>sav (0,2]</td>\n",
       "    </tr>\n",
       "    <tr>\n",
       "      <th>3</th>\n",
       "      <td>good</td>\n",
       "      <td>rent</td>\n",
       "      <td>single</td>\n",
       "      <td>no_rec</td>\n",
       "      <td>fixed</td>\n",
       "      <td>sen (-1,1]</td>\n",
       "      <td>time (48,99]</td>\n",
       "      <td>age (0,25]</td>\n",
       "      <td>exp (60,80]</td>\n",
       "      <td>inc (140,190]</td>\n",
       "      <td>asset (0,3e+03]</td>\n",
       "      <td>debt (-1,0]</td>\n",
       "      <td>am (600,900]</td>\n",
       "      <td>priz (1.3e+03,1.5e+03]</td>\n",
       "      <td>finr (50,70]</td>\n",
       "      <td>sav (6,99]</td>\n",
       "    </tr>\n",
       "    <tr>\n",
       "      <th>4</th>\n",
       "      <td>good</td>\n",
       "      <td>rent</td>\n",
       "      <td>single</td>\n",
       "      <td>no_rec</td>\n",
       "      <td>fixed</td>\n",
       "      <td>sen (-1,1]</td>\n",
       "      <td>time (24,36]</td>\n",
       "      <td>age (25,30]</td>\n",
       "      <td>exp (40,50]</td>\n",
       "      <td>inc (80,110]</td>\n",
       "      <td>asset (-1,0]</td>\n",
       "      <td>debt (-1,0]</td>\n",
       "      <td>am (0,600]</td>\n",
       "      <td>priz (0,1e+03]</td>\n",
       "      <td>finr (0,50]</td>\n",
       "      <td>sav (6,99]</td>\n",
       "    </tr>\n",
       "  </tbody>\n",
       "</table>\n",
       "</div>"
      ],
      "text/plain": [
       "  Status   Home  Marital  Records        Job   seniorityR         timeR  \\\n",
       "0   good   rent  married   no_rec  freelance   sen (8,14]  time (48,99]   \n",
       "1   good   rent    widow   no_rec      fixed  sen (14,99]  time (48,99]   \n",
       "2    bad  owner  married  yes_rec  freelance   sen (8,14]  time (24,36]   \n",
       "3   good   rent   single   no_rec      fixed   sen (-1,1]  time (48,99]   \n",
       "4   good   rent   single   no_rec      fixed   sen (-1,1]  time (24,36]   \n",
       "\n",
       "          ageR       expensesR          incomeR          assetsR        debtR  \\\n",
       "0  age (25,30]     exp (60,80]    inc (110,140]     asset (-1,0]  debt (-1,0]   \n",
       "1  age (50,99]     exp (40,50]    inc (110,140]     asset (-1,0]  debt (-1,0]   \n",
       "2  age (40,50]  exp (80,1e+04]  inc (190,1e+04]  asset (0,3e+03]  debt (-1,0]   \n",
       "3   age (0,25]     exp (60,80]    inc (140,190]  asset (0,3e+03]  debt (-1,0]   \n",
       "4  age (25,30]     exp (40,50]     inc (80,110]     asset (-1,0]  debt (-1,0]   \n",
       "\n",
       "              amountR                  priceR        finratR    savingsR  \n",
       "0        am (600,900]          priz (0,1e+03]  finr (90,100]   sav (4,6]  \n",
       "1    am (900,1.1e+03]  priz (1.5e+03,1.8e+03]   finr (50,70]   sav (4,6]  \n",
       "2  am (1.4e+03,1e+05]    priz (1.8e+03,1e+05]   finr (50,70]   sav (0,2]  \n",
       "3        am (600,900]  priz (1.3e+03,1.5e+03]   finr (50,70]  sav (6,99]  \n",
       "4          am (0,600]          priz (0,1e+03]    finr (0,50]  sav (6,99]  "
      ]
     },
     "execution_count": 58,
     "metadata": {},
     "output_type": "execute_result"
    }
   ],
   "source": [
    "df3 = df.drop(['Seniority','Time','Age','Expenses','Income','Assets','Debt','Amount','Price','Finrat','Savings'], axis=1)\n",
    "df3.columns = ['Status','Home','Marital','Records','Job','seniorityR','timeR','ageR','expensesR','incomeR','assetsR','debtR','amountR','priceR','finratR','savingsR']\n",
    "df3.head()"
   ]
  },
  {
   "cell_type": "code",
   "execution_count": 55,
   "id": "d6495b51",
   "metadata": {},
   "outputs": [],
   "source": [
    "mca = prince.MCA(\n",
    "n_components=2,\n",
    "n_iter=3,\n",
    "copy=True,\n",
    "check_input=True,\n",
    "engine='auto',\n",
    "random_state=42\n",
    ")\n",
    "mca = mca.fit(df3)"
   ]
  },
  {
   "cell_type": "code",
   "execution_count": 59,
   "id": "494e1b67",
   "metadata": {},
   "outputs": [
    {
     "data": {
      "image/png": "[encoded data removed]",
      "text/plain": [
       "<Figure size 432x432 with 1 Axes>"
      ]
     },
     "metadata": {
      "needs_background": "light"
     },
     "output_type": "display_data"
    }
   ],
   "source": [
    "ax = mca.plot_coordinates(\n",
    "     X=df3,\n",
    "     ax=None,\n",
    "     figsize=(6, 6),\n",
    "     show_row_points=True,\n",
    "     row_points_size=10,\n",
    "     show_row_labels=False,\n",
    "     show_column_points=True,\n",
    "     column_points_size=30,\n",
    "     show_column_labels=False,\n",
    "     legend_n_cols=1\n",
    ")"
   ]
  },
  {
   "cell_type": "markdown",
   "id": "2d89a384",
   "metadata": {},
   "source": [
    "Les valeurs propres et les valeurs d'inertie sont également accessibles."
   ]
  },
  {
   "cell_type": "code",
   "execution_count": 45,
   "id": "94840f2f",
   "metadata": {},
   "outputs": [
    {
     "data": {
      "text/plain": [
       "[0.21148208865626877, 0.14634670264942448]"
      ]
     },
     "execution_count": 45,
     "metadata": {},
     "output_type": "execute_result"
    }
   ],
   "source": [
    "mca.eigenvalues_"
   ]
  },
  {
   "cell_type": "code",
   "execution_count": 46,
   "id": "c1389503",
   "metadata": {},
   "outputs": [
    {
     "data": {
      "text/plain": [
       "3.625"
      ]
     },
     "execution_count": 46,
     "metadata": {},
     "output_type": "execute_result"
    }
   ],
   "source": [
    "mca.total_inertia_"
   ]
  },
  {
   "cell_type": "code",
   "execution_count": 47,
   "id": "995c205c",
   "metadata": {},
   "outputs": [
    {
     "data": {
      "text/plain": [
       "[0.058339886525867246, 0.04037150417915158]"
      ]
     },
     "execution_count": 47,
     "metadata": {},
     "output_type": "execute_result"
    }
   ],
   "source": [
    "mca.explained_inertia_"
   ]
  },
  {
   "cell_type": "code",
   "execution_count": null,
   "id": "ada5ace9",
   "metadata": {},
   "outputs": [],
   "source": []
  }
 ],
 "metadata": {
  "kernelspec": {
   "display_name": "Python 3 (ipykernel)",
   "language": "python",
   "name": "python3"
  },
  "language_info": {
   "codemirror_mode": {
    "name": "ipython",
    "version": 3
   },
   "file_extension": ".py",
   "mimetype": "text/x-python",
   "name": "python",
   "nbconvert_exporter": "python",
   "pygments_lexer": "ipython3",
   "version": "3.9.7"
  }
 },
 "nbformat": 4,
 "nbformat_minor": 5
}
