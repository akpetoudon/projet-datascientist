{
 "cells": [
  {
   "cell_type": "code",
   "execution_count": 3,
   "id": "08e27bb4",
   "metadata": {},
   "outputs": [
    {
     "data": {
      "text/html": [
       "<div>\n",
       "<style scoped>\n",
       "    .dataframe tbody tr th:only-of-type {\n",
       "        vertical-align: middle;\n",
       "    }\n",
       "\n",
       "    .dataframe tbody tr th {\n",
       "        vertical-align: top;\n",
       "    }\n",
       "\n",
       "    .dataframe thead th {\n",
       "        text-align: right;\n",
       "    }\n",
       "</style>\n",
       "<table border=\"1\" class=\"dataframe\">\n",
       "  <thead>\n",
       "    <tr style=\"text-align: right;\">\n",
       "      <th></th>\n",
       "      <th>name</th>\n",
       "      <th>score</th>\n",
       "      <th>attempts</th>\n",
       "      <th>qualify</th>\n",
       "    </tr>\n",
       "  </thead>\n",
       "  <tbody>\n",
       "    <tr>\n",
       "      <th>a</th>\n",
       "      <td>Anastasia</td>\n",
       "      <td>12.5</td>\n",
       "      <td>1.0</td>\n",
       "      <td>yes</td>\n",
       "    </tr>\n",
       "    <tr>\n",
       "      <th>b</th>\n",
       "      <td>Dima</td>\n",
       "      <td>9.0</td>\n",
       "      <td>3.0</td>\n",
       "      <td>no</td>\n",
       "    </tr>\n",
       "    <tr>\n",
       "      <th>c</th>\n",
       "      <td>Katherine</td>\n",
       "      <td>16.5</td>\n",
       "      <td>2.0</td>\n",
       "      <td>yes</td>\n",
       "    </tr>\n",
       "  </tbody>\n",
       "</table>\n",
       "</div>"
      ],
      "text/plain": [
       "        name  score  attempts qualify\n",
       "a  Anastasia   12.5       1.0     yes\n",
       "b       Dima    9.0       3.0      no\n",
       "c  Katherine   16.5       2.0     yes"
      ]
     },
     "execution_count": 3,
     "metadata": {},
     "output_type": "execute_result"
    }
   ],
   "source": [
    "import pandas as pd\n",
    "import numpy as np\n",
    "\n",
    "exam_data = {'name': ['Anastasia', 'Dima', 'Katherine', 'James', 'Emily', 'Michael', 'Matthew', 'Laura', 'Kevin', 'Jonas', \"Elias\", 'Myriam'],\n",
    "'score': [12.5, 9, 16.5, np.nan, 9, 20, 14.5, np.nan , 8, 19, 20, 16],\n",
    "'attempts': [1, 3, 2, 3, 2, 3, 1, 1, np.nan ,1, 3, 2],\n",
    "'qualify': ['yes', 'no', 'yes', 'no', 'no', 'yes', 'yes', 'no',np.nan , 'yes', 'yes', 'yes']}\n",
    "labels = ['a', 'b', 'c', 'd', 'e', 'f', 'g', 'h', 'i', 'j', 'k', 'l']\n",
    "df = pd.DataFrame(exam_data,index=labels)\n",
    "df.head(3)"
   ]
  },
  {
   "cell_type": "code",
   "execution_count": null,
   "id": "de421994",
   "metadata": {},
   "outputs": [],
   "source": [
    "#Extract the 'name' and 'score' columns from the DataFrame."
   ]
  },
  {
   "cell_type": "code",
   "execution_count": 5,
   "id": "e35978f5",
   "metadata": {},
   "outputs": [
    {
     "name": "stdout",
     "output_type": "stream",
     "text": [
      "        name  score\n",
      "a  Anastasia   12.5\n",
      "b       Dima    9.0\n",
      "c  Katherine   16.5\n",
      "d      James    NaN\n",
      "e      Emily    9.0\n",
      "f    Michael   20.0\n",
      "g    Matthew   14.5\n",
      "h      Laura    NaN\n",
      "i      Kevin    8.0\n",
      "j      Jonas   19.0\n",
      "k      Elias   20.0\n",
      "l     Myriam   16.0\n"
     ]
    }
   ],
   "source": [
    "df1 = df[['name','score']]\n",
    "print(df1)"
   ]
  },
  {
   "cell_type": "code",
   "execution_count": null,
   "id": "1997d930",
   "metadata": {},
   "outputs": [],
   "source": [
    "#Write a Pandas program to delete the 'attempts' column from the DataFrame."
   ]
  },
  {
   "cell_type": "code",
   "execution_count": 6,
   "id": "6ef6e47f",
   "metadata": {},
   "outputs": [
    {
     "name": "stdout",
     "output_type": "stream",
     "text": [
      "        name  score qualify\n",
      "a  Anastasia   12.5     yes\n",
      "b       Dima    9.0      no\n",
      "c  Katherine   16.5     yes\n",
      "d      James    NaN      no\n",
      "e      Emily    9.0      no\n",
      "f    Michael   20.0     yes\n",
      "g    Matthew   14.5     yes\n",
      "h      Laura    NaN      no\n",
      "i      Kevin    8.0     NaN\n",
      "j      Jonas   19.0     yes\n",
      "k      Elias   20.0     yes\n",
      "l     Myriam   16.0     yes\n"
     ]
    }
   ],
   "source": [
    "df2 = df.drop('attempts', axis=1)\n",
    "print(df2)"
   ]
  },
  {
   "cell_type": "code",
   "execution_count": null,
   "id": "c211cf5c",
   "metadata": {},
   "outputs": [],
   "source": [
    "#Add a new column \"Success\" : if the score is higher than 10 we will have 1 else we will have 0"
   ]
  },
  {
   "cell_type": "code",
   "execution_count": 18,
   "id": "88e10a00",
   "metadata": {},
   "outputs": [
    {
     "name": "stdout",
     "output_type": "stream",
     "text": [
      "        name  score qualify  Success\n",
      "a  Anastasia   12.5     yes        1\n",
      "b       Dima    9.0      no        0\n",
      "c  Katherine   16.5     yes        1\n",
      "d      James    NaN      no        0\n",
      "e      Emily    9.0      no        0\n",
      "f    Michael   20.0     yes        1\n",
      "g    Matthew   14.5     yes        1\n",
      "h      Laura    NaN      no        0\n",
      "i      Kevin    8.0     NaN        0\n",
      "j      Jonas   19.0     yes        1\n",
      "k      Elias   20.0     yes        1\n",
      "l     Myriam   16.0     yes        1\n"
     ]
    }
   ],
   "source": [
    "def Success(c):\n",
    "    if c['score'] > 10:\n",
    "        return 1 \n",
    "    else:\n",
    "        return 0\n",
    "df2['Success'] = df2.apply(Success, axis=1)\n",
    "print(df2)"
   ]
  },
  {
   "cell_type": "code",
   "execution_count": null,
   "id": "cac17275",
   "metadata": {},
   "outputs": [],
   "source": [
    "#After executing the final dataframe, export it into csv file named \"my_data\""
   ]
  },
  {
   "cell_type": "code",
   "execution_count": 21,
   "id": "1677d416",
   "metadata": {
    "collapsed": true
   },
   "outputs": [
    {
     "name": "stdout",
     "output_type": "stream",
     "text": [
      "   Unnamed: 0       name  score qualify  Success\n",
      "0           a  Anastasia   12.5     yes        1\n",
      "1           b       Dima    9.0      no        0\n",
      "2           c  Katherine   16.5     yes        1\n",
      "3           d      James    NaN      no        0\n",
      "4           e      Emily    9.0      no        0\n",
      "5           f    Michael   20.0     yes        1\n",
      "6           g    Matthew   14.5     yes        1\n",
      "7           h      Laura    NaN      no        0\n",
      "8           i      Kevin    8.0     NaN        0\n",
      "9           j      Jonas   19.0     yes        1\n",
      "10          k      Elias   20.0     yes        1\n",
      "11          l     Myriam   16.0     yes        1\n"
     ]
    }
   ],
   "source": [
    "df2.to_csv('my_data.csv')"
   ]
  }
 ],
 "metadata": {
  "kernelspec": {
   "display_name": "Python 3 (ipykernel)",
   "language": "python",
   "name": "python3"
  },
  "language_info": {
   "codemirror_mode": {
    "name": "ipython",
    "version": 3
   },
   "file_extension": ".py",
   "mimetype": "text/x-python",
   "name": "python",
   "nbconvert_exporter": "python",
   "pygments_lexer": "ipython3",
   "version": "3.9.7"
  }
 },
 "nbformat": 4,
 "nbformat_minor": 5
}
