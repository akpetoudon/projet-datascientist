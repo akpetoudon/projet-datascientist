{
 "cells": [
  {
   "cell_type": "markdown",
   "id": "8e127e25",
   "metadata": {},
   "source": [
    "Objective\n",
    "    In this checkpoint, you will be able to make your first API request\n",
    "\n",
    "Instructions\n",
    "    Define an API\n",
    "    Get the request API from this url\n",
    "    Show us the status code of response\n",
    "    Extract data from the this API using json\n",
    "    Create a dataframe containing your final data from your obtained json data."
   ]
  },
  {
   "cell_type": "code",
   "execution_count": 2,
   "id": "cc0dc140",
   "metadata": {},
   "outputs": [
    {
     "name": "stdout",
     "output_type": "stream",
     "text": [
      "Requirement already satisfied: requests in c:\\users\\zigui oumaro\\anaconda3\\lib\\site-packages (2.26.0)\n",
      "Requirement already satisfied: charset-normalizer~=2.0.0 in c:\\users\\zigui oumaro\\anaconda3\\lib\\site-packages (from requests) (2.0.4)\n",
      "Requirement already satisfied: certifi>=2017.4.17 in c:\\users\\zigui oumaro\\anaconda3\\lib\\site-packages (from requests) (2021.10.8)\n",
      "Requirement already satisfied: urllib3<1.27,>=1.21.1 in c:\\users\\zigui oumaro\\anaconda3\\lib\\site-packages (from requests) (1.26.7)\n",
      "Requirement already satisfied: idna<4,>=2.5 in c:\\users\\zigui oumaro\\anaconda3\\lib\\site-packages (from requests) (3.2)\n"
     ]
    }
   ],
   "source": [
    "!pip install requests"
   ]
  },
  {
   "cell_type": "markdown",
   "id": "a1472a45",
   "metadata": {},
   "source": [
    "# Charger les librairies"
   ]
  },
  {
   "cell_type": "code",
   "execution_count": 74,
   "id": "3068261d",
   "metadata": {},
   "outputs": [],
   "source": [
    "import requests\n",
    "import json\n",
    "import pandas as pd\n",
    "import warnings\n",
    "warnings.filterwarnings(\"ignore\")\n",
    "%matplotlib inline"
   ]
  },
  {
   "cell_type": "code",
   "execution_count": 75,
   "id": "342a7de4",
   "metadata": {},
   "outputs": [],
   "source": [
    "#definir une API"
   ]
  },
  {
   "cell_type": "markdown",
   "id": "2d32dac9",
   "metadata": {},
   "source": [
    "API est l’acronyme de Application Programming Interface, qui est un serveur que vous pouvez utiliser pour \n",
    "récupérer et envoyer des données à l’aide de code."
   ]
  },
  {
   "cell_type": "code",
   "execution_count": 76,
   "id": "e518dd11",
   "metadata": {},
   "outputs": [],
   "source": [
    "#nous tirons les données d’une API, nous avons utilisé la fonction pour obtenir les informations de l’API.get()\n",
    "response_API = requests.get('http://api.open-notify.org/astros.json')"
   ]
  },
  {
   "cell_type": "code",
   "execution_count": 77,
   "id": "a63adea8",
   "metadata": {},
   "outputs": [
    {
     "name": "stdout",
     "output_type": "stream",
     "text": [
      "200\n"
     ]
    }
   ],
   "source": [
    "print(response_API.status_code)"
   ]
  },
  {
   "cell_type": "code",
   "execution_count": 78,
   "id": "a283ecdd",
   "metadata": {},
   "outputs": [],
   "source": [
    "#nous aide à extraire les données de l’API mentionnée.requests.get(api_path).text\n",
    "data = response_API.text"
   ]
  },
  {
   "cell_type": "code",
   "execution_count": 83,
   "id": "1016b590",
   "metadata": {},
   "outputs": [
    {
     "data": {
      "text/plain": [
       "{'message': 'success',\n",
       " 'people': [{'name': 'Sergey Prokopyev', 'craft': 'ISS'},\n",
       "  {'name': 'Dmitry Petelin', 'craft': 'ISS'},\n",
       "  {'name': 'Frank Rubio', 'craft': 'ISS'},\n",
       "  {'name': 'Nicole Mann', 'craft': 'ISS'},\n",
       "  {'name': 'Josh Cassada', 'craft': 'ISS'},\n",
       "  {'name': 'Koichi Wakata', 'craft': 'ISS'},\n",
       "  {'name': 'Anna Kikina', 'craft': 'ISS'},\n",
       "  {'name': 'Fei Junlong', 'craft': 'Shenzhou 15'},\n",
       "  {'name': 'Deng Qingming', 'craft': 'Shenzhou 15'},\n",
       "  {'name': 'Zhang Lu', 'craft': 'Shenzhou 15'}],\n",
       " 'number': 10}"
      ]
     },
     "execution_count": 83,
     "metadata": {},
     "output_type": "execute_result"
    }
   ],
   "source": [
    "#convertir et  décoder les données au format JSON approprié\n",
    "parse_json = json.loads(data)\n",
    "parse_json"
   ]
  }
 ],
 "metadata": {
  "kernelspec": {
   "display_name": "Python 3 (ipykernel)",
   "language": "python",
   "name": "python3"
  },
  "language_info": {
   "codemirror_mode": {
    "name": "ipython",
    "version": 3
   },
   "file_extension": ".py",
   "mimetype": "text/x-python",
   "name": "python",
   "nbconvert_exporter": "python",
   "pygments_lexer": "ipython3",
   "version": "3.9.7"
  }
 },
 "nbformat": 4,
 "nbformat_minor": 5
}
