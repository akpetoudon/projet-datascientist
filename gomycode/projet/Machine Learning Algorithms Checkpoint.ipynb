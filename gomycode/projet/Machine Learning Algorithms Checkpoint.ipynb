{
 "cells": [
  {
   "cell_type": "markdown",
   "id": "c49e732a",
   "metadata": {},
   "source": [
    "Objectif\n",
    "Dans ce point de contrôle, nous allons prédire si un patient a une maladie rénale chronique ou non en utilisant plusieurs algorithmes de classification de l’apprentissage supervisé. Ensuite, nous identifierons les clusters inhérents à nos données à l’aide d’algorithmes de clustering d’apprentissage non supervisé.\n",
    "\n",
    "Instructions\n",
    "Partie 1 : apprentissage supervisé\n",
    "\n",
    "Chargez l’ensemble de données sur les maladies rénales.\n",
    "Utilisez cette commande pour renommer les colonnes : data.rename(columns={'bp': 'blood_pressure', 'sg': 'densité ','al':'albumine','su':'sucre','rbc':'globules rouges','pc':'cellule pus','pcc':'amas de cellules de pus','ba':'bactéries','bgr':'glycémie aléatoire','bu':'urée sanguine','sc':'créatinine sérique','sod':'sodium','pot':'potassium','hémo':'hémoglobine','pcv':'volume cellulaire emballé','wc':'numération des globules blancs', 'rc':'nombre de globules rouges','HTN':'hypertension','dm':'diabète sucré','cad':'maladie coronarienne','appet':'appétit','pe':'œdème pédale','ane':'anémie','classification':'classe'},inplace=Vrai)\n",
    "Appliquez une régression logistique et imprimez la matrice de confusion pour valider votre modèle.\n",
    "Appliquer KNN et choisir le nombre optimal de voisins\n",
    "Appliquez l’arbre de décision, tracez-le et calculez la précision.\n",
    "Appliquez une forêt aléatoire, calculez la nouvelle précision et comparez-la avec le résultat précédent.\n",
    "\n",
    "Partie 2 : apprentissage non supervisé\n",
    "\n",
    "Supprimer la variable cible (nommée « classification »)\n",
    "Utilisez le clustering hiérarchique pour identifier les regroupements inhérents à vos données.\n",
    "Tracez les clusters.\n",
    "Tracez le dendrogramme. Utilisez le clustering k-means et sélectionnez le k optimal.\n",
    "Tracez les clusters."
   ]
  },
  {
   "cell_type": "markdown",
   "id": "cb8812f8",
   "metadata": {},
   "source": [
    "IMPORTER LES LIBRAIRIES"
   ]
  },
  {
   "cell_type": "code",
   "execution_count": 1,
   "id": "08c6d8a9",
   "metadata": {},
   "outputs": [],
   "source": [
    "import pandas as pd\n",
    "import numpy as np\n",
    "import matplotlib.pyplot as plt\n",
    "from sklearn.metrics import roc_curve\n",
    "from sklearn.metrics import roc_auc_score\n",
    "from sklearn.model_selection import train_test_split\n",
    "from sklearn.linear_model import LogisticRegression\n",
    "from sklearn.metrics import confusion_matrix\n",
    "from sklearn.metrics import accuracy_score\n",
    "from sklearn.metrics import classification_report\n",
    "from sklearn.model_selection import train_test_split\n",
    "from sklearn.neighbors import KNeighborsClassifier\n",
    "from sklearn.ensemble import RandomForestClassifier\n",
    "from sklearn.metrics import roc_curve\n",
    "from sklearn.cluster import KMeans\n",
    "import scipy.cluster.hierarchy as shc\n",
    "from sklearn.cluster import AgglomerativeClustering\n",
    "import sklearn.metrics\n",
    "from sklearn import metrics\n",
    "from sklearn import tree   \n",
    "from sklearn.tree import DecisionTreeClassifier, plot_tree\n",
    "from sklearn.metrics import accuracy_score\n",
    "import sklearn\n",
    "import io\n",
    "import requests\n",
    "import seaborn as sns\n",
    "import warnings\n",
    "warnings.filterwarnings(\"ignore\")\n",
    "%matplotlib inline"
   ]
  },
  {
   "cell_type": "markdown",
   "id": "5fef4327",
   "metadata": {},
   "source": [
    "# CHARGER LES DONNEES"
   ]
  },
  {
   "cell_type": "code",
   "execution_count": 2,
   "id": "d6236242",
   "metadata": {},
   "outputs": [
    {
     "data": {
      "text/html": [
       "<div>\n",
       "<style scoped>\n",
       "    .dataframe tbody tr th:only-of-type {\n",
       "        vertical-align: middle;\n",
       "    }\n",
       "\n",
       "    .dataframe tbody tr th {\n",
       "        vertical-align: top;\n",
       "    }\n",
       "\n",
       "    .dataframe thead th {\n",
       "        text-align: right;\n",
       "    }\n",
       "</style>\n",
       "<table border=\"1\" class=\"dataframe\">\n",
       "  <thead>\n",
       "    <tr style=\"text-align: right;\">\n",
       "      <th></th>\n",
       "      <th>id</th>\n",
       "      <th>age</th>\n",
       "      <th>bp</th>\n",
       "      <th>sg</th>\n",
       "      <th>al</th>\n",
       "      <th>su</th>\n",
       "      <th>rbc</th>\n",
       "      <th>pc</th>\n",
       "      <th>pcc</th>\n",
       "      <th>ba</th>\n",
       "      <th>...</th>\n",
       "      <th>pcv</th>\n",
       "      <th>wc</th>\n",
       "      <th>rc</th>\n",
       "      <th>htn</th>\n",
       "      <th>dm</th>\n",
       "      <th>cad</th>\n",
       "      <th>appet</th>\n",
       "      <th>pe</th>\n",
       "      <th>ane</th>\n",
       "      <th>classification</th>\n",
       "    </tr>\n",
       "  </thead>\n",
       "  <tbody>\n",
       "    <tr>\n",
       "      <th>0</th>\n",
       "      <td>0</td>\n",
       "      <td>48.0</td>\n",
       "      <td>80.0</td>\n",
       "      <td>1.020</td>\n",
       "      <td>1.0</td>\n",
       "      <td>0.0</td>\n",
       "      <td>NaN</td>\n",
       "      <td>normal</td>\n",
       "      <td>notpresent</td>\n",
       "      <td>notpresent</td>\n",
       "      <td>...</td>\n",
       "      <td>44</td>\n",
       "      <td>7800</td>\n",
       "      <td>5.2</td>\n",
       "      <td>yes</td>\n",
       "      <td>yes</td>\n",
       "      <td>no</td>\n",
       "      <td>good</td>\n",
       "      <td>no</td>\n",
       "      <td>no</td>\n",
       "      <td>ckd</td>\n",
       "    </tr>\n",
       "    <tr>\n",
       "      <th>1</th>\n",
       "      <td>1</td>\n",
       "      <td>7.0</td>\n",
       "      <td>50.0</td>\n",
       "      <td>1.020</td>\n",
       "      <td>4.0</td>\n",
       "      <td>0.0</td>\n",
       "      <td>NaN</td>\n",
       "      <td>normal</td>\n",
       "      <td>notpresent</td>\n",
       "      <td>notpresent</td>\n",
       "      <td>...</td>\n",
       "      <td>38</td>\n",
       "      <td>6000</td>\n",
       "      <td>NaN</td>\n",
       "      <td>no</td>\n",
       "      <td>no</td>\n",
       "      <td>no</td>\n",
       "      <td>good</td>\n",
       "      <td>no</td>\n",
       "      <td>no</td>\n",
       "      <td>ckd</td>\n",
       "    </tr>\n",
       "    <tr>\n",
       "      <th>2</th>\n",
       "      <td>2</td>\n",
       "      <td>62.0</td>\n",
       "      <td>80.0</td>\n",
       "      <td>1.010</td>\n",
       "      <td>2.0</td>\n",
       "      <td>3.0</td>\n",
       "      <td>normal</td>\n",
       "      <td>normal</td>\n",
       "      <td>notpresent</td>\n",
       "      <td>notpresent</td>\n",
       "      <td>...</td>\n",
       "      <td>31</td>\n",
       "      <td>7500</td>\n",
       "      <td>NaN</td>\n",
       "      <td>no</td>\n",
       "      <td>yes</td>\n",
       "      <td>no</td>\n",
       "      <td>poor</td>\n",
       "      <td>no</td>\n",
       "      <td>yes</td>\n",
       "      <td>ckd</td>\n",
       "    </tr>\n",
       "    <tr>\n",
       "      <th>3</th>\n",
       "      <td>3</td>\n",
       "      <td>48.0</td>\n",
       "      <td>70.0</td>\n",
       "      <td>1.005</td>\n",
       "      <td>4.0</td>\n",
       "      <td>0.0</td>\n",
       "      <td>normal</td>\n",
       "      <td>abnormal</td>\n",
       "      <td>present</td>\n",
       "      <td>notpresent</td>\n",
       "      <td>...</td>\n",
       "      <td>32</td>\n",
       "      <td>6700</td>\n",
       "      <td>3.9</td>\n",
       "      <td>yes</td>\n",
       "      <td>no</td>\n",
       "      <td>no</td>\n",
       "      <td>poor</td>\n",
       "      <td>yes</td>\n",
       "      <td>yes</td>\n",
       "      <td>ckd</td>\n",
       "    </tr>\n",
       "    <tr>\n",
       "      <th>4</th>\n",
       "      <td>4</td>\n",
       "      <td>51.0</td>\n",
       "      <td>80.0</td>\n",
       "      <td>1.010</td>\n",
       "      <td>2.0</td>\n",
       "      <td>0.0</td>\n",
       "      <td>normal</td>\n",
       "      <td>normal</td>\n",
       "      <td>notpresent</td>\n",
       "      <td>notpresent</td>\n",
       "      <td>...</td>\n",
       "      <td>35</td>\n",
       "      <td>7300</td>\n",
       "      <td>4.6</td>\n",
       "      <td>no</td>\n",
       "      <td>no</td>\n",
       "      <td>no</td>\n",
       "      <td>good</td>\n",
       "      <td>no</td>\n",
       "      <td>no</td>\n",
       "      <td>ckd</td>\n",
       "    </tr>\n",
       "  </tbody>\n",
       "</table>\n",
       "<p>5 rows × 26 columns</p>\n",
       "</div>"
      ],
      "text/plain": [
       "   id   age    bp     sg   al   su     rbc        pc         pcc          ba  \\\n",
       "0   0  48.0  80.0  1.020  1.0  0.0     NaN    normal  notpresent  notpresent   \n",
       "1   1   7.0  50.0  1.020  4.0  0.0     NaN    normal  notpresent  notpresent   \n",
       "2   2  62.0  80.0  1.010  2.0  3.0  normal    normal  notpresent  notpresent   \n",
       "3   3  48.0  70.0  1.005  4.0  0.0  normal  abnormal     present  notpresent   \n",
       "4   4  51.0  80.0  1.010  2.0  0.0  normal    normal  notpresent  notpresent   \n",
       "\n",
       "   ...  pcv    wc   rc  htn   dm  cad appet   pe  ane classification  \n",
       "0  ...   44  7800  5.2  yes  yes   no  good   no   no            ckd  \n",
       "1  ...   38  6000  NaN   no   no   no  good   no   no            ckd  \n",
       "2  ...   31  7500  NaN   no  yes   no  poor   no  yes            ckd  \n",
       "3  ...   32  6700  3.9  yes   no   no  poor  yes  yes            ckd  \n",
       "4  ...   35  7300  4.6   no   no   no  good   no   no            ckd  \n",
       "\n",
       "[5 rows x 26 columns]"
      ]
     },
     "execution_count": 2,
     "metadata": {},
     "output_type": "execute_result"
    }
   ],
   "source": [
    "data = pd.read_csv('kidney_disease.csv',sep=\",\" )\n",
    "data.head()"
   ]
  },
  {
   "cell_type": "code",
   "execution_count": 3,
   "id": "3b8e78c2",
   "metadata": {},
   "outputs": [
    {
     "name": "stdout",
     "output_type": "stream",
     "text": [
      "<class 'pandas.core.frame.DataFrame'>\n",
      "RangeIndex: 400 entries, 0 to 399\n",
      "Data columns (total 26 columns):\n",
      " #   Column          Non-Null Count  Dtype  \n",
      "---  ------          --------------  -----  \n",
      " 0   id              400 non-null    int64  \n",
      " 1   age             391 non-null    float64\n",
      " 2   bp              388 non-null    float64\n",
      " 3   sg              353 non-null    float64\n",
      " 4   al              354 non-null    float64\n",
      " 5   su              351 non-null    float64\n",
      " 6   rbc             248 non-null    object \n",
      " 7   pc              335 non-null    object \n",
      " 8   pcc             396 non-null    object \n",
      " 9   ba              396 non-null    object \n",
      " 10  bgr             356 non-null    float64\n",
      " 11  bu              381 non-null    float64\n",
      " 12  sc              383 non-null    float64\n",
      " 13  sod             313 non-null    float64\n",
      " 14  pot             312 non-null    float64\n",
      " 15  hemo            348 non-null    float64\n",
      " 16  pcv             330 non-null    object \n",
      " 17  wc              295 non-null    object \n",
      " 18  rc              270 non-null    object \n",
      " 19  htn             398 non-null    object \n",
      " 20  dm              398 non-null    object \n",
      " 21  cad             398 non-null    object \n",
      " 22  appet           399 non-null    object \n",
      " 23  pe              399 non-null    object \n",
      " 24  ane             399 non-null    object \n",
      " 25  classification  400 non-null    object \n",
      "dtypes: float64(11), int64(1), object(14)\n",
      "memory usage: 81.4+ KB\n"
     ]
    }
   ],
   "source": [
    "#copie du dataset\n",
    "data1 = data.copy() \n",
    "data1.info()"
   ]
  },
  {
   "cell_type": "code",
   "execution_count": 4,
   "id": "e5e71b52",
   "metadata": {},
   "outputs": [],
   "source": [
    "data1.rename(columns={'bp': 'blood_pressure', 'sg': 'densité ','al':'albumine','su':'sucre','rbc':'globules rouges','pc':'cellule pus','pcc':'amas de cellules de pus','ba':'bactéries','bgr':'glycémie aléatoire','bu':'urée sanguine','sc':'créatinine sérique','sod':'sodium','pot':'potassium','hémo':'hémoglobine','pcv':'volume_cellulaire_emballé','wc':'numération des globules blancs', 'rc':'nombre de globules rouges','HTN':'hypertension','dm':'diabète sucré','cad':'maladie coronarienne','appet':'appétit','pe':'œdème pédale','ane':'anémie','classification':'classe'},inplace=True)"
   ]
  },
  {
   "cell_type": "code",
   "execution_count": 5,
   "id": "e5a86f37",
   "metadata": {},
   "outputs": [
    {
     "data": {
      "text/html": [
       "<div>\n",
       "<style scoped>\n",
       "    .dataframe tbody tr th:only-of-type {\n",
       "        vertical-align: middle;\n",
       "    }\n",
       "\n",
       "    .dataframe tbody tr th {\n",
       "        vertical-align: top;\n",
       "    }\n",
       "\n",
       "    .dataframe thead th {\n",
       "        text-align: right;\n",
       "    }\n",
       "</style>\n",
       "<table border=\"1\" class=\"dataframe\">\n",
       "  <thead>\n",
       "    <tr style=\"text-align: right;\">\n",
       "      <th></th>\n",
       "      <th>id</th>\n",
       "      <th>age</th>\n",
       "      <th>blood_pressure</th>\n",
       "      <th>densité</th>\n",
       "      <th>albumine</th>\n",
       "      <th>sucre</th>\n",
       "      <th>globules rouges</th>\n",
       "      <th>cellule pus</th>\n",
       "      <th>amas de cellules de pus</th>\n",
       "      <th>bactéries</th>\n",
       "      <th>...</th>\n",
       "      <th>volume_cellulaire_emballé</th>\n",
       "      <th>numération des globules blancs</th>\n",
       "      <th>nombre de globules rouges</th>\n",
       "      <th>htn</th>\n",
       "      <th>diabète sucré</th>\n",
       "      <th>maladie coronarienne</th>\n",
       "      <th>appétit</th>\n",
       "      <th>œdème pédale</th>\n",
       "      <th>anémie</th>\n",
       "      <th>classe</th>\n",
       "    </tr>\n",
       "  </thead>\n",
       "  <tbody>\n",
       "    <tr>\n",
       "      <th>0</th>\n",
       "      <td>0</td>\n",
       "      <td>48.0</td>\n",
       "      <td>80.0</td>\n",
       "      <td>1.020</td>\n",
       "      <td>1.0</td>\n",
       "      <td>0.0</td>\n",
       "      <td>NaN</td>\n",
       "      <td>normal</td>\n",
       "      <td>notpresent</td>\n",
       "      <td>notpresent</td>\n",
       "      <td>...</td>\n",
       "      <td>44</td>\n",
       "      <td>7800</td>\n",
       "      <td>5.2</td>\n",
       "      <td>yes</td>\n",
       "      <td>yes</td>\n",
       "      <td>no</td>\n",
       "      <td>good</td>\n",
       "      <td>no</td>\n",
       "      <td>no</td>\n",
       "      <td>ckd</td>\n",
       "    </tr>\n",
       "    <tr>\n",
       "      <th>1</th>\n",
       "      <td>1</td>\n",
       "      <td>7.0</td>\n",
       "      <td>50.0</td>\n",
       "      <td>1.020</td>\n",
       "      <td>4.0</td>\n",
       "      <td>0.0</td>\n",
       "      <td>NaN</td>\n",
       "      <td>normal</td>\n",
       "      <td>notpresent</td>\n",
       "      <td>notpresent</td>\n",
       "      <td>...</td>\n",
       "      <td>38</td>\n",
       "      <td>6000</td>\n",
       "      <td>NaN</td>\n",
       "      <td>no</td>\n",
       "      <td>no</td>\n",
       "      <td>no</td>\n",
       "      <td>good</td>\n",
       "      <td>no</td>\n",
       "      <td>no</td>\n",
       "      <td>ckd</td>\n",
       "    </tr>\n",
       "    <tr>\n",
       "      <th>2</th>\n",
       "      <td>2</td>\n",
       "      <td>62.0</td>\n",
       "      <td>80.0</td>\n",
       "      <td>1.010</td>\n",
       "      <td>2.0</td>\n",
       "      <td>3.0</td>\n",
       "      <td>normal</td>\n",
       "      <td>normal</td>\n",
       "      <td>notpresent</td>\n",
       "      <td>notpresent</td>\n",
       "      <td>...</td>\n",
       "      <td>31</td>\n",
       "      <td>7500</td>\n",
       "      <td>NaN</td>\n",
       "      <td>no</td>\n",
       "      <td>yes</td>\n",
       "      <td>no</td>\n",
       "      <td>poor</td>\n",
       "      <td>no</td>\n",
       "      <td>yes</td>\n",
       "      <td>ckd</td>\n",
       "    </tr>\n",
       "    <tr>\n",
       "      <th>3</th>\n",
       "      <td>3</td>\n",
       "      <td>48.0</td>\n",
       "      <td>70.0</td>\n",
       "      <td>1.005</td>\n",
       "      <td>4.0</td>\n",
       "      <td>0.0</td>\n",
       "      <td>normal</td>\n",
       "      <td>abnormal</td>\n",
       "      <td>present</td>\n",
       "      <td>notpresent</td>\n",
       "      <td>...</td>\n",
       "      <td>32</td>\n",
       "      <td>6700</td>\n",
       "      <td>3.9</td>\n",
       "      <td>yes</td>\n",
       "      <td>no</td>\n",
       "      <td>no</td>\n",
       "      <td>poor</td>\n",
       "      <td>yes</td>\n",
       "      <td>yes</td>\n",
       "      <td>ckd</td>\n",
       "    </tr>\n",
       "    <tr>\n",
       "      <th>4</th>\n",
       "      <td>4</td>\n",
       "      <td>51.0</td>\n",
       "      <td>80.0</td>\n",
       "      <td>1.010</td>\n",
       "      <td>2.0</td>\n",
       "      <td>0.0</td>\n",
       "      <td>normal</td>\n",
       "      <td>normal</td>\n",
       "      <td>notpresent</td>\n",
       "      <td>notpresent</td>\n",
       "      <td>...</td>\n",
       "      <td>35</td>\n",
       "      <td>7300</td>\n",
       "      <td>4.6</td>\n",
       "      <td>no</td>\n",
       "      <td>no</td>\n",
       "      <td>no</td>\n",
       "      <td>good</td>\n",
       "      <td>no</td>\n",
       "      <td>no</td>\n",
       "      <td>ckd</td>\n",
       "    </tr>\n",
       "  </tbody>\n",
       "</table>\n",
       "<p>5 rows × 26 columns</p>\n",
       "</div>"
      ],
      "text/plain": [
       "   id   age  blood_pressure  densité   albumine  sucre globules rouges  \\\n",
       "0   0  48.0            80.0     1.020       1.0    0.0             NaN   \n",
       "1   1   7.0            50.0     1.020       4.0    0.0             NaN   \n",
       "2   2  62.0            80.0     1.010       2.0    3.0          normal   \n",
       "3   3  48.0            70.0     1.005       4.0    0.0          normal   \n",
       "4   4  51.0            80.0     1.010       2.0    0.0          normal   \n",
       "\n",
       "  cellule pus amas de cellules de pus   bactéries  ...  \\\n",
       "0      normal              notpresent  notpresent  ...   \n",
       "1      normal              notpresent  notpresent  ...   \n",
       "2      normal              notpresent  notpresent  ...   \n",
       "3    abnormal                 present  notpresent  ...   \n",
       "4      normal              notpresent  notpresent  ...   \n",
       "\n",
       "   volume_cellulaire_emballé  numération des globules blancs  \\\n",
       "0                         44                            7800   \n",
       "1                         38                            6000   \n",
       "2                         31                            7500   \n",
       "3                         32                            6700   \n",
       "4                         35                            7300   \n",
       "\n",
       "   nombre de globules rouges  htn  diabète sucré  maladie coronarienne  \\\n",
       "0                        5.2  yes            yes                    no   \n",
       "1                        NaN   no             no                    no   \n",
       "2                        NaN   no            yes                    no   \n",
       "3                        3.9  yes             no                    no   \n",
       "4                        4.6   no             no                    no   \n",
       "\n",
       "  appétit œdème pédale anémie classe  \n",
       "0    good           no     no    ckd  \n",
       "1    good           no     no    ckd  \n",
       "2    poor           no    yes    ckd  \n",
       "3    poor          yes    yes    ckd  \n",
       "4    good           no     no    ckd  \n",
       "\n",
       "[5 rows x 26 columns]"
      ]
     },
     "execution_count": 5,
     "metadata": {},
     "output_type": "execute_result"
    }
   ],
   "source": [
    "data1.head()"
   ]
  },
  {
   "cell_type": "code",
   "execution_count": 6,
   "id": "d1bfdbf7",
   "metadata": {},
   "outputs": [
    {
     "data": {
      "text/plain": [
       "(400, 26)"
      ]
     },
     "execution_count": 6,
     "metadata": {},
     "output_type": "execute_result"
    }
   ],
   "source": [
    "data1.shape"
   ]
  },
  {
   "cell_type": "code",
   "execution_count": 7,
   "id": "4d707119",
   "metadata": {},
   "outputs": [
    {
     "data": {
      "text/html": [
       "<div>\n",
       "<style scoped>\n",
       "    .dataframe tbody tr th:only-of-type {\n",
       "        vertical-align: middle;\n",
       "    }\n",
       "\n",
       "    .dataframe tbody tr th {\n",
       "        vertical-align: top;\n",
       "    }\n",
       "\n",
       "    .dataframe thead th {\n",
       "        text-align: right;\n",
       "    }\n",
       "</style>\n",
       "<table border=\"1\" class=\"dataframe\">\n",
       "  <thead>\n",
       "    <tr style=\"text-align: right;\">\n",
       "      <th></th>\n",
       "      <th>id</th>\n",
       "      <th>age</th>\n",
       "      <th>blood_pressure</th>\n",
       "      <th>densité</th>\n",
       "      <th>albumine</th>\n",
       "      <th>sucre</th>\n",
       "      <th>glycémie aléatoire</th>\n",
       "      <th>urée sanguine</th>\n",
       "      <th>créatinine sérique</th>\n",
       "      <th>sodium</th>\n",
       "      <th>potassium</th>\n",
       "      <th>hemo</th>\n",
       "    </tr>\n",
       "  </thead>\n",
       "  <tbody>\n",
       "    <tr>\n",
       "      <th>count</th>\n",
       "      <td>400.000000</td>\n",
       "      <td>391.000000</td>\n",
       "      <td>388.000000</td>\n",
       "      <td>353.000000</td>\n",
       "      <td>354.000000</td>\n",
       "      <td>351.000000</td>\n",
       "      <td>356.000000</td>\n",
       "      <td>381.000000</td>\n",
       "      <td>383.000000</td>\n",
       "      <td>313.000000</td>\n",
       "      <td>312.000000</td>\n",
       "      <td>348.000000</td>\n",
       "    </tr>\n",
       "    <tr>\n",
       "      <th>mean</th>\n",
       "      <td>199.500000</td>\n",
       "      <td>51.483376</td>\n",
       "      <td>76.469072</td>\n",
       "      <td>1.017408</td>\n",
       "      <td>1.016949</td>\n",
       "      <td>0.450142</td>\n",
       "      <td>148.036517</td>\n",
       "      <td>57.425722</td>\n",
       "      <td>3.072454</td>\n",
       "      <td>137.528754</td>\n",
       "      <td>4.627244</td>\n",
       "      <td>12.526437</td>\n",
       "    </tr>\n",
       "    <tr>\n",
       "      <th>std</th>\n",
       "      <td>115.614301</td>\n",
       "      <td>17.169714</td>\n",
       "      <td>13.683637</td>\n",
       "      <td>0.005717</td>\n",
       "      <td>1.352679</td>\n",
       "      <td>1.099191</td>\n",
       "      <td>79.281714</td>\n",
       "      <td>50.503006</td>\n",
       "      <td>5.741126</td>\n",
       "      <td>10.408752</td>\n",
       "      <td>3.193904</td>\n",
       "      <td>2.912587</td>\n",
       "    </tr>\n",
       "    <tr>\n",
       "      <th>min</th>\n",
       "      <td>0.000000</td>\n",
       "      <td>2.000000</td>\n",
       "      <td>50.000000</td>\n",
       "      <td>1.005000</td>\n",
       "      <td>0.000000</td>\n",
       "      <td>0.000000</td>\n",
       "      <td>22.000000</td>\n",
       "      <td>1.500000</td>\n",
       "      <td>0.400000</td>\n",
       "      <td>4.500000</td>\n",
       "      <td>2.500000</td>\n",
       "      <td>3.100000</td>\n",
       "    </tr>\n",
       "    <tr>\n",
       "      <th>25%</th>\n",
       "      <td>99.750000</td>\n",
       "      <td>42.000000</td>\n",
       "      <td>70.000000</td>\n",
       "      <td>1.010000</td>\n",
       "      <td>0.000000</td>\n",
       "      <td>0.000000</td>\n",
       "      <td>99.000000</td>\n",
       "      <td>27.000000</td>\n",
       "      <td>0.900000</td>\n",
       "      <td>135.000000</td>\n",
       "      <td>3.800000</td>\n",
       "      <td>10.300000</td>\n",
       "    </tr>\n",
       "    <tr>\n",
       "      <th>50%</th>\n",
       "      <td>199.500000</td>\n",
       "      <td>55.000000</td>\n",
       "      <td>80.000000</td>\n",
       "      <td>1.020000</td>\n",
       "      <td>0.000000</td>\n",
       "      <td>0.000000</td>\n",
       "      <td>121.000000</td>\n",
       "      <td>42.000000</td>\n",
       "      <td>1.300000</td>\n",
       "      <td>138.000000</td>\n",
       "      <td>4.400000</td>\n",
       "      <td>12.650000</td>\n",
       "    </tr>\n",
       "    <tr>\n",
       "      <th>75%</th>\n",
       "      <td>299.250000</td>\n",
       "      <td>64.500000</td>\n",
       "      <td>80.000000</td>\n",
       "      <td>1.020000</td>\n",
       "      <td>2.000000</td>\n",
       "      <td>0.000000</td>\n",
       "      <td>163.000000</td>\n",
       "      <td>66.000000</td>\n",
       "      <td>2.800000</td>\n",
       "      <td>142.000000</td>\n",
       "      <td>4.900000</td>\n",
       "      <td>15.000000</td>\n",
       "    </tr>\n",
       "    <tr>\n",
       "      <th>max</th>\n",
       "      <td>399.000000</td>\n",
       "      <td>90.000000</td>\n",
       "      <td>180.000000</td>\n",
       "      <td>1.025000</td>\n",
       "      <td>5.000000</td>\n",
       "      <td>5.000000</td>\n",
       "      <td>490.000000</td>\n",
       "      <td>391.000000</td>\n",
       "      <td>76.000000</td>\n",
       "      <td>163.000000</td>\n",
       "      <td>47.000000</td>\n",
       "      <td>17.800000</td>\n",
       "    </tr>\n",
       "  </tbody>\n",
       "</table>\n",
       "</div>"
      ],
      "text/plain": [
       "               id         age  blood_pressure    densité     albumine  \\\n",
       "count  400.000000  391.000000      388.000000  353.000000  354.000000   \n",
       "mean   199.500000   51.483376       76.469072    1.017408    1.016949   \n",
       "std    115.614301   17.169714       13.683637    0.005717    1.352679   \n",
       "min      0.000000    2.000000       50.000000    1.005000    0.000000   \n",
       "25%     99.750000   42.000000       70.000000    1.010000    0.000000   \n",
       "50%    199.500000   55.000000       80.000000    1.020000    0.000000   \n",
       "75%    299.250000   64.500000       80.000000    1.020000    2.000000   \n",
       "max    399.000000   90.000000      180.000000    1.025000    5.000000   \n",
       "\n",
       "            sucre  glycémie aléatoire  urée sanguine  créatinine sérique  \\\n",
       "count  351.000000          356.000000     381.000000          383.000000   \n",
       "mean     0.450142          148.036517      57.425722            3.072454   \n",
       "std      1.099191           79.281714      50.503006            5.741126   \n",
       "min      0.000000           22.000000       1.500000            0.400000   \n",
       "25%      0.000000           99.000000      27.000000            0.900000   \n",
       "50%      0.000000          121.000000      42.000000            1.300000   \n",
       "75%      0.000000          163.000000      66.000000            2.800000   \n",
       "max      5.000000          490.000000     391.000000           76.000000   \n",
       "\n",
       "           sodium   potassium        hemo  \n",
       "count  313.000000  312.000000  348.000000  \n",
       "mean   137.528754    4.627244   12.526437  \n",
       "std     10.408752    3.193904    2.912587  \n",
       "min      4.500000    2.500000    3.100000  \n",
       "25%    135.000000    3.800000   10.300000  \n",
       "50%    138.000000    4.400000   12.650000  \n",
       "75%    142.000000    4.900000   15.000000  \n",
       "max    163.000000   47.000000   17.800000  "
      ]
     },
     "execution_count": 7,
     "metadata": {},
     "output_type": "execute_result"
    }
   ],
   "source": [
    "data1.describe()"
   ]
  },
  {
   "cell_type": "code",
   "execution_count": 62,
   "id": "9a350ebc",
   "metadata": {},
   "outputs": [
    {
     "data": {
      "text/plain": [
       "Index(['id', 'age', 'blood_pressure', 'densité ', 'albumine', 'sucre',\n",
       "       'globules rouges', 'cellule pus', 'amas de cellules de pus',\n",
       "       'bactéries', 'glycémie aléatoire', 'urée sanguine',\n",
       "       'créatinine sérique', 'sodium', 'potassium', 'hemo',\n",
       "       'volume_cellulaire_emballé', 'numération des globules blancs',\n",
       "       'nombre de globules rouges', 'htn', 'diabète sucré',\n",
       "       'maladie coronarienne', 'appétit', 'œdème pédale', 'anémie', 'classe'],\n",
       "      dtype='object')"
      ]
     },
     "execution_count": 62,
     "metadata": {},
     "output_type": "execute_result"
    }
   ],
   "source": [
    "data1.columns"
   ]
  },
  {
   "cell_type": "code",
   "execution_count": 63,
   "id": "3f1045ae",
   "metadata": {},
   "outputs": [
    {
     "data": {
      "text/plain": [
       "id                                0\n",
       "age                               0\n",
       "blood_pressure                    0\n",
       "densité                           0\n",
       "albumine                          0\n",
       "sucre                             0\n",
       "globules rouges                   0\n",
       "cellule pus                       0\n",
       "amas de cellules de pus           0\n",
       "bactéries                         0\n",
       "glycémie aléatoire                0\n",
       "urée sanguine                     0\n",
       "créatinine sérique                0\n",
       "sodium                            0\n",
       "potassium                         0\n",
       "hemo                              0\n",
       "volume_cellulaire_emballé         0\n",
       "numération des globules blancs    0\n",
       "nombre de globules rouges         0\n",
       "htn                               0\n",
       "diabète sucré                     0\n",
       "maladie coronarienne              0\n",
       "appétit                           0\n",
       "œdème pédale                      0\n",
       "anémie                            0\n",
       "classe                            0\n",
       "dtype: int64"
      ]
     },
     "execution_count": 63,
     "metadata": {},
     "output_type": "execute_result"
    }
   ],
   "source": [
    "#recherche de valeurs manquantes\n",
    "data1.isnull().sum()"
   ]
  },
  {
   "cell_type": "code",
   "execution_count": 10,
   "id": "6c1cbef4",
   "metadata": {},
   "outputs": [],
   "source": [
    "#remplacer les valeurs manquantes de la variable age\n",
    "data1['age'].fillna(data1['age'].median(0),inplace=True)\n",
    "data1['age']= data1['age'].astype(float).astype(int)"
   ]
  },
  {
   "cell_type": "code",
   "execution_count": 11,
   "id": "e6cd7719",
   "metadata": {},
   "outputs": [],
   "source": [
    "#remplacer les valeurs manquantes de la variable blood_pressure\n",
    "data1['blood_pressure'].fillna(method='bfill',inplace=True)"
   ]
  },
  {
   "cell_type": "code",
   "execution_count": 12,
   "id": "cda49079",
   "metadata": {},
   "outputs": [],
   "source": [
    "#remplacer les valeurs manquantes de la variable albumine\n",
    "data1['albumine'].fillna(method='ffill',inplace=True)"
   ]
  },
  {
   "cell_type": "code",
   "execution_count": 13,
   "id": "0bce4deb",
   "metadata": {},
   "outputs": [],
   "source": [
    "#remplacer les valeurs manquantes de la variable sucre\n",
    "data1['sucre'].fillna(method='ffill',inplace=True)"
   ]
  },
  {
   "cell_type": "code",
   "execution_count": 14,
   "id": "42b8f995",
   "metadata": {},
   "outputs": [],
   "source": [
    "#remplacer les valeurs manquantes de la variable sucre\n",
    "data1['globules rouges'].fillna(method='ffill',inplace=True)\n",
    "data1['globules rouges'].fillna(method='bfill',inplace=True)"
   ]
  },
  {
   "cell_type": "code",
   "execution_count": 15,
   "id": "c441a4d0",
   "metadata": {},
   "outputs": [],
   "source": [
    "data1['classe'].fillna(method='ffill',inplace=True)"
   ]
  },
  {
   "cell_type": "code",
   "execution_count": 16,
   "id": "8cf31ba2",
   "metadata": {},
   "outputs": [],
   "source": [
    "data1['anémie'].fillna(method='ffill',inplace=True)"
   ]
  },
  {
   "cell_type": "code",
   "execution_count": 17,
   "id": "71de02c9",
   "metadata": {},
   "outputs": [],
   "source": [
    "data1['œdème pédale'].fillna(method='ffill',inplace=True)"
   ]
  },
  {
   "cell_type": "code",
   "execution_count": 18,
   "id": "98652c36",
   "metadata": {},
   "outputs": [],
   "source": [
    "data1['appétit'].fillna(method='ffill',inplace=True)"
   ]
  },
  {
   "cell_type": "code",
   "execution_count": 19,
   "id": "f6fbeb58",
   "metadata": {},
   "outputs": [],
   "source": [
    "data1['maladie coronarienne'].fillna(method='ffill',inplace=True)"
   ]
  },
  {
   "cell_type": "code",
   "execution_count": 20,
   "id": "dcf44d6f",
   "metadata": {},
   "outputs": [],
   "source": [
    "data1['diabète sucré'].fillna(method='ffill',inplace=True)"
   ]
  },
  {
   "cell_type": "code",
   "execution_count": 21,
   "id": "5cd07569",
   "metadata": {},
   "outputs": [],
   "source": [
    "data1['htn'].fillna(method='ffill',inplace=True)"
   ]
  },
  {
   "cell_type": "code",
   "execution_count": 22,
   "id": "1267b940",
   "metadata": {},
   "outputs": [],
   "source": [
    "data1['nombre de globules rouges'].fillna(method='ffill',inplace=True)"
   ]
  },
  {
   "cell_type": "code",
   "execution_count": 23,
   "id": "b88605f7",
   "metadata": {},
   "outputs": [],
   "source": [
    "data1['numération des globules blancs'].fillna(method='ffill',inplace=True)"
   ]
  },
  {
   "cell_type": "code",
   "execution_count": 24,
   "id": "facc272c",
   "metadata": {},
   "outputs": [],
   "source": [
    "data1['volume_cellulaire_emballé'].fillna(method='ffill',inplace=True)"
   ]
  },
  {
   "cell_type": "code",
   "execution_count": 25,
   "id": "2e220fd8",
   "metadata": {},
   "outputs": [],
   "source": [
    "data1['hemo'].fillna(method='ffill',inplace=True)"
   ]
  },
  {
   "cell_type": "code",
   "execution_count": 26,
   "id": "a33f61d5",
   "metadata": {},
   "outputs": [],
   "source": [
    "data1['potassium'].fillna(method='bfill',inplace=True)"
   ]
  },
  {
   "cell_type": "code",
   "execution_count": 27,
   "id": "5f37acd5",
   "metadata": {},
   "outputs": [],
   "source": [
    "data1['potassium'].fillna(method='ffill',inplace=True)"
   ]
  },
  {
   "cell_type": "code",
   "execution_count": 28,
   "id": "39fb8f31",
   "metadata": {},
   "outputs": [],
   "source": [
    "data1['sodium'].fillna(method='bfill',inplace=True)"
   ]
  },
  {
   "cell_type": "code",
   "execution_count": 29,
   "id": "dce7ec3f",
   "metadata": {},
   "outputs": [],
   "source": [
    "data1['sodium'].fillna(method='ffill',inplace=True)"
   ]
  },
  {
   "cell_type": "code",
   "execution_count": 30,
   "id": "d5c33d18",
   "metadata": {},
   "outputs": [],
   "source": [
    "data1['créatinine sérique'].fillna(method='ffill',inplace=True)"
   ]
  },
  {
   "cell_type": "code",
   "execution_count": 31,
   "id": "00635207",
   "metadata": {},
   "outputs": [],
   "source": [
    "data1['urée sanguine'].fillna(method='ffill',inplace=True)"
   ]
  },
  {
   "cell_type": "code",
   "execution_count": 32,
   "id": "32eb1fab",
   "metadata": {},
   "outputs": [],
   "source": [
    "data1['glycémie aléatoire'].fillna(method='ffill',inplace=True)"
   ]
  },
  {
   "cell_type": "code",
   "execution_count": 33,
   "id": "45a3aae1",
   "metadata": {},
   "outputs": [],
   "source": [
    "data1['bactéries'].fillna(method='ffill',inplace=True)"
   ]
  },
  {
   "cell_type": "code",
   "execution_count": 34,
   "id": "60437b24",
   "metadata": {},
   "outputs": [],
   "source": [
    "data1['amas de cellules de pus'].fillna(method='ffill',inplace=True)"
   ]
  },
  {
   "cell_type": "code",
   "execution_count": 35,
   "id": "85da2583",
   "metadata": {},
   "outputs": [],
   "source": [
    "data1['cellule pus'].fillna(method='ffill',inplace=True)"
   ]
  },
  {
   "cell_type": "code",
   "execution_count": 36,
   "id": "c383515c",
   "metadata": {},
   "outputs": [],
   "source": [
    "data1['globules rouges'].fillna(method='ffill',inplace=True)"
   ]
  },
  {
   "cell_type": "code",
   "execution_count": 37,
   "id": "4ca8b35b",
   "metadata": {},
   "outputs": [],
   "source": [
    "data1['densité '].fillna(method='bfill',inplace=True)"
   ]
  },
  {
   "cell_type": "code",
   "execution_count": 38,
   "id": "6512804e",
   "metadata": {},
   "outputs": [
    {
     "name": "stdout",
     "output_type": "stream",
     "text": [
      "<class 'pandas.core.frame.DataFrame'>\n",
      "RangeIndex: 400 entries, 0 to 399\n",
      "Data columns (total 26 columns):\n",
      " #   Column                          Non-Null Count  Dtype  \n",
      "---  ------                          --------------  -----  \n",
      " 0   id                              400 non-null    int64  \n",
      " 1   age                             400 non-null    int32  \n",
      " 2   blood_pressure                  400 non-null    float64\n",
      " 3   densité                         400 non-null    float64\n",
      " 4   albumine                        400 non-null    float64\n",
      " 5   sucre                           400 non-null    float64\n",
      " 6   globules rouges                 400 non-null    object \n",
      " 7   cellule pus                     400 non-null    object \n",
      " 8   amas de cellules de pus         400 non-null    object \n",
      " 9   bactéries                       400 non-null    object \n",
      " 10  glycémie aléatoire              400 non-null    float64\n",
      " 11  urée sanguine                   400 non-null    float64\n",
      " 12  créatinine sérique              400 non-null    float64\n",
      " 13  sodium                          400 non-null    float64\n",
      " 14  potassium                       400 non-null    float64\n",
      " 15  hemo                            400 non-null    float64\n",
      " 16  volume_cellulaire_emballé       400 non-null    object \n",
      " 17  numération des globules blancs  400 non-null    object \n",
      " 18  nombre de globules rouges       400 non-null    object \n",
      " 19  htn                             400 non-null    object \n",
      " 20  diabète sucré                   400 non-null    object \n",
      " 21  maladie coronarienne            400 non-null    object \n",
      " 22  appétit                         400 non-null    object \n",
      " 23  œdème pédale                    400 non-null    object \n",
      " 24  anémie                          400 non-null    object \n",
      " 25  classe                          400 non-null    object \n",
      "dtypes: float64(10), int32(1), int64(1), object(14)\n",
      "memory usage: 79.8+ KB\n"
     ]
    }
   ],
   "source": [
    "data1.info()"
   ]
  },
  {
   "cell_type": "code",
   "execution_count": 39,
   "id": "9add2a4a",
   "metadata": {},
   "outputs": [
    {
     "data": {
      "text/plain": [
       "id                                0\n",
       "age                               0\n",
       "blood_pressure                    0\n",
       "densité                           0\n",
       "albumine                          0\n",
       "sucre                             0\n",
       "globules rouges                   0\n",
       "cellule pus                       0\n",
       "amas de cellules de pus           0\n",
       "bactéries                         0\n",
       "glycémie aléatoire                0\n",
       "urée sanguine                     0\n",
       "créatinine sérique                0\n",
       "sodium                            0\n",
       "potassium                         0\n",
       "hemo                              0\n",
       "volume_cellulaire_emballé         0\n",
       "numération des globules blancs    0\n",
       "nombre de globules rouges         0\n",
       "htn                               0\n",
       "diabète sucré                     0\n",
       "maladie coronarienne              0\n",
       "appétit                           0\n",
       "œdème pédale                      0\n",
       "anémie                            0\n",
       "classe                            0\n",
       "dtype: int64"
      ]
     },
     "execution_count": 39,
     "metadata": {},
     "output_type": "execute_result"
    }
   ],
   "source": [
    "#recherche de valeurs manquantes\n",
    "data1.isnull().sum()"
   ]
  },
  {
   "cell_type": "code",
   "execution_count": 40,
   "id": "f1e299fa",
   "metadata": {},
   "outputs": [],
   "source": [
    "#conversion de la variable globules rouges de type objet en numerique\n",
    "cleanup_nums = {\n",
    "    \"globules rouges\" : {'normal': 0, 'abnormal': 1} \n",
    "}\n",
    "data1.replace(cleanup_nums, inplace= True)"
   ]
  },
  {
   "cell_type": "code",
   "execution_count": 41,
   "id": "f995e05b",
   "metadata": {},
   "outputs": [],
   "source": [
    "#conversion de la variable cellule pus de type objet en numerique\n",
    "cleanup_nums = {\n",
    "    \"cellule pus\" : {'normal': 0, 'abnormal': 1} \n",
    "}\n",
    "data1.replace(cleanup_nums, inplace= True)"
   ]
  },
  {
   "cell_type": "code",
   "execution_count": 42,
   "id": "14149390",
   "metadata": {},
   "outputs": [],
   "source": [
    "#conversion de la variable amas de cellules de pus de type objet en numerique\n",
    "cleanup_nums = {\n",
    "    \"amas de cellules de pus\" : {'present': 0, 'notpresent': 1} \n",
    "}\n",
    "data1.replace(cleanup_nums, inplace= True)"
   ]
  },
  {
   "cell_type": "code",
   "execution_count": 43,
   "id": "b8cb891c",
   "metadata": {},
   "outputs": [],
   "source": [
    "#conversion de la variable cellule pus de type objet en numerique\n",
    "cleanup_nums = {\n",
    "    \"classe\" : {'ckd': 0, 'notckd': 1,'ckd\\t': 2,} \n",
    "}\n",
    "data1.replace(cleanup_nums, inplace= True)"
   ]
  },
  {
   "cell_type": "code",
   "execution_count": 44,
   "id": "703b6112",
   "metadata": {},
   "outputs": [],
   "source": [
    "#conversion de la variable anémie de type objet en numerique\n",
    "cleanup_nums = {\n",
    "    \"anémie\" : {'no': 0, 'yes': 1} \n",
    "}\n",
    "data1.replace(cleanup_nums, inplace= True)"
   ]
  },
  {
   "cell_type": "code",
   "execution_count": 45,
   "id": "d48c0b49",
   "metadata": {},
   "outputs": [],
   "source": [
    "#conversion de la variable œdème pédale de type objet en numerique\n",
    "cleanup_nums = {\n",
    "    \"œdème pédale\" : {'no': 0, 'yes': 1} \n",
    "}\n",
    "data1.replace(cleanup_nums, inplace= True)"
   ]
  },
  {
   "cell_type": "code",
   "execution_count": 46,
   "id": "e389823f",
   "metadata": {},
   "outputs": [],
   "source": [
    "#conversion de la variable maladie coronarienne de type objet en numerique\n",
    "cleanup_nums = {\n",
    "    \"maladie coronarienne\" : {'no': 0, 'yes': 1, '\\tno': 2} \n",
    "}\n",
    "data1.replace(cleanup_nums, inplace= True)"
   ]
  },
  {
   "cell_type": "code",
   "execution_count": 47,
   "id": "805dde55",
   "metadata": {},
   "outputs": [],
   "source": [
    "#conversion de la variable appétit de type objet en numerique\n",
    "cleanup_nums = {\n",
    "    \"appétit\" : {'good': 0, 'poor': 1} \n",
    "}\n",
    "data1.replace(cleanup_nums, inplace= True)"
   ]
  },
  {
   "cell_type": "code",
   "execution_count": 48,
   "id": "46b6b3f8",
   "metadata": {},
   "outputs": [],
   "source": [
    "#conversion de la variable diabète sucré de type objet en numerique\n",
    "cleanup_nums = {\n",
    "    \"diabète sucré\" : {'no': 0, 'yes': 1,'\\tno': 2, '\\tyes': 3, ' yes': 4} \n",
    "}\n",
    "data1.replace(cleanup_nums, inplace= True)"
   ]
  },
  {
   "cell_type": "code",
   "execution_count": 49,
   "id": "3efdf831",
   "metadata": {},
   "outputs": [],
   "source": [
    "#conversion de la variable htn de type objet en numerique\n",
    "cleanup_nums = {\n",
    "    \"htn\" : {'no': 0, 'yes': 1} \n",
    "}\n",
    "data1.replace(cleanup_nums, inplace= True)"
   ]
  },
  {
   "cell_type": "code",
   "execution_count": 50,
   "id": "aeefc211",
   "metadata": {},
   "outputs": [],
   "source": [
    "#conversion de la variable nombre de globules rouges de type objet en numerique\n",
    "cleanup_nums = {\n",
    "    \"nombre de globules rouges\" : {'\\t?': 0} \n",
    "}\n",
    "data1.replace(cleanup_nums, inplace= True)"
   ]
  },
  {
   "cell_type": "code",
   "execution_count": 51,
   "id": "7d5a06aa",
   "metadata": {},
   "outputs": [],
   "source": [
    "#conversion de la variable numération des globules blancs de type objet en numerique\n",
    "cleanup_nums = {\n",
    "    \"numération des globules blancs\" : {'\\t?': 0, '\\t8400': 8400, 't6200': 6200 } \n",
    "}\n",
    "data1.replace(cleanup_nums, inplace= True)"
   ]
  },
  {
   "cell_type": "code",
   "execution_count": 52,
   "id": "aaa6a884",
   "metadata": {},
   "outputs": [],
   "source": [
    "#conversion de la variable volume cellulaire emballé de type objet en numerique\n",
    "cleanup_nums = {\n",
    "    \"volume_cellulaire_emballé\" : {'\\t?': 0, '\\t43': 43} \n",
    "}\n",
    "data1.replace(cleanup_nums, inplace= True)"
   ]
  },
  {
   "cell_type": "code",
   "execution_count": 53,
   "id": "d3a83e4f",
   "metadata": {},
   "outputs": [],
   "source": [
    "#conversion de la variable bactéries de type objet en numerique\n",
    "cleanup_nums = {\n",
    "    \"bactéries\" : {'present': 0, 'notpresent': 1} \n",
    "}\n",
    "data1.replace(cleanup_nums, inplace= True)"
   ]
  },
  {
   "cell_type": "code",
   "execution_count": 64,
   "id": "38d401c5",
   "metadata": {},
   "outputs": [],
   "source": [
    "data1['numération des globules blancs']= data1['numération des globules blancs'].astype(object).astype(int)\n",
    "data1['nombre de globules rouges']= data1['nombre de globules rouges'].astype(object).astype(float)\n",
    "data1['volume_cellulaire_emballé']= data1['volume_cellulaire_emballé'].astype(object).astype(float)"
   ]
  },
  {
   "cell_type": "code",
   "execution_count": 65,
   "id": "5a585ee6",
   "metadata": {},
   "outputs": [
    {
     "name": "stdout",
     "output_type": "stream",
     "text": [
      "<class 'pandas.core.frame.DataFrame'>\n",
      "RangeIndex: 400 entries, 0 to 399\n",
      "Data columns (total 26 columns):\n",
      " #   Column                          Non-Null Count  Dtype  \n",
      "---  ------                          --------------  -----  \n",
      " 0   id                              400 non-null    int64  \n",
      " 1   age                             400 non-null    int32  \n",
      " 2   blood_pressure                  400 non-null    float64\n",
      " 3   densité                         400 non-null    float64\n",
      " 4   albumine                        400 non-null    float64\n",
      " 5   sucre                           400 non-null    float64\n",
      " 6   globules rouges                 400 non-null    int64  \n",
      " 7   cellule pus                     400 non-null    int64  \n",
      " 8   amas de cellules de pus         400 non-null    int64  \n",
      " 9   bactéries                       400 non-null    int64  \n",
      " 10  glycémie aléatoire              400 non-null    float64\n",
      " 11  urée sanguine                   400 non-null    float64\n",
      " 12  créatinine sérique              400 non-null    float64\n",
      " 13  sodium                          400 non-null    float64\n",
      " 14  potassium                       400 non-null    float64\n",
      " 15  hemo                            400 non-null    float64\n",
      " 16  volume_cellulaire_emballé       400 non-null    float64\n",
      " 17  numération des globules blancs  400 non-null    int32  \n",
      " 18  nombre de globules rouges       400 non-null    float64\n",
      " 19  htn                             400 non-null    int64  \n",
      " 20  diabète sucré                   400 non-null    int64  \n",
      " 21  maladie coronarienne            400 non-null    int64  \n",
      " 22  appétit                         400 non-null    int64  \n",
      " 23  œdème pédale                    400 non-null    int64  \n",
      " 24  anémie                          400 non-null    int64  \n",
      " 25  classe                          400 non-null    int64  \n",
      "dtypes: float64(12), int32(2), int64(12)\n",
      "memory usage: 78.2 KB\n"
     ]
    }
   ],
   "source": [
    "data1.info()"
   ]
  },
  {
   "cell_type": "code",
   "execution_count": 66,
   "id": "0e84d3f8",
   "metadata": {},
   "outputs": [
    {
     "data": {
      "text/html": [
       "<div>\n",
       "<style scoped>\n",
       "    .dataframe tbody tr th:only-of-type {\n",
       "        vertical-align: middle;\n",
       "    }\n",
       "\n",
       "    .dataframe tbody tr th {\n",
       "        vertical-align: top;\n",
       "    }\n",
       "\n",
       "    .dataframe thead th {\n",
       "        text-align: right;\n",
       "    }\n",
       "</style>\n",
       "<table border=\"1\" class=\"dataframe\">\n",
       "  <thead>\n",
       "    <tr style=\"text-align: right;\">\n",
       "      <th></th>\n",
       "      <th>id</th>\n",
       "      <th>age</th>\n",
       "      <th>blood_pressure</th>\n",
       "      <th>densité</th>\n",
       "      <th>albumine</th>\n",
       "      <th>sucre</th>\n",
       "      <th>globules rouges</th>\n",
       "      <th>cellule pus</th>\n",
       "      <th>amas de cellules de pus</th>\n",
       "      <th>bactéries</th>\n",
       "      <th>...</th>\n",
       "      <th>volume_cellulaire_emballé</th>\n",
       "      <th>numération des globules blancs</th>\n",
       "      <th>nombre de globules rouges</th>\n",
       "      <th>htn</th>\n",
       "      <th>diabète sucré</th>\n",
       "      <th>maladie coronarienne</th>\n",
       "      <th>appétit</th>\n",
       "      <th>œdème pédale</th>\n",
       "      <th>anémie</th>\n",
       "      <th>classe</th>\n",
       "    </tr>\n",
       "  </thead>\n",
       "  <tbody>\n",
       "    <tr>\n",
       "      <th>id</th>\n",
       "      <td>1.000000</td>\n",
       "      <td>-0.186274</td>\n",
       "      <td>-0.251217</td>\n",
       "      <td>0.611089</td>\n",
       "      <td>-0.521769</td>\n",
       "      <td>-0.262931</td>\n",
       "      <td>-0.415099</td>\n",
       "      <td>-0.387986</td>\n",
       "      <td>0.264142</td>\n",
       "      <td>0.115955</td>\n",
       "      <td>...</td>\n",
       "      <td>0.620194</td>\n",
       "      <td>-0.165204</td>\n",
       "      <td>0.588331</td>\n",
       "      <td>-0.520089</td>\n",
       "      <td>-0.450402</td>\n",
       "      <td>-0.226292</td>\n",
       "      <td>-0.374394</td>\n",
       "      <td>-0.308120</td>\n",
       "      <td>-0.273096</td>\n",
       "      <td>0.805683</td>\n",
       "    </tr>\n",
       "    <tr>\n",
       "      <th>age</th>\n",
       "      <td>-0.186274</td>\n",
       "      <td>1.000000</td>\n",
       "      <td>0.166768</td>\n",
       "      <td>-0.202362</td>\n",
       "      <td>0.132306</td>\n",
       "      <td>0.189849</td>\n",
       "      <td>0.112116</td>\n",
       "      <td>0.145138</td>\n",
       "      <td>-0.157401</td>\n",
       "      <td>-0.042427</td>\n",
       "      <td>...</td>\n",
       "      <td>-0.252137</td>\n",
       "      <td>0.125772</td>\n",
       "      <td>-0.206202</td>\n",
       "      <td>0.395073</td>\n",
       "      <td>0.316297</td>\n",
       "      <td>0.206303</td>\n",
       "      <td>0.156581</td>\n",
       "      <td>0.094772</td>\n",
       "      <td>0.052938</td>\n",
       "      <td>-0.201942</td>\n",
       "    </tr>\n",
       "    <tr>\n",
       "      <th>blood_pressure</th>\n",
       "      <td>-0.251217</td>\n",
       "      <td>0.166768</td>\n",
       "      <td>1.000000</td>\n",
       "      <td>-0.173693</td>\n",
       "      <td>0.155426</td>\n",
       "      <td>0.204828</td>\n",
       "      <td>0.203777</td>\n",
       "      <td>0.166131</td>\n",
       "      <td>-0.061412</td>\n",
       "      <td>-0.112154</td>\n",
       "      <td>...</td>\n",
       "      <td>-0.301224</td>\n",
       "      <td>0.050982</td>\n",
       "      <td>-0.193504</td>\n",
       "      <td>0.278419</td>\n",
       "      <td>0.208879</td>\n",
       "      <td>0.099241</td>\n",
       "      <td>0.180258</td>\n",
       "      <td>0.077766</td>\n",
       "      <td>0.208749</td>\n",
       "      <td>-0.289052</td>\n",
       "    </tr>\n",
       "    <tr>\n",
       "      <th>densité</th>\n",
       "      <td>0.611089</td>\n",
       "      <td>-0.202362</td>\n",
       "      <td>-0.173693</td>\n",
       "      <td>1.000000</td>\n",
       "      <td>-0.453549</td>\n",
       "      <td>-0.266308</td>\n",
       "      <td>-0.352261</td>\n",
       "      <td>-0.327873</td>\n",
       "      <td>0.259846</td>\n",
       "      <td>0.198158</td>\n",
       "      <td>...</td>\n",
       "      <td>0.517924</td>\n",
       "      <td>-0.191179</td>\n",
       "      <td>0.505101</td>\n",
       "      <td>-0.377839</td>\n",
       "      <td>-0.431374</td>\n",
       "      <td>-0.180987</td>\n",
       "      <td>-0.221253</td>\n",
       "      <td>-0.285849</td>\n",
       "      <td>-0.222038</td>\n",
       "      <td>0.694148</td>\n",
       "    </tr>\n",
       "    <tr>\n",
       "      <th>albumine</th>\n",
       "      <td>-0.521769</td>\n",
       "      <td>0.132306</td>\n",
       "      <td>0.155426</td>\n",
       "      <td>-0.453549</td>\n",
       "      <td>1.000000</td>\n",
       "      <td>0.279962</td>\n",
       "      <td>0.287716</td>\n",
       "      <td>0.510246</td>\n",
       "      <td>-0.368349</td>\n",
       "      <td>-0.341196</td>\n",
       "      <td>...</td>\n",
       "      <td>-0.519962</td>\n",
       "      <td>0.156753</td>\n",
       "      <td>-0.496938</td>\n",
       "      <td>0.496942</td>\n",
       "      <td>0.376555</td>\n",
       "      <td>0.245551</td>\n",
       "      <td>0.333725</td>\n",
       "      <td>0.411576</td>\n",
       "      <td>0.279515</td>\n",
       "      <td>-0.588503</td>\n",
       "    </tr>\n",
       "    <tr>\n",
       "      <th>sucre</th>\n",
       "      <td>-0.262931</td>\n",
       "      <td>0.189849</td>\n",
       "      <td>0.204828</td>\n",
       "      <td>-0.266308</td>\n",
       "      <td>0.279962</td>\n",
       "      <td>1.000000</td>\n",
       "      <td>0.139747</td>\n",
       "      <td>0.143467</td>\n",
       "      <td>-0.143850</td>\n",
       "      <td>-0.102284</td>\n",
       "      <td>...</td>\n",
       "      <td>-0.165322</td>\n",
       "      <td>0.189268</td>\n",
       "      <td>-0.130809</td>\n",
       "      <td>0.300975</td>\n",
       "      <td>0.354901</td>\n",
       "      <td>0.222831</td>\n",
       "      <td>0.097796</td>\n",
       "      <td>0.122413</td>\n",
       "      <td>0.064659</td>\n",
       "      <td>-0.322082</td>\n",
       "    </tr>\n",
       "    <tr>\n",
       "      <th>globules rouges</th>\n",
       "      <td>-0.415099</td>\n",
       "      <td>0.112116</td>\n",
       "      <td>0.203777</td>\n",
       "      <td>-0.352261</td>\n",
       "      <td>0.287716</td>\n",
       "      <td>0.139747</td>\n",
       "      <td>1.000000</td>\n",
       "      <td>0.230405</td>\n",
       "      <td>-0.101746</td>\n",
       "      <td>-0.123267</td>\n",
       "      <td>...</td>\n",
       "      <td>-0.334903</td>\n",
       "      <td>-0.003313</td>\n",
       "      <td>-0.320675</td>\n",
       "      <td>0.267191</td>\n",
       "      <td>0.273821</td>\n",
       "      <td>0.138560</td>\n",
       "      <td>0.245554</td>\n",
       "      <td>0.233154</td>\n",
       "      <td>0.151744</td>\n",
       "      <td>-0.474326</td>\n",
       "    </tr>\n",
       "    <tr>\n",
       "      <th>cellule pus</th>\n",
       "      <td>-0.387986</td>\n",
       "      <td>0.145138</td>\n",
       "      <td>0.166131</td>\n",
       "      <td>-0.327873</td>\n",
       "      <td>0.510246</td>\n",
       "      <td>0.143467</td>\n",
       "      <td>0.230405</td>\n",
       "      <td>1.000000</td>\n",
       "      <td>-0.475537</td>\n",
       "      <td>-0.313764</td>\n",
       "      <td>...</td>\n",
       "      <td>-0.441264</td>\n",
       "      <td>0.108015</td>\n",
       "      <td>-0.415705</td>\n",
       "      <td>0.316125</td>\n",
       "      <td>0.277420</td>\n",
       "      <td>0.199329</td>\n",
       "      <td>0.300537</td>\n",
       "      <td>0.345222</td>\n",
       "      <td>0.256362</td>\n",
       "      <td>-0.396574</td>\n",
       "    </tr>\n",
       "    <tr>\n",
       "      <th>amas de cellules de pus</th>\n",
       "      <td>0.264142</td>\n",
       "      <td>-0.157401</td>\n",
       "      <td>-0.061412</td>\n",
       "      <td>0.259846</td>\n",
       "      <td>-0.368349</td>\n",
       "      <td>-0.143850</td>\n",
       "      <td>-0.101746</td>\n",
       "      <td>-0.475537</td>\n",
       "      <td>1.000000</td>\n",
       "      <td>0.275082</td>\n",
       "      <td>...</td>\n",
       "      <td>0.238149</td>\n",
       "      <td>-0.188005</td>\n",
       "      <td>0.247001</td>\n",
       "      <td>-0.195623</td>\n",
       "      <td>-0.120961</td>\n",
       "      <td>-0.158208</td>\n",
       "      <td>-0.189688</td>\n",
       "      <td>-0.104356</td>\n",
       "      <td>-0.175861</td>\n",
       "      <td>0.232623</td>\n",
       "    </tr>\n",
       "    <tr>\n",
       "      <th>bactéries</th>\n",
       "      <td>0.115955</td>\n",
       "      <td>-0.042427</td>\n",
       "      <td>-0.112154</td>\n",
       "      <td>0.198158</td>\n",
       "      <td>-0.341196</td>\n",
       "      <td>-0.102284</td>\n",
       "      <td>-0.123267</td>\n",
       "      <td>-0.313764</td>\n",
       "      <td>0.275082</td>\n",
       "      <td>1.000000</td>\n",
       "      <td>...</td>\n",
       "      <td>0.175186</td>\n",
       "      <td>-0.062402</td>\n",
       "      <td>0.185305</td>\n",
       "      <td>-0.089046</td>\n",
       "      <td>-0.054217</td>\n",
       "      <td>-0.138401</td>\n",
       "      <td>-0.149126</td>\n",
       "      <td>-0.134732</td>\n",
       "      <td>-0.052208</td>\n",
       "      <td>0.186972</td>\n",
       "    </tr>\n",
       "    <tr>\n",
       "      <th>glycémie aléatoire</th>\n",
       "      <td>-0.325340</td>\n",
       "      <td>0.209804</td>\n",
       "      <td>0.176440</td>\n",
       "      <td>-0.330274</td>\n",
       "      <td>0.284735</td>\n",
       "      <td>0.580477</td>\n",
       "      <td>0.217237</td>\n",
       "      <td>0.281530</td>\n",
       "      <td>-0.202901</td>\n",
       "      <td>-0.052656</td>\n",
       "      <td>...</td>\n",
       "      <td>-0.292992</td>\n",
       "      <td>0.112777</td>\n",
       "      <td>-0.234272</td>\n",
       "      <td>0.346425</td>\n",
       "      <td>0.393797</td>\n",
       "      <td>0.180890</td>\n",
       "      <td>0.158467</td>\n",
       "      <td>0.092118</td>\n",
       "      <td>0.137861</td>\n",
       "      <td>-0.394687</td>\n",
       "    </tr>\n",
       "    <tr>\n",
       "      <th>urée sanguine</th>\n",
       "      <td>-0.311078</td>\n",
       "      <td>0.179719</td>\n",
       "      <td>0.200672</td>\n",
       "      <td>-0.287672</td>\n",
       "      <td>0.415724</td>\n",
       "      <td>0.163775</td>\n",
       "      <td>0.211912</td>\n",
       "      <td>0.364836</td>\n",
       "      <td>-0.183839</td>\n",
       "      <td>-0.157623</td>\n",
       "      <td>...</td>\n",
       "      <td>-0.486229</td>\n",
       "      <td>0.050076</td>\n",
       "      <td>-0.399602</td>\n",
       "      <td>0.382039</td>\n",
       "      <td>0.282898</td>\n",
       "      <td>0.219405</td>\n",
       "      <td>0.282030</td>\n",
       "      <td>0.327748</td>\n",
       "      <td>0.443185</td>\n",
       "      <td>-0.373391</td>\n",
       "    </tr>\n",
       "    <tr>\n",
       "      <th>créatinine sérique</th>\n",
       "      <td>-0.271528</td>\n",
       "      <td>0.127940</td>\n",
       "      <td>0.154372</td>\n",
       "      <td>-0.165834</td>\n",
       "      <td>0.302859</td>\n",
       "      <td>0.134949</td>\n",
       "      <td>0.170437</td>\n",
       "      <td>0.282504</td>\n",
       "      <td>-0.052141</td>\n",
       "      <td>-0.052334</td>\n",
       "      <td>...</td>\n",
       "      <td>-0.344103</td>\n",
       "      <td>0.054291</td>\n",
       "      <td>-0.300858</td>\n",
       "      <td>0.278360</td>\n",
       "      <td>0.174663</td>\n",
       "      <td>0.180571</td>\n",
       "      <td>0.165928</td>\n",
       "      <td>0.177095</td>\n",
       "      <td>0.241403</td>\n",
       "      <td>-0.291483</td>\n",
       "    </tr>\n",
       "    <tr>\n",
       "      <th>sodium</th>\n",
       "      <td>0.375386</td>\n",
       "      <td>-0.064724</td>\n",
       "      <td>-0.132675</td>\n",
       "      <td>0.217722</td>\n",
       "      <td>-0.299625</td>\n",
       "      <td>-0.115036</td>\n",
       "      <td>-0.275105</td>\n",
       "      <td>-0.220482</td>\n",
       "      <td>0.149247</td>\n",
       "      <td>0.071586</td>\n",
       "      <td>...</td>\n",
       "      <td>0.302156</td>\n",
       "      <td>0.016274</td>\n",
       "      <td>0.256965</td>\n",
       "      <td>-0.304433</td>\n",
       "      <td>-0.246926</td>\n",
       "      <td>-0.177928</td>\n",
       "      <td>-0.142865</td>\n",
       "      <td>-0.114262</td>\n",
       "      <td>-0.200427</td>\n",
       "      <td>0.364136</td>\n",
       "    </tr>\n",
       "    <tr>\n",
       "      <th>potassium</th>\n",
       "      <td>-0.058603</td>\n",
       "      <td>0.049203</td>\n",
       "      <td>0.074463</td>\n",
       "      <td>-0.043955</td>\n",
       "      <td>0.094205</td>\n",
       "      <td>0.157108</td>\n",
       "      <td>-0.039932</td>\n",
       "      <td>0.140149</td>\n",
       "      <td>0.017777</td>\n",
       "      <td>0.001226</td>\n",
       "      <td>...</td>\n",
       "      <td>-0.121729</td>\n",
       "      <td>-0.069479</td>\n",
       "      <td>-0.102873</td>\n",
       "      <td>0.055545</td>\n",
       "      <td>0.033434</td>\n",
       "      <td>0.009871</td>\n",
       "      <td>-0.022342</td>\n",
       "      <td>0.064451</td>\n",
       "      <td>0.096675</td>\n",
       "      <td>-0.062703</td>\n",
       "    </tr>\n",
       "    <tr>\n",
       "      <th>hemo</th>\n",
       "      <td>0.624274</td>\n",
       "      <td>-0.218211</td>\n",
       "      <td>-0.304738</td>\n",
       "      <td>0.573029</td>\n",
       "      <td>-0.539593</td>\n",
       "      <td>-0.201413</td>\n",
       "      <td>-0.379931</td>\n",
       "      <td>-0.457236</td>\n",
       "      <td>0.264738</td>\n",
       "      <td>0.192560</td>\n",
       "      <td>...</td>\n",
       "      <td>0.823265</td>\n",
       "      <td>-0.107866</td>\n",
       "      <td>0.707892</td>\n",
       "      <td>-0.560498</td>\n",
       "      <td>-0.419842</td>\n",
       "      <td>-0.243381</td>\n",
       "      <td>-0.396202</td>\n",
       "      <td>-0.357787</td>\n",
       "      <td>-0.506146</td>\n",
       "      <td>0.718094</td>\n",
       "    </tr>\n",
       "    <tr>\n",
       "      <th>volume_cellulaire_emballé</th>\n",
       "      <td>0.620194</td>\n",
       "      <td>-0.252137</td>\n",
       "      <td>-0.301224</td>\n",
       "      <td>0.517924</td>\n",
       "      <td>-0.519962</td>\n",
       "      <td>-0.165322</td>\n",
       "      <td>-0.334903</td>\n",
       "      <td>-0.441264</td>\n",
       "      <td>0.238149</td>\n",
       "      <td>0.175186</td>\n",
       "      <td>...</td>\n",
       "      <td>1.000000</td>\n",
       "      <td>-0.087929</td>\n",
       "      <td>0.713481</td>\n",
       "      <td>-0.536286</td>\n",
       "      <td>-0.418568</td>\n",
       "      <td>-0.254376</td>\n",
       "      <td>-0.421202</td>\n",
       "      <td>-0.372811</td>\n",
       "      <td>-0.430185</td>\n",
       "      <td>0.686089</td>\n",
       "    </tr>\n",
       "    <tr>\n",
       "      <th>numération des globules blancs</th>\n",
       "      <td>-0.165204</td>\n",
       "      <td>0.125772</td>\n",
       "      <td>0.050982</td>\n",
       "      <td>-0.191179</td>\n",
       "      <td>0.156753</td>\n",
       "      <td>0.189268</td>\n",
       "      <td>-0.003313</td>\n",
       "      <td>0.108015</td>\n",
       "      <td>-0.188005</td>\n",
       "      <td>-0.062402</td>\n",
       "      <td>...</td>\n",
       "      <td>-0.087929</td>\n",
       "      <td>1.000000</td>\n",
       "      <td>-0.085354</td>\n",
       "      <td>0.122313</td>\n",
       "      <td>0.129742</td>\n",
       "      <td>0.016608</td>\n",
       "      <td>0.164713</td>\n",
       "      <td>0.129193</td>\n",
       "      <td>0.037225</td>\n",
       "      <td>-0.186136</td>\n",
       "    </tr>\n",
       "    <tr>\n",
       "      <th>nombre de globules rouges</th>\n",
       "      <td>0.588331</td>\n",
       "      <td>-0.206202</td>\n",
       "      <td>-0.193504</td>\n",
       "      <td>0.505101</td>\n",
       "      <td>-0.496938</td>\n",
       "      <td>-0.130809</td>\n",
       "      <td>-0.320675</td>\n",
       "      <td>-0.415705</td>\n",
       "      <td>0.247001</td>\n",
       "      <td>0.185305</td>\n",
       "      <td>...</td>\n",
       "      <td>0.713481</td>\n",
       "      <td>-0.085354</td>\n",
       "      <td>1.000000</td>\n",
       "      <td>-0.474580</td>\n",
       "      <td>-0.388645</td>\n",
       "      <td>-0.227651</td>\n",
       "      <td>-0.400190</td>\n",
       "      <td>-0.341646</td>\n",
       "      <td>-0.323286</td>\n",
       "      <td>0.642160</td>\n",
       "    </tr>\n",
       "    <tr>\n",
       "      <th>htn</th>\n",
       "      <td>-0.520089</td>\n",
       "      <td>0.395073</td>\n",
       "      <td>0.278419</td>\n",
       "      <td>-0.377839</td>\n",
       "      <td>0.496942</td>\n",
       "      <td>0.300975</td>\n",
       "      <td>0.267191</td>\n",
       "      <td>0.316125</td>\n",
       "      <td>-0.195623</td>\n",
       "      <td>-0.089046</td>\n",
       "      <td>...</td>\n",
       "      <td>-0.536286</td>\n",
       "      <td>0.122313</td>\n",
       "      <td>-0.474580</td>\n",
       "      <td>1.000000</td>\n",
       "      <td>0.539547</td>\n",
       "      <td>0.301869</td>\n",
       "      <td>0.345070</td>\n",
       "      <td>0.371026</td>\n",
       "      <td>0.347802</td>\n",
       "      <td>-0.549003</td>\n",
       "    </tr>\n",
       "    <tr>\n",
       "      <th>diabète sucré</th>\n",
       "      <td>-0.450402</td>\n",
       "      <td>0.316297</td>\n",
       "      <td>0.208879</td>\n",
       "      <td>-0.431374</td>\n",
       "      <td>0.376555</td>\n",
       "      <td>0.354901</td>\n",
       "      <td>0.273821</td>\n",
       "      <td>0.277420</td>\n",
       "      <td>-0.120961</td>\n",
       "      <td>-0.054217</td>\n",
       "      <td>...</td>\n",
       "      <td>-0.418568</td>\n",
       "      <td>0.129742</td>\n",
       "      <td>-0.388645</td>\n",
       "      <td>0.539547</td>\n",
       "      <td>1.000000</td>\n",
       "      <td>0.170473</td>\n",
       "      <td>0.247723</td>\n",
       "      <td>0.234872</td>\n",
       "      <td>0.132170</td>\n",
       "      <td>-0.486324</td>\n",
       "    </tr>\n",
       "    <tr>\n",
       "      <th>maladie coronarienne</th>\n",
       "      <td>-0.226292</td>\n",
       "      <td>0.206303</td>\n",
       "      <td>0.099241</td>\n",
       "      <td>-0.180987</td>\n",
       "      <td>0.245551</td>\n",
       "      <td>0.222831</td>\n",
       "      <td>0.138560</td>\n",
       "      <td>0.199329</td>\n",
       "      <td>-0.158208</td>\n",
       "      <td>-0.138401</td>\n",
       "      <td>...</td>\n",
       "      <td>-0.254376</td>\n",
       "      <td>0.016608</td>\n",
       "      <td>-0.227651</td>\n",
       "      <td>0.301869</td>\n",
       "      <td>0.170473</td>\n",
       "      <td>1.000000</td>\n",
       "      <td>0.124134</td>\n",
       "      <td>0.139467</td>\n",
       "      <td>0.029380</td>\n",
       "      <td>-0.237659</td>\n",
       "    </tr>\n",
       "    <tr>\n",
       "      <th>appétit</th>\n",
       "      <td>-0.374394</td>\n",
       "      <td>0.156581</td>\n",
       "      <td>0.180258</td>\n",
       "      <td>-0.221253</td>\n",
       "      <td>0.333725</td>\n",
       "      <td>0.097796</td>\n",
       "      <td>0.245554</td>\n",
       "      <td>0.300537</td>\n",
       "      <td>-0.189688</td>\n",
       "      <td>-0.149126</td>\n",
       "      <td>...</td>\n",
       "      <td>-0.421202</td>\n",
       "      <td>0.164713</td>\n",
       "      <td>-0.400190</td>\n",
       "      <td>0.345070</td>\n",
       "      <td>0.247723</td>\n",
       "      <td>0.124134</td>\n",
       "      <td>1.000000</td>\n",
       "      <td>0.417055</td>\n",
       "      <td>0.254942</td>\n",
       "      <td>-0.343689</td>\n",
       "    </tr>\n",
       "    <tr>\n",
       "      <th>œdème pédale</th>\n",
       "      <td>-0.308120</td>\n",
       "      <td>0.094772</td>\n",
       "      <td>0.077766</td>\n",
       "      <td>-0.285849</td>\n",
       "      <td>0.411576</td>\n",
       "      <td>0.122413</td>\n",
       "      <td>0.233154</td>\n",
       "      <td>0.345222</td>\n",
       "      <td>-0.104356</td>\n",
       "      <td>-0.134732</td>\n",
       "      <td>...</td>\n",
       "      <td>-0.372811</td>\n",
       "      <td>0.129193</td>\n",
       "      <td>-0.341646</td>\n",
       "      <td>0.371026</td>\n",
       "      <td>0.234872</td>\n",
       "      <td>0.139467</td>\n",
       "      <td>0.417055</td>\n",
       "      <td>1.000000</td>\n",
       "      <td>0.207025</td>\n",
       "      <td>-0.375357</td>\n",
       "    </tr>\n",
       "    <tr>\n",
       "      <th>anémie</th>\n",
       "      <td>-0.273096</td>\n",
       "      <td>0.052938</td>\n",
       "      <td>0.208749</td>\n",
       "      <td>-0.222038</td>\n",
       "      <td>0.279515</td>\n",
       "      <td>0.064659</td>\n",
       "      <td>0.151744</td>\n",
       "      <td>0.256362</td>\n",
       "      <td>-0.175861</td>\n",
       "      <td>-0.052208</td>\n",
       "      <td>...</td>\n",
       "      <td>-0.430185</td>\n",
       "      <td>0.037225</td>\n",
       "      <td>-0.323286</td>\n",
       "      <td>0.347802</td>\n",
       "      <td>0.132170</td>\n",
       "      <td>0.029380</td>\n",
       "      <td>0.254942</td>\n",
       "      <td>0.207025</td>\n",
       "      <td>1.000000</td>\n",
       "      <td>-0.297383</td>\n",
       "    </tr>\n",
       "    <tr>\n",
       "      <th>classe</th>\n",
       "      <td>0.805683</td>\n",
       "      <td>-0.201942</td>\n",
       "      <td>-0.289052</td>\n",
       "      <td>0.694148</td>\n",
       "      <td>-0.588503</td>\n",
       "      <td>-0.322082</td>\n",
       "      <td>-0.474326</td>\n",
       "      <td>-0.396574</td>\n",
       "      <td>0.232623</td>\n",
       "      <td>0.186972</td>\n",
       "      <td>...</td>\n",
       "      <td>0.686089</td>\n",
       "      <td>-0.186136</td>\n",
       "      <td>0.642160</td>\n",
       "      <td>-0.549003</td>\n",
       "      <td>-0.486324</td>\n",
       "      <td>-0.237659</td>\n",
       "      <td>-0.343689</td>\n",
       "      <td>-0.375357</td>\n",
       "      <td>-0.297383</td>\n",
       "      <td>1.000000</td>\n",
       "    </tr>\n",
       "  </tbody>\n",
       "</table>\n",
       "<p>26 rows × 26 columns</p>\n",
       "</div>"
      ],
      "text/plain": [
       "                                      id       age  blood_pressure  densité   \\\n",
       "id                              1.000000 -0.186274       -0.251217  0.611089   \n",
       "age                            -0.186274  1.000000        0.166768 -0.202362   \n",
       "blood_pressure                 -0.251217  0.166768        1.000000 -0.173693   \n",
       "densité                         0.611089 -0.202362       -0.173693  1.000000   \n",
       "albumine                       -0.521769  0.132306        0.155426 -0.453549   \n",
       "sucre                          -0.262931  0.189849        0.204828 -0.266308   \n",
       "globules rouges                -0.415099  0.112116        0.203777 -0.352261   \n",
       "cellule pus                    -0.387986  0.145138        0.166131 -0.327873   \n",
       "amas de cellules de pus         0.264142 -0.157401       -0.061412  0.259846   \n",
       "bactéries                       0.115955 -0.042427       -0.112154  0.198158   \n",
       "glycémie aléatoire             -0.325340  0.209804        0.176440 -0.330274   \n",
       "urée sanguine                  -0.311078  0.179719        0.200672 -0.287672   \n",
       "créatinine sérique             -0.271528  0.127940        0.154372 -0.165834   \n",
       "sodium                          0.375386 -0.064724       -0.132675  0.217722   \n",
       "potassium                      -0.058603  0.049203        0.074463 -0.043955   \n",
       "hemo                            0.624274 -0.218211       -0.304738  0.573029   \n",
       "volume_cellulaire_emballé       0.620194 -0.252137       -0.301224  0.517924   \n",
       "numération des globules blancs -0.165204  0.125772        0.050982 -0.191179   \n",
       "nombre de globules rouges       0.588331 -0.206202       -0.193504  0.505101   \n",
       "htn                            -0.520089  0.395073        0.278419 -0.377839   \n",
       "diabète sucré                  -0.450402  0.316297        0.208879 -0.431374   \n",
       "maladie coronarienne           -0.226292  0.206303        0.099241 -0.180987   \n",
       "appétit                        -0.374394  0.156581        0.180258 -0.221253   \n",
       "œdème pédale                   -0.308120  0.094772        0.077766 -0.285849   \n",
       "anémie                         -0.273096  0.052938        0.208749 -0.222038   \n",
       "classe                          0.805683 -0.201942       -0.289052  0.694148   \n",
       "\n",
       "                                albumine     sucre  globules rouges  \\\n",
       "id                             -0.521769 -0.262931        -0.415099   \n",
       "age                             0.132306  0.189849         0.112116   \n",
       "blood_pressure                  0.155426  0.204828         0.203777   \n",
       "densité                        -0.453549 -0.266308        -0.352261   \n",
       "albumine                        1.000000  0.279962         0.287716   \n",
       "sucre                           0.279962  1.000000         0.139747   \n",
       "globules rouges                 0.287716  0.139747         1.000000   \n",
       "cellule pus                     0.510246  0.143467         0.230405   \n",
       "amas de cellules de pus        -0.368349 -0.143850        -0.101746   \n",
       "bactéries                      -0.341196 -0.102284        -0.123267   \n",
       "glycémie aléatoire              0.284735  0.580477         0.217237   \n",
       "urée sanguine                   0.415724  0.163775         0.211912   \n",
       "créatinine sérique              0.302859  0.134949         0.170437   \n",
       "sodium                         -0.299625 -0.115036        -0.275105   \n",
       "potassium                       0.094205  0.157108        -0.039932   \n",
       "hemo                           -0.539593 -0.201413        -0.379931   \n",
       "volume_cellulaire_emballé      -0.519962 -0.165322        -0.334903   \n",
       "numération des globules blancs  0.156753  0.189268        -0.003313   \n",
       "nombre de globules rouges      -0.496938 -0.130809        -0.320675   \n",
       "htn                             0.496942  0.300975         0.267191   \n",
       "diabète sucré                   0.376555  0.354901         0.273821   \n",
       "maladie coronarienne            0.245551  0.222831         0.138560   \n",
       "appétit                         0.333725  0.097796         0.245554   \n",
       "œdème pédale                    0.411576  0.122413         0.233154   \n",
       "anémie                          0.279515  0.064659         0.151744   \n",
       "classe                         -0.588503 -0.322082        -0.474326   \n",
       "\n",
       "                                cellule pus  amas de cellules de pus  \\\n",
       "id                                -0.387986                 0.264142   \n",
       "age                                0.145138                -0.157401   \n",
       "blood_pressure                     0.166131                -0.061412   \n",
       "densité                           -0.327873                 0.259846   \n",
       "albumine                           0.510246                -0.368349   \n",
       "sucre                              0.143467                -0.143850   \n",
       "globules rouges                    0.230405                -0.101746   \n",
       "cellule pus                        1.000000                -0.475537   \n",
       "amas de cellules de pus           -0.475537                 1.000000   \n",
       "bactéries                         -0.313764                 0.275082   \n",
       "glycémie aléatoire                 0.281530                -0.202901   \n",
       "urée sanguine                      0.364836                -0.183839   \n",
       "créatinine sérique                 0.282504                -0.052141   \n",
       "sodium                            -0.220482                 0.149247   \n",
       "potassium                          0.140149                 0.017777   \n",
       "hemo                              -0.457236                 0.264738   \n",
       "volume_cellulaire_emballé         -0.441264                 0.238149   \n",
       "numération des globules blancs     0.108015                -0.188005   \n",
       "nombre de globules rouges         -0.415705                 0.247001   \n",
       "htn                                0.316125                -0.195623   \n",
       "diabète sucré                      0.277420                -0.120961   \n",
       "maladie coronarienne               0.199329                -0.158208   \n",
       "appétit                            0.300537                -0.189688   \n",
       "œdème pédale                       0.345222                -0.104356   \n",
       "anémie                             0.256362                -0.175861   \n",
       "classe                            -0.396574                 0.232623   \n",
       "\n",
       "                                bactéries  ...  volume_cellulaire_emballé  \\\n",
       "id                               0.115955  ...                   0.620194   \n",
       "age                             -0.042427  ...                  -0.252137   \n",
       "blood_pressure                  -0.112154  ...                  -0.301224   \n",
       "densité                          0.198158  ...                   0.517924   \n",
       "albumine                        -0.341196  ...                  -0.519962   \n",
       "sucre                           -0.102284  ...                  -0.165322   \n",
       "globules rouges                 -0.123267  ...                  -0.334903   \n",
       "cellule pus                     -0.313764  ...                  -0.441264   \n",
       "amas de cellules de pus          0.275082  ...                   0.238149   \n",
       "bactéries                        1.000000  ...                   0.175186   \n",
       "glycémie aléatoire              -0.052656  ...                  -0.292992   \n",
       "urée sanguine                   -0.157623  ...                  -0.486229   \n",
       "créatinine sérique              -0.052334  ...                  -0.344103   \n",
       "sodium                           0.071586  ...                   0.302156   \n",
       "potassium                        0.001226  ...                  -0.121729   \n",
       "hemo                             0.192560  ...                   0.823265   \n",
       "volume_cellulaire_emballé        0.175186  ...                   1.000000   \n",
       "numération des globules blancs  -0.062402  ...                  -0.087929   \n",
       "nombre de globules rouges        0.185305  ...                   0.713481   \n",
       "htn                             -0.089046  ...                  -0.536286   \n",
       "diabète sucré                   -0.054217  ...                  -0.418568   \n",
       "maladie coronarienne            -0.138401  ...                  -0.254376   \n",
       "appétit                         -0.149126  ...                  -0.421202   \n",
       "œdème pédale                    -0.134732  ...                  -0.372811   \n",
       "anémie                          -0.052208  ...                  -0.430185   \n",
       "classe                           0.186972  ...                   0.686089   \n",
       "\n",
       "                                numération des globules blancs  \\\n",
       "id                                                   -0.165204   \n",
       "age                                                   0.125772   \n",
       "blood_pressure                                        0.050982   \n",
       "densité                                              -0.191179   \n",
       "albumine                                              0.156753   \n",
       "sucre                                                 0.189268   \n",
       "globules rouges                                      -0.003313   \n",
       "cellule pus                                           0.108015   \n",
       "amas de cellules de pus                              -0.188005   \n",
       "bactéries                                            -0.062402   \n",
       "glycémie aléatoire                                    0.112777   \n",
       "urée sanguine                                         0.050076   \n",
       "créatinine sérique                                    0.054291   \n",
       "sodium                                                0.016274   \n",
       "potassium                                            -0.069479   \n",
       "hemo                                                 -0.107866   \n",
       "volume_cellulaire_emballé                            -0.087929   \n",
       "numération des globules blancs                        1.000000   \n",
       "nombre de globules rouges                            -0.085354   \n",
       "htn                                                   0.122313   \n",
       "diabète sucré                                         0.129742   \n",
       "maladie coronarienne                                  0.016608   \n",
       "appétit                                               0.164713   \n",
       "œdème pédale                                          0.129193   \n",
       "anémie                                                0.037225   \n",
       "classe                                               -0.186136   \n",
       "\n",
       "                                nombre de globules rouges       htn  \\\n",
       "id                                               0.588331 -0.520089   \n",
       "age                                             -0.206202  0.395073   \n",
       "blood_pressure                                  -0.193504  0.278419   \n",
       "densité                                          0.505101 -0.377839   \n",
       "albumine                                        -0.496938  0.496942   \n",
       "sucre                                           -0.130809  0.300975   \n",
       "globules rouges                                 -0.320675  0.267191   \n",
       "cellule pus                                     -0.415705  0.316125   \n",
       "amas de cellules de pus                          0.247001 -0.195623   \n",
       "bactéries                                        0.185305 -0.089046   \n",
       "glycémie aléatoire                              -0.234272  0.346425   \n",
       "urée sanguine                                   -0.399602  0.382039   \n",
       "créatinine sérique                              -0.300858  0.278360   \n",
       "sodium                                           0.256965 -0.304433   \n",
       "potassium                                       -0.102873  0.055545   \n",
       "hemo                                             0.707892 -0.560498   \n",
       "volume_cellulaire_emballé                        0.713481 -0.536286   \n",
       "numération des globules blancs                  -0.085354  0.122313   \n",
       "nombre de globules rouges                        1.000000 -0.474580   \n",
       "htn                                             -0.474580  1.000000   \n",
       "diabète sucré                                   -0.388645  0.539547   \n",
       "maladie coronarienne                            -0.227651  0.301869   \n",
       "appétit                                         -0.400190  0.345070   \n",
       "œdème pédale                                    -0.341646  0.371026   \n",
       "anémie                                          -0.323286  0.347802   \n",
       "classe                                           0.642160 -0.549003   \n",
       "\n",
       "                                diabète sucré  maladie coronarienne   appétit  \\\n",
       "id                                  -0.450402             -0.226292 -0.374394   \n",
       "age                                  0.316297              0.206303  0.156581   \n",
       "blood_pressure                       0.208879              0.099241  0.180258   \n",
       "densité                             -0.431374             -0.180987 -0.221253   \n",
       "albumine                             0.376555              0.245551  0.333725   \n",
       "sucre                                0.354901              0.222831  0.097796   \n",
       "globules rouges                      0.273821              0.138560  0.245554   \n",
       "cellule pus                          0.277420              0.199329  0.300537   \n",
       "amas de cellules de pus             -0.120961             -0.158208 -0.189688   \n",
       "bactéries                           -0.054217             -0.138401 -0.149126   \n",
       "glycémie aléatoire                   0.393797              0.180890  0.158467   \n",
       "urée sanguine                        0.282898              0.219405  0.282030   \n",
       "créatinine sérique                   0.174663              0.180571  0.165928   \n",
       "sodium                              -0.246926             -0.177928 -0.142865   \n",
       "potassium                            0.033434              0.009871 -0.022342   \n",
       "hemo                                -0.419842             -0.243381 -0.396202   \n",
       "volume_cellulaire_emballé           -0.418568             -0.254376 -0.421202   \n",
       "numération des globules blancs       0.129742              0.016608  0.164713   \n",
       "nombre de globules rouges           -0.388645             -0.227651 -0.400190   \n",
       "htn                                  0.539547              0.301869  0.345070   \n",
       "diabète sucré                        1.000000              0.170473  0.247723   \n",
       "maladie coronarienne                 0.170473              1.000000  0.124134   \n",
       "appétit                              0.247723              0.124134  1.000000   \n",
       "œdème pédale                         0.234872              0.139467  0.417055   \n",
       "anémie                               0.132170              0.029380  0.254942   \n",
       "classe                              -0.486324             -0.237659 -0.343689   \n",
       "\n",
       "                                œdème pédale    anémie    classe  \n",
       "id                                 -0.308120 -0.273096  0.805683  \n",
       "age                                 0.094772  0.052938 -0.201942  \n",
       "blood_pressure                      0.077766  0.208749 -0.289052  \n",
       "densité                            -0.285849 -0.222038  0.694148  \n",
       "albumine                            0.411576  0.279515 -0.588503  \n",
       "sucre                               0.122413  0.064659 -0.322082  \n",
       "globules rouges                     0.233154  0.151744 -0.474326  \n",
       "cellule pus                         0.345222  0.256362 -0.396574  \n",
       "amas de cellules de pus            -0.104356 -0.175861  0.232623  \n",
       "bactéries                          -0.134732 -0.052208  0.186972  \n",
       "glycémie aléatoire                  0.092118  0.137861 -0.394687  \n",
       "urée sanguine                       0.327748  0.443185 -0.373391  \n",
       "créatinine sérique                  0.177095  0.241403 -0.291483  \n",
       "sodium                             -0.114262 -0.200427  0.364136  \n",
       "potassium                           0.064451  0.096675 -0.062703  \n",
       "hemo                               -0.357787 -0.506146  0.718094  \n",
       "volume_cellulaire_emballé          -0.372811 -0.430185  0.686089  \n",
       "numération des globules blancs      0.129193  0.037225 -0.186136  \n",
       "nombre de globules rouges          -0.341646 -0.323286  0.642160  \n",
       "htn                                 0.371026  0.347802 -0.549003  \n",
       "diabète sucré                       0.234872  0.132170 -0.486324  \n",
       "maladie coronarienne                0.139467  0.029380 -0.237659  \n",
       "appétit                             0.417055  0.254942 -0.343689  \n",
       "œdème pédale                        1.000000  0.207025 -0.375357  \n",
       "anémie                              0.207025  1.000000 -0.297383  \n",
       "classe                             -0.375357 -0.297383  1.000000  \n",
       "\n",
       "[26 rows x 26 columns]"
      ]
     },
     "execution_count": 66,
     "metadata": {},
     "output_type": "execute_result"
    }
   ],
   "source": [
    "data1.corr()"
   ]
  },
  {
   "cell_type": "markdown",
   "id": "94768022",
   "metadata": {},
   "source": [
    "# APPRENTISSAGE SUPERVISE"
   ]
  },
  {
   "cell_type": "code",
   "execution_count": 67,
   "id": "571eba83",
   "metadata": {},
   "outputs": [],
   "source": [
    "x = data1.drop('classe', axis=1)\n",
    "y = data1['classe']\n",
    "x_train,x_test,y_train,y_test = train_test_split(x,y,test_size=0.2,random_state=30)"
   ]
  },
  {
   "cell_type": "code",
   "execution_count": 68,
   "id": "0556cc29",
   "metadata": {},
   "outputs": [
    {
     "name": "stdout",
     "output_type": "stream",
     "text": [
      "[0 1 1 0 1 1 0 1 0 0 0 0 0 0 0 0 0 0 1 1 0 0 0 1 0 0 1 0 0 0 0 0 0 0 0 1 0\n",
      " 1 1 0 0 1 1 1 0 0 0 1 1 0 0 0 1 0 1 0 0 1 0 0 1 0 0 1 0 0 1 0 0 1 1 0 1 1\n",
      " 0 0 0 0 1 1]\n",
      "Accuracy=1.00\n",
      " prediction : 100.0 \n",
      "              precision    recall  f1-score   support\n",
      "\n",
      "           0       1.00      1.00      1.00        51\n",
      "           1       1.00      1.00      1.00        29\n",
      "\n",
      "    accuracy                           1.00        80\n",
      "   macro avg       1.00      1.00      1.00        80\n",
      "weighted avg       1.00      1.00      1.00        80\n",
      "\n"
     ]
    }
   ],
   "source": [
    "# creation du modele de regression logistique\n",
    "logreg = LogisticRegression()   \n",
    "logreg.fit(x_train, y_train)  \n",
    "y_pred  = logreg.predict(x_test)  \n",
    "print(y_pred)\n",
    "print(\"Accuracy={:.2f}\".format(logreg.score(x_test, y_test)))\n",
    "print(\" prediction : {} \" .format(accuracy_score(y_test, y_pred)* 100))\n",
    "print(classification_report(y_test,y_pred))"
   ]
  },
  {
   "cell_type": "code",
   "execution_count": 69,
   "id": "1967ba49",
   "metadata": {},
   "outputs": [
    {
     "data": {
      "text/plain": [
       "<AxesSubplot:xlabel='Predicted', ylabel='Actual'>"
      ]
     },
     "execution_count": 69,
     "metadata": {},
     "output_type": "execute_result"
    },
    {
     "data": {
      "image/png": "[encoded data removed]",
      "text/plain": [
       "<Figure size 432x288 with 2 Axes>"
      ]
     },
     "metadata": {
      "needs_background": "light"
     },
     "output_type": "display_data"
    }
   ],
   "source": [
    "confusion_matrix = pd.crosstab(y_test, y_pred, rownames=['Actual'], colnames=['Predicted'])\n",
    "sns.heatmap(confusion_matrix, annot=True, xticklabels=['not_classe', 'classe'], yticklabels=['not_classe', 'classe'])"
   ]
  },
  {
   "cell_type": "markdown",
   "id": "cc7b0b85",
   "metadata": {},
   "source": [
    "#La matrice de confusion montre le total des détails des données X_test comme suit: TP = vrais positifs = 51 TN = vrais négatifs = 29 FP = faux positifs = 0 FN = faux négatifs = 0\n",
    "\n",
    "#La sensibilité nous indique quelle proportion de la classe positive a été correctement classée.\n",
    "\n",
    "sensibilité// Taux de positivité réelle / Rappel = TP / (TP + FN) = 51/51 = 1\n",
    "\n",
    "La proportion de personnes réelles qui ont survecues qui a été correctement détectée par le modèle.\n",
    "\n",
    "#Taux de faux négatifs\n",
    "\n",
    "Le taux de faux négatifs (FNR) nous indique quelle proportion de la classe positive a été mal classée par le classificateur.\n",
    "\n",
    "FNR = FN / (TP + FN) = 0/51= 0\n",
    "\n",
    "Un TPR plus élevé et un FNR plus faible sont souhaitables car nous voulons classer correctement la classe positive.\n",
    "\n",
    "#Spécificité / Taux négatif réel Formule de spécificité TNR = TN / (TN + FP) = 29/29 = 1 La spécificité nous indique quelle proportion de la classe négative a été correctement classée.\n",
    "\n",
    "Taux de faux positifs\n",
    "\n",
    "FPR nous indique quelle proportion de la classe négative a été mal classée par le classificateur.\n",
    "\n",
    "FPR = 1 - TNR = 1-1 = 0\n",
    "\n",
    "Un TNR plus élevé et un FPR plus faible sont souhaitables car nous voulons classer correctement la classe négative.\n",
    "\n",
    "#Ainsi, la précision totale selon la confusion_matrix est: #Précision = (TP + TN) / Total = (51 + 29) / 80 = 1\n"
   ]
  },
  {
   "cell_type": "markdown",
   "id": "6284f500",
   "metadata": {},
   "source": [
    "Maintenant, nous allons contre-vérifier le résultat par impression. Donc, nous imprimons simplement les 5 premiers éléments du X_test et du y_test en utilisant la fonction head pandas.\n",
    "Ensuite, nous imprimons également les 5 premiers résultats des prédictions comme indiqué ci-dessous:"
   ]
  },
  {
   "cell_type": "code",
   "execution_count": 70,
   "id": "068e35fe",
   "metadata": {},
   "outputs": [
    {
     "data": {
      "text/html": [
       "<div>\n",
       "<style scoped>\n",
       "    .dataframe tbody tr th:only-of-type {\n",
       "        vertical-align: middle;\n",
       "    }\n",
       "\n",
       "    .dataframe tbody tr th {\n",
       "        vertical-align: top;\n",
       "    }\n",
       "\n",
       "    .dataframe thead th {\n",
       "        text-align: right;\n",
       "    }\n",
       "</style>\n",
       "<table border=\"1\" class=\"dataframe\">\n",
       "  <thead>\n",
       "    <tr style=\"text-align: right;\">\n",
       "      <th></th>\n",
       "      <th>id</th>\n",
       "      <th>age</th>\n",
       "      <th>blood_pressure</th>\n",
       "      <th>densité</th>\n",
       "      <th>albumine</th>\n",
       "      <th>sucre</th>\n",
       "      <th>globules rouges</th>\n",
       "      <th>cellule pus</th>\n",
       "      <th>amas de cellules de pus</th>\n",
       "      <th>bactéries</th>\n",
       "      <th>...</th>\n",
       "      <th>hemo</th>\n",
       "      <th>volume_cellulaire_emballé</th>\n",
       "      <th>numération des globules blancs</th>\n",
       "      <th>nombre de globules rouges</th>\n",
       "      <th>htn</th>\n",
       "      <th>diabète sucré</th>\n",
       "      <th>maladie coronarienne</th>\n",
       "      <th>appétit</th>\n",
       "      <th>œdème pédale</th>\n",
       "      <th>anémie</th>\n",
       "    </tr>\n",
       "  </thead>\n",
       "  <tbody>\n",
       "    <tr>\n",
       "      <th>35</th>\n",
       "      <td>35</td>\n",
       "      <td>65</td>\n",
       "      <td>90.0</td>\n",
       "      <td>1.020</td>\n",
       "      <td>2.0</td>\n",
       "      <td>1.0</td>\n",
       "      <td>1</td>\n",
       "      <td>0</td>\n",
       "      <td>1</td>\n",
       "      <td>1</td>\n",
       "      <td>...</td>\n",
       "      <td>12.0</td>\n",
       "      <td>36.0</td>\n",
       "      <td>9800</td>\n",
       "      <td>4.9</td>\n",
       "      <td>1</td>\n",
       "      <td>1</td>\n",
       "      <td>0</td>\n",
       "      <td>1</td>\n",
       "      <td>0</td>\n",
       "      <td>1</td>\n",
       "    </tr>\n",
       "    <tr>\n",
       "      <th>316</th>\n",
       "      <td>316</td>\n",
       "      <td>35</td>\n",
       "      <td>70.0</td>\n",
       "      <td>1.020</td>\n",
       "      <td>0.0</td>\n",
       "      <td>0.0</td>\n",
       "      <td>0</td>\n",
       "      <td>0</td>\n",
       "      <td>1</td>\n",
       "      <td>1</td>\n",
       "      <td>...</td>\n",
       "      <td>15.4</td>\n",
       "      <td>48.0</td>\n",
       "      <td>5000</td>\n",
       "      <td>5.2</td>\n",
       "      <td>0</td>\n",
       "      <td>0</td>\n",
       "      <td>0</td>\n",
       "      <td>0</td>\n",
       "      <td>0</td>\n",
       "      <td>0</td>\n",
       "    </tr>\n",
       "    <tr>\n",
       "      <th>281</th>\n",
       "      <td>281</td>\n",
       "      <td>55</td>\n",
       "      <td>80.0</td>\n",
       "      <td>1.025</td>\n",
       "      <td>0.0</td>\n",
       "      <td>0.0</td>\n",
       "      <td>0</td>\n",
       "      <td>0</td>\n",
       "      <td>1</td>\n",
       "      <td>1</td>\n",
       "      <td>...</td>\n",
       "      <td>15.5</td>\n",
       "      <td>41.0</td>\n",
       "      <td>9100</td>\n",
       "      <td>6.0</td>\n",
       "      <td>0</td>\n",
       "      <td>0</td>\n",
       "      <td>0</td>\n",
       "      <td>0</td>\n",
       "      <td>0</td>\n",
       "      <td>0</td>\n",
       "    </tr>\n",
       "    <tr>\n",
       "      <th>74</th>\n",
       "      <td>74</td>\n",
       "      <td>56</td>\n",
       "      <td>90.0</td>\n",
       "      <td>1.015</td>\n",
       "      <td>2.0</td>\n",
       "      <td>0.0</td>\n",
       "      <td>1</td>\n",
       "      <td>1</td>\n",
       "      <td>1</td>\n",
       "      <td>1</td>\n",
       "      <td>...</td>\n",
       "      <td>9.1</td>\n",
       "      <td>29.0</td>\n",
       "      <td>6400</td>\n",
       "      <td>3.4</td>\n",
       "      <td>1</td>\n",
       "      <td>0</td>\n",
       "      <td>0</td>\n",
       "      <td>0</td>\n",
       "      <td>0</td>\n",
       "      <td>0</td>\n",
       "    </tr>\n",
       "    <tr>\n",
       "      <th>296</th>\n",
       "      <td>296</td>\n",
       "      <td>41</td>\n",
       "      <td>70.0</td>\n",
       "      <td>1.020</td>\n",
       "      <td>0.0</td>\n",
       "      <td>0.0</td>\n",
       "      <td>0</td>\n",
       "      <td>0</td>\n",
       "      <td>1</td>\n",
       "      <td>1</td>\n",
       "      <td>...</td>\n",
       "      <td>16.8</td>\n",
       "      <td>41.0</td>\n",
       "      <td>6300</td>\n",
       "      <td>5.9</td>\n",
       "      <td>0</td>\n",
       "      <td>0</td>\n",
       "      <td>0</td>\n",
       "      <td>0</td>\n",
       "      <td>0</td>\n",
       "      <td>0</td>\n",
       "    </tr>\n",
       "  </tbody>\n",
       "</table>\n",
       "<p>5 rows × 25 columns</p>\n",
       "</div>"
      ],
      "text/plain": [
       "      id  age  blood_pressure  densité   albumine  sucre  globules rouges  \\\n",
       "35    35   65            90.0     1.020       2.0    1.0                1   \n",
       "316  316   35            70.0     1.020       0.0    0.0                0   \n",
       "281  281   55            80.0     1.025       0.0    0.0                0   \n",
       "74    74   56            90.0     1.015       2.0    0.0                1   \n",
       "296  296   41            70.0     1.020       0.0    0.0                0   \n",
       "\n",
       "     cellule pus  amas de cellules de pus  bactéries  ...  hemo  \\\n",
       "35             0                        1          1  ...  12.0   \n",
       "316            0                        1          1  ...  15.4   \n",
       "281            0                        1          1  ...  15.5   \n",
       "74             1                        1          1  ...   9.1   \n",
       "296            0                        1          1  ...  16.8   \n",
       "\n",
       "     volume_cellulaire_emballé  numération des globules blancs  \\\n",
       "35                        36.0                            9800   \n",
       "316                       48.0                            5000   \n",
       "281                       41.0                            9100   \n",
       "74                        29.0                            6400   \n",
       "296                       41.0                            6300   \n",
       "\n",
       "     nombre de globules rouges  htn  diabète sucré  maladie coronarienne  \\\n",
       "35                         4.9    1              1                     0   \n",
       "316                        5.2    0              0                     0   \n",
       "281                        6.0    0              0                     0   \n",
       "74                         3.4    1              0                     0   \n",
       "296                        5.9    0              0                     0   \n",
       "\n",
       "     appétit  œdème pédale  anémie  \n",
       "35         1             0       1  \n",
       "316        0             0       0  \n",
       "281        0             0       0  \n",
       "74         0             0       0  \n",
       "296        0             0       0  \n",
       "\n",
       "[5 rows x 25 columns]"
      ]
     },
     "execution_count": 70,
     "metadata": {},
     "output_type": "execute_result"
    }
   ],
   "source": [
    "x_test.head()"
   ]
  },
  {
   "cell_type": "code",
   "execution_count": 71,
   "id": "5064d976",
   "metadata": {},
   "outputs": [
    {
     "data": {
      "text/plain": [
       "35     0\n",
       "316    1\n",
       "281    1\n",
       "74     0\n",
       "296    1\n",
       "Name: classe, dtype: int64"
      ]
     },
     "execution_count": 71,
     "metadata": {},
     "output_type": "execute_result"
    }
   ],
   "source": [
    "y_test.head()"
   ]
  },
  {
   "cell_type": "code",
   "execution_count": 72,
   "id": "b5689ae9",
   "metadata": {},
   "outputs": [
    {
     "data": {
      "text/plain": [
       "array([0, 1, 1, 0, 1], dtype=int64)"
      ]
     },
     "execution_count": 72,
     "metadata": {},
     "output_type": "execute_result"
    }
   ],
   "source": [
    "y_pred[:5]"
   ]
  },
  {
   "cell_type": "markdown",
   "id": "a173c52b",
   "metadata": {},
   "source": [
    "# Validation pour la classification est ROC / AUC"
   ]
  },
  {
   "cell_type": "markdown",
   "id": "03ad7941",
   "metadata": {},
   "source": [
    "Une fois que nous avons créé le modèle. Il est très important d’évaluer la précision du modèle pour comprendre s’il est important de le mettre en œuvre ou non. La courbe ROC est l’une des méthodes d’évaluation importantes. La courbe ROC est une courbe de probabilité qui trace le taux de vrais positifs par rapport au taux de faux positifs.\n",
    "Ici, le taux de vrais positifs est le nombre de prédictions où le modèle a réussi à prédire correctement le résultat."
   ]
  },
  {
   "cell_type": "code",
   "execution_count": 73,
   "id": "b5637c84",
   "metadata": {},
   "outputs": [
    {
     "data": {
      "image/png": "[encoded data removed]",
      "text/plain": [
       "<Figure size 432x288 with 1 Axes>"
      ]
     },
     "metadata": {
      "needs_background": "light"
     },
     "output_type": "display_data"
    }
   ],
   "source": [
    "#roc curve and auc\n",
    "logit_roc_auc = roc_auc_score(y_test, logreg.predict(x_test) )\n",
    "fpr , tpr , thresholds = roc_curve(y_test, logreg.predict_proba(x_test)[:,1] )\n",
    "plt.figure()\n",
    "plt.plot(fpr, tpr, label='Regression Logistique (AUC =%0.2f)' % logit_roc_auc)\n",
    "plt.plot([0,1], [0,1],'r--')\n",
    "plt.xlim([0.0, 1.0])\n",
    "plt.ylim([0.0, 1.05])\n",
    "plt.xlabel('Taux de faux positifs')\n",
    "plt.ylabel('Taux de vrais positifs')\n",
    "plt.title('Receiver Operating Characteristic')\n",
    "plt.legend(loc=\"lower right\")\n",
    "plt.show()"
   ]
  },
  {
   "cell_type": "markdown",
   "id": "e53b4441",
   "metadata": {},
   "source": [
    "Si le TPR est plus proche de 1, cela montre que c’est un très bon modèle. Le modèle est capable de distinguer correctement les résultats positifs des résultats négatifs. Si le TPR est de 0,5, cela montre que le modèle est aussi bon qu’une supposition. Si le TPR est inférieur à 0,5, cela montre que le modèle prédit des valeurs positives comme négatives et des valeurs négatives comme positives.\n",
    "\n",
    "ICI L'AUC = 1.00 : Cela montre que c'est un  modèle parfait. car le modèle a ete capable de predire correctement à 100% le resulat.\n"
   ]
  },
  {
   "cell_type": "markdown",
   "id": "b5a4299a",
   "metadata": {},
   "source": [
    "# Partie 2 KNN"
   ]
  },
  {
   "cell_type": "markdown",
   "id": "a180f21b",
   "metadata": {},
   "source": [
    "Appliquer KNN et choisir le nombre optimal de voisins"
   ]
  },
  {
   "cell_type": "code",
   "execution_count": 74,
   "id": "38766fb2",
   "metadata": {},
   "outputs": [
    {
     "name": "stdout",
     "output_type": "stream",
     "text": [
      "Accuracy= 0.8625\n",
      " prediction : 86.25 \n"
     ]
    }
   ],
   "source": [
    "# KNN\n",
    "knn=KNeighborsClassifier(n_neighbors=5)\n",
    "knn.fit(x_train,y_train) \n",
    "y_pred=knn.predict(x_test)\n",
    "print('Accuracy=',accuracy_score(y_pred,y_test))\n",
    "print(\" prediction : {} \" .format(accuracy_score(y_test, y_pred)* 100))"
   ]
  },
  {
   "cell_type": "markdown",
   "id": "cdc1922b",
   "metadata": {},
   "source": [
    "Choisissez le nombre optimal de voisins"
   ]
  },
  {
   "cell_type": "code",
   "execution_count": 75,
   "id": "46d8f2fd",
   "metadata": {},
   "outputs": [
    {
     "name": "stdout",
     "output_type": "stream",
     "text": [
      "Accuracy for k= 1 is: 0.8\n",
      "Accuracy for k= 2 is: 0.78\n",
      "Accuracy for k= 3 is: 0.74\n",
      "Accuracy for k= 4 is: 0.74\n",
      "Accuracy for k= 5 is: 0.75\n",
      "Accuracy for k= 6 is: 0.78\n",
      "Accuracy for k= 7 is: 0.76\n",
      "Accuracy for k= 8 is: 0.75\n",
      "Accuracy for k= 9 is: 0.75\n",
      "Accuracy for k= 10 is: 0.74\n",
      "Accuracy for k= 11 is: 0.79\n",
      "Accuracy for k= 12 is: 0.79\n",
      "Accuracy for k= 13 is: 0.8\n",
      "Accuracy for k= 14 is: 0.8\n",
      "Accuracy for k= 15 is: 0.85\n",
      "Accuracy for k= 16 is: 0.82\n",
      "Accuracy for k= 17 is: 0.86\n",
      "Accuracy for k= 18 is: 0.82\n",
      "Accuracy for k= 19 is: 0.85\n",
      "Accuracy for k= 20 is: 0.85\n",
      "Accuracy for k= 21 is: 0.84\n",
      "Accuracy for k= 22 is: 0.85\n",
      "Accuracy for k= 23 is: 0.88\n",
      "Accuracy for k= 24 is: 0.86\n",
      "Accuracy for k= 25 is: 0.86\n",
      "Accuracy for k= 26 is: 0.88\n",
      "Accuracy for k= 27 is: 0.88\n",
      "Accuracy for k= 28 is: 0.92\n",
      "Accuracy for k= 29 is: 0.9\n"
     ]
    }
   ],
   "source": [
    "n_neighbors=30\n",
    "scores=[]\n",
    "for k in range(1,30):\n",
    "    knn=KNeighborsClassifier(n_neighbors-k)\n",
    "    knn.fit(x_train,y_train)\n",
    "    y_pred=knn.predict(x_test)\n",
    "    print('Accuracy for k=',k,'is:',round(accuracy_score(y_pred,y_test),2))\n",
    "    scores.append(round(accuracy_score(y_pred,y_test),2))"
   ]
  },
  {
   "cell_type": "code",
   "execution_count": 76,
   "id": "e0512c14",
   "metadata": {},
   "outputs": [
    {
     "data": {
      "text/plain": [
       "Text(0, 0.5, 'Testing Accuracy')"
      ]
     },
     "execution_count": 76,
     "metadata": {},
     "output_type": "execute_result"
    },
    {
     "data": {
      "image/png": "[encoded data removed]",
      "text/plain": [
       "<Figure size 432x288 with 1 Axes>"
      ]
     },
     "metadata": {
      "needs_background": "light"
     },
     "output_type": "display_data"
    }
   ],
   "source": [
    "import matplotlib.pyplot as plt\n",
    "plt.plot(range(1,30),scores)\n",
    "plt.xlabel('Value K for KNN')\n",
    "plt.ylabel('Testing Accuracy')"
   ]
  },
  {
   "cell_type": "markdown",
   "id": "b43c54b2",
   "metadata": {},
   "source": [
    "le nombre optimal de voisins est de 17."
   ]
  },
  {
   "cell_type": "markdown",
   "id": "8fadc750",
   "metadata": {},
   "source": [
    "# Partie 3 : Arbre de décision"
   ]
  },
  {
   "cell_type": "markdown",
   "id": "5549af8a",
   "metadata": {},
   "source": [
    "Appliquez l’arbre de décision, tracez-le et calculez la précision."
   ]
  },
  {
   "cell_type": "code",
   "execution_count": 77,
   "id": "ebd2056f",
   "metadata": {},
   "outputs": [
    {
     "name": "stdout",
     "output_type": "stream",
     "text": [
      "score:0.9875\n",
      " prediction : 98.75 \n"
     ]
    }
   ],
   "source": [
    "#ARBRE DE DECISION\n",
    "tree = DecisionTreeClassifier()  \n",
    "tree.fit(x_train, y_train)   \n",
    "y_pred=tree.predict(x_test)   \n",
    "print(\"score:{}\".format(accuracy_score(y_test, y_pred)))\n",
    "print(\" prediction : {} \" .format(accuracy_score(y_test, y_pred)* 100))"
   ]
  },
  {
   "cell_type": "code",
   "execution_count": 78,
   "id": "23ff06dc",
   "metadata": {},
   "outputs": [
    {
     "data": {
      "image/png": "[encoded data removed]",
      "text/plain": [
       "<Figure size 864x576 with 1 Axes>"
      ]
     },
     "metadata": {
      "needs_background": "light"
     },
     "output_type": "display_data"
    }
   ],
   "source": [
    "plt.figure(figsize = (12,8))\n",
    "plot_tree(tree)\n",
    "plt.show()"
   ]
  },
  {
   "cell_type": "markdown",
   "id": "f1ef13c2",
   "metadata": {},
   "source": [
    "# Partie 4 une forêt aléatoire"
   ]
  },
  {
   "cell_type": "markdown",
   "id": "eae5736c",
   "metadata": {},
   "source": [
    "Appliquez une forêt aléatoire, calculez la nouvelle précision et comparez-la avec le résultat précédent"
   ]
  },
  {
   "cell_type": "code",
   "execution_count": 79,
   "id": "407e50b4",
   "metadata": {},
   "outputs": [
    {
     "name": "stdout",
     "output_type": "stream",
     "text": [
      "Score Random Forest :  1.0\n",
      " prediction : 100.0 \n"
     ]
    }
   ],
   "source": [
    "# Random Forest\n",
    "rf = RandomForestClassifier(n_estimators=100)\n",
    "rf.fit(x_train, y_train)\n",
    "rf_pred = rf.predict(x_test)\n",
    "print(\"Score Random Forest : \", metrics.accuracy_score(rf_pred, y_test))\n",
    "print(\" prediction : {} \" .format(metrics.accuracy_score(rf_pred, y_test)* 100))"
   ]
  },
  {
   "cell_type": "markdown",
   "id": "0204f29c",
   "metadata": {},
   "source": [
    "la valeur de la precision de la forêt aléatoire est de 100 meilleure que celle \n",
    "de la valeur de la precision de l'arbre de decision qui est de 98.75."
   ]
  },
  {
   "cell_type": "markdown",
   "id": "6c32609f",
   "metadata": {},
   "source": [
    "un graphique récapitulatif qui reprend toutes les précisions de chaque modèle (régression logistique, knn ,Arbre de décision et forêt aléatoire) pour décider quel modèle est le plus performant."
   ]
  },
  {
   "cell_type": "code",
   "execution_count": 80,
   "id": "0458b813",
   "metadata": {},
   "outputs": [
    {
     "data": {
      "text/plain": [
       "<matplotlib.legend.Legend at 0x47ebdb4520>"
      ]
     },
     "execution_count": 80,
     "metadata": {},
     "output_type": "execute_result"
    },
    {
     "data": {
      "image/png": "[encoded data removed]",
      "text/plain": [
       "<Figure size 432x288 with 1 Axes>"
      ]
     },
     "metadata": {
      "needs_background": "light"
     },
     "output_type": "display_data"
    }
   ],
   "source": [
    "faux_positifs_logreg, vrais_positifs_logreg, seuil_logreg = roc_curve(y_test, logreg.predict_proba(x_test)[:,1])\n",
    "plt.plot(faux_positifs_logreg, vrais_positifs_logreg, label=\"Régression logistique\")\n",
    "faux_positifs_knn, vrais_positifs_knn, seuil_knn = roc_curve(y_test, knn.predict_proba(x_test)[:,1])\n",
    "plt.plot(faux_positifs_knn, vrais_positifs_knn, label=\"KNN\")\n",
    "faux_positifs_tr, vrais_positifs_tr, seuil_tr = roc_curve(y_test, tree.predict_proba(x_test)[:,1])\n",
    "plt.plot(faux_positifs_tr, vrais_positifs_tr, label=\"Arbre de décision\")\n",
    "faux_positifs_rf, vrais_positifs_rf, seuil_rf = roc_curve(y_test, rf.predict_proba(x_test)[:,1])\n",
    "plt.plot(faux_positifs_rf, vrais_positifs_rf, label=\"forêt aléatoire\")\n",
    "plt.xlabel (\"Faux positifs\")\n",
    "plt.ylabel (\"Vrais positifs\")\n",
    "plt.legend ()"
   ]
  },
  {
   "cell_type": "markdown",
   "id": "bec35451",
   "metadata": {},
   "source": [
    "# APPRENTISSAGE NON SUPERVISE"
   ]
  },
  {
   "cell_type": "markdown",
   "id": "cb013b67",
   "metadata": {},
   "source": [
    "# Utilisez le clustering hiérarchique pour identifier les regroupements inhérents à vos données"
   ]
  },
  {
   "cell_type": "markdown",
   "id": "ff761863",
   "metadata": {},
   "source": [
    "# Clustering Preprocessing"
   ]
  },
  {
   "cell_type": "code",
   "execution_count": 81,
   "id": "71a154be",
   "metadata": {},
   "outputs": [],
   "source": [
    "data1=data1.drop(\"classe\",axis=1)\n",
    "data1=data1.drop(\"id\",axis=1)"
   ]
  },
  {
   "cell_type": "code",
   "execution_count": 82,
   "id": "5a9b265a",
   "metadata": {},
   "outputs": [
    {
     "data": {
      "text/html": [
       "<div>\n",
       "<style scoped>\n",
       "    .dataframe tbody tr th:only-of-type {\n",
       "        vertical-align: middle;\n",
       "    }\n",
       "\n",
       "    .dataframe tbody tr th {\n",
       "        vertical-align: top;\n",
       "    }\n",
       "\n",
       "    .dataframe thead th {\n",
       "        text-align: right;\n",
       "    }\n",
       "</style>\n",
       "<table border=\"1\" class=\"dataframe\">\n",
       "  <thead>\n",
       "    <tr style=\"text-align: right;\">\n",
       "      <th></th>\n",
       "      <th>0</th>\n",
       "    </tr>\n",
       "  </thead>\n",
       "  <tbody>\n",
       "    <tr>\n",
       "      <th>0</th>\n",
       "      <td>1</td>\n",
       "    </tr>\n",
       "    <tr>\n",
       "      <th>1</th>\n",
       "      <td>1</td>\n",
       "    </tr>\n",
       "    <tr>\n",
       "      <th>2</th>\n",
       "      <td>1</td>\n",
       "    </tr>\n",
       "    <tr>\n",
       "      <th>3</th>\n",
       "      <td>1</td>\n",
       "    </tr>\n",
       "    <tr>\n",
       "      <th>4</th>\n",
       "      <td>1</td>\n",
       "    </tr>\n",
       "    <tr>\n",
       "      <th>...</th>\n",
       "      <td>...</td>\n",
       "    </tr>\n",
       "    <tr>\n",
       "      <th>395</th>\n",
       "      <td>1</td>\n",
       "    </tr>\n",
       "    <tr>\n",
       "      <th>396</th>\n",
       "      <td>1</td>\n",
       "    </tr>\n",
       "    <tr>\n",
       "      <th>397</th>\n",
       "      <td>1</td>\n",
       "    </tr>\n",
       "    <tr>\n",
       "      <th>398</th>\n",
       "      <td>1</td>\n",
       "    </tr>\n",
       "    <tr>\n",
       "      <th>399</th>\n",
       "      <td>1</td>\n",
       "    </tr>\n",
       "  </tbody>\n",
       "</table>\n",
       "<p>400 rows × 1 columns</p>\n",
       "</div>"
      ],
      "text/plain": [
       "     0\n",
       "0    1\n",
       "1    1\n",
       "2    1\n",
       "3    1\n",
       "4    1\n",
       "..  ..\n",
       "395  1\n",
       "396  1\n",
       "397  1\n",
       "398  1\n",
       "399  1\n",
       "\n",
       "[400 rows x 1 columns]"
      ]
     },
     "execution_count": 82,
     "metadata": {},
     "output_type": "execute_result"
    }
   ],
   "source": [
    "#Clustering agglomératif\n",
    "model=AgglomerativeClustering(n_clusters=5,affinity='euclidean', linkage='complete')\n",
    "clust_labels=model.fit_predict(data1)  \n",
    "#Étiquette agglomérative\n",
    "agglomerative=pd.DataFrame(clust_labels)\n",
    "agglomerative"
   ]
  },
  {
   "cell_type": "markdown",
   "id": "d279e861",
   "metadata": {},
   "source": [
    "# Graphique en grappes agglomératives"
   ]
  },
  {
   "cell_type": "code",
   "execution_count": 84,
   "id": "f8cf131c",
   "metadata": {},
   "outputs": [
    {
     "data": {
      "text/plain": [
       "<matplotlib.colorbar.Colorbar at 0x47ee47f370>"
      ]
     },
     "execution_count": 84,
     "metadata": {},
     "output_type": "execute_result"
    },
    {
     "data": {
      "image/png": "[encoded data removed]",
      "text/plain": [
       "<Figure size 432x288 with 2 Axes>"
      ]
     },
     "metadata": {
      "needs_background": "light"
     },
     "output_type": "display_data"
    }
   ],
   "source": [
    "fig =plt.figure()\n",
    "ax = fig.add_subplot(111)\n",
    "scatter = ax.scatter (data1['hemo'] , data1['volume_cellulaire_emballé'] , c= agglomerative[0], s=50)\n",
    "ax.set_title(\"Clustering agglomératif\")\n",
    "ax.set_xlabel(\"hemo\")\n",
    "ax.set_ylabel(\"volume_cellulaire_emballé\")\n",
    "plt.colorbar(scatter)"
   ]
  },
  {
   "cell_type": "markdown",
   "id": "f9669a81",
   "metadata": {},
   "source": [
    "# Visualisation du dendrogramme"
   ]
  },
  {
   "cell_type": "code",
   "execution_count": 85,
   "id": "a7c370dd",
   "metadata": {},
   "outputs": [
    {
     "data": {
      "image/png": "[encoded data removed]",
      "text/plain": [
       "<Figure size 720x504 with 1 Axes>"
      ]
     },
     "metadata": {
      "needs_background": "light"
     },
     "output_type": "display_data"
    }
   ],
   "source": [
    "plt.figure(figsize=(10,7))\n",
    "plt.title(\"Dendrogramme patient\")\n",
    "dend=shc.dendrogram(shc.linkage(data1, method=\"complete\"))"
   ]
  },
  {
   "cell_type": "markdown",
   "id": "585e99d1",
   "metadata": {},
   "source": [
    "# Appliquer K-means clustering"
   ]
  },
  {
   "cell_type": "code",
   "execution_count": 86,
   "id": "84beb12f",
   "metadata": {},
   "outputs": [
    {
     "data": {
      "text/html": [
       "<style>#sk-container-id-2 {color: black;background-color: white;}#sk-container-id-2 pre{padding: 0;}#sk-container-id-2 div.sk-toggleable {background-color: white;}#sk-container-id-2 label.sk-toggleable__label {cursor: pointer;display: block;width: 100%;margin-bottom: 0;padding: 0.3em;box-sizing: border-box;text-align: center;}#sk-container-id-2 label.sk-toggleable__label-arrow:before {content: \"▸\";float: left;margin-right: 0.25em;color: #696969;}#sk-container-id-2 label.sk-toggleable__label-arrow:hover:before {color: black;}#sk-container-id-2 div.sk-estimator:hover label.sk-toggleable__label-arrow:before {color: black;}#sk-container-id-2 div.sk-toggleable__content {max-height: 0;max-width: 0;overflow: hidden;text-align: left;background-color: #f0f8ff;}#sk-container-id-2 div.sk-toggleable__content pre {margin: 0.2em;color: black;border-radius: 0.25em;background-color: #f0f8ff;}#sk-container-id-2 input.sk-toggleable__control:checked~div.sk-toggleable__content {max-height: 200px;max-width: 100%;overflow: auto;}#sk-container-id-2 input.sk-toggleable__control:checked~label.sk-toggleable__label-arrow:before {content: \"▾\";}#sk-container-id-2 div.sk-estimator input.sk-toggleable__control:checked~label.sk-toggleable__label {background-color: #d4ebff;}#sk-container-id-2 div.sk-label input.sk-toggleable__control:checked~label.sk-toggleable__label {background-color: #d4ebff;}#sk-container-id-2 input.sk-hidden--visually {border: 0;clip: rect(1px 1px 1px 1px);clip: rect(1px, 1px, 1px, 1px);height: 1px;margin: -1px;overflow: hidden;padding: 0;position: absolute;width: 1px;}#sk-container-id-2 div.sk-estimator {font-family: monospace;background-color: #f0f8ff;border: 1px dotted black;border-radius: 0.25em;box-sizing: border-box;margin-bottom: 0.5em;}#sk-container-id-2 div.sk-estimator:hover {background-color: #d4ebff;}#sk-container-id-2 div.sk-parallel-item::after {content: \"\";width: 100%;border-bottom: 1px solid gray;flex-grow: 1;}#sk-container-id-2 div.sk-label:hover label.sk-toggleable__label {background-color: #d4ebff;}#sk-container-id-2 div.sk-serial::before {content: \"\";position: absolute;border-left: 1px solid gray;box-sizing: border-box;top: 0;bottom: 0;left: 50%;z-index: 0;}#sk-container-id-2 div.sk-serial {display: flex;flex-direction: column;align-items: center;background-color: white;padding-right: 0.2em;padding-left: 0.2em;position: relative;}#sk-container-id-2 div.sk-item {position: relative;z-index: 1;}#sk-container-id-2 div.sk-parallel {display: flex;align-items: stretch;justify-content: center;background-color: white;position: relative;}#sk-container-id-2 div.sk-item::before, #sk-container-id-2 div.sk-parallel-item::before {content: \"\";position: absolute;border-left: 1px solid gray;box-sizing: border-box;top: 0;bottom: 0;left: 50%;z-index: -1;}#sk-container-id-2 div.sk-parallel-item {display: flex;flex-direction: column;z-index: 1;position: relative;background-color: white;}#sk-container-id-2 div.sk-parallel-item:first-child::after {align-self: flex-end;width: 50%;}#sk-container-id-2 div.sk-parallel-item:last-child::after {align-self: flex-start;width: 50%;}#sk-container-id-2 div.sk-parallel-item:only-child::after {width: 0;}#sk-container-id-2 div.sk-dashed-wrapped {border: 1px dashed gray;margin: 0 0.4em 0.5em 0.4em;box-sizing: border-box;padding-bottom: 0.4em;background-color: white;}#sk-container-id-2 div.sk-label label {font-family: monospace;font-weight: bold;display: inline-block;line-height: 1.2em;}#sk-container-id-2 div.sk-label-container {text-align: center;}#sk-container-id-2 div.sk-container {/* jupyter's `normalize.less` sets `[hidden] { display: none; }` but bootstrap.min.css set `[hidden] { display: none !important; }` so we also need the `!important` here to be able to override the default hidden behavior on the sphinx rendered scikit-learn.org. See: https://github.com/scikit-learn/scikit-learn/issues/21755 */display: inline-block !important;position: relative;}#sk-container-id-2 div.sk-text-repr-fallback {display: none;}</style><div id=\"sk-container-id-2\" class=\"sk-top-container\"><div class=\"sk-text-repr-fallback\"><pre>KMeans(n_clusters=5, random_state=0)</pre><b>In a Jupyter environment, please rerun this cell to show the HTML representation or trust the notebook. <br />On GitHub, the HTML representation is unable to render, please try loading this page with nbviewer.org.</b></div><div class=\"sk-container\" hidden><div class=\"sk-item\"><div class=\"sk-estimator sk-toggleable\"><input class=\"sk-toggleable__control sk-hidden--visually\" id=\"sk-estimator-id-2\" type=\"checkbox\" checked><label for=\"sk-estimator-id-2\" class=\"sk-toggleable__label sk-toggleable__label-arrow\">KMeans</label><div class=\"sk-toggleable__content\"><pre>KMeans(n_clusters=5, random_state=0)</pre></div></div></div></div></div>"
      ],
      "text/plain": [
       "KMeans(n_clusters=5, random_state=0)"
      ]
     },
     "execution_count": 86,
     "metadata": {},
     "output_type": "execute_result"
    }
   ],
   "source": [
    "data1.columns\n",
    "kmeans=KMeans(n_clusters=5, random_state=0)  #Regrouper nos données en choisissant 5 comme nombre de clusters\n",
    "kmeans.fit(data1)"
   ]
  },
  {
   "cell_type": "markdown",
   "id": "060c4375",
   "metadata": {},
   "source": [
    "# K-means Étiquettes"
   ]
  },
  {
   "cell_type": "code",
   "execution_count": 87,
   "id": "aab1acb8",
   "metadata": {},
   "outputs": [
    {
     "data": {
      "text/html": [
       "<div>\n",
       "<style scoped>\n",
       "    .dataframe tbody tr th:only-of-type {\n",
       "        vertical-align: middle;\n",
       "    }\n",
       "\n",
       "    .dataframe tbody tr th {\n",
       "        vertical-align: top;\n",
       "    }\n",
       "\n",
       "    .dataframe thead th {\n",
       "        text-align: right;\n",
       "    }\n",
       "</style>\n",
       "<table border=\"1\" class=\"dataframe\">\n",
       "  <thead>\n",
       "    <tr style=\"text-align: right;\">\n",
       "      <th></th>\n",
       "      <th>0</th>\n",
       "    </tr>\n",
       "  </thead>\n",
       "  <tbody>\n",
       "    <tr>\n",
       "      <th>0</th>\n",
       "      <td>1</td>\n",
       "    </tr>\n",
       "    <tr>\n",
       "      <th>1</th>\n",
       "      <td>3</td>\n",
       "    </tr>\n",
       "    <tr>\n",
       "      <th>2</th>\n",
       "      <td>1</td>\n",
       "    </tr>\n",
       "    <tr>\n",
       "      <th>3</th>\n",
       "      <td>1</td>\n",
       "    </tr>\n",
       "    <tr>\n",
       "      <th>4</th>\n",
       "      <td>1</td>\n",
       "    </tr>\n",
       "    <tr>\n",
       "      <th>...</th>\n",
       "      <td>...</td>\n",
       "    </tr>\n",
       "    <tr>\n",
       "      <th>395</th>\n",
       "      <td>1</td>\n",
       "    </tr>\n",
       "    <tr>\n",
       "      <th>396</th>\n",
       "      <td>1</td>\n",
       "    </tr>\n",
       "    <tr>\n",
       "      <th>397</th>\n",
       "      <td>1</td>\n",
       "    </tr>\n",
       "    <tr>\n",
       "      <th>398</th>\n",
       "      <td>1</td>\n",
       "    </tr>\n",
       "    <tr>\n",
       "      <th>399</th>\n",
       "      <td>1</td>\n",
       "    </tr>\n",
       "  </tbody>\n",
       "</table>\n",
       "<p>400 rows × 1 columns</p>\n",
       "</div>"
      ],
      "text/plain": [
       "     0\n",
       "0    1\n",
       "1    3\n",
       "2    1\n",
       "3    1\n",
       "4    1\n",
       "..  ..\n",
       "395  1\n",
       "396  1\n",
       "397  1\n",
       "398  1\n",
       "399  1\n",
       "\n",
       "[400 rows x 1 columns]"
      ]
     },
     "execution_count": 87,
     "metadata": {},
     "output_type": "execute_result"
    }
   ],
   "source": [
    "labels=pd.DataFrame(kmeans.labels_)\n",
    "labels"
   ]
  },
  {
   "cell_type": "markdown",
   "id": "fe456eaf",
   "metadata": {},
   "source": [
    "# K-Means Centroïdes"
   ]
  },
  {
   "cell_type": "code",
   "execution_count": 88,
   "id": "154e9e7d",
   "metadata": {},
   "outputs": [
    {
     "name": "stdout",
     "output_type": "stream",
     "text": [
      "[[5.23714286e+01 7.60000000e+01 1.01271429e+00 2.14285714e+00\n",
      "  9.14285714e-01 4.28571429e-01 4.28571429e-01 7.14285714e-01\n",
      "  8.57142857e-01 1.86285714e+02 8.29142857e+01 5.42857143e+00\n",
      "  1.33857143e+02 4.21714286e+00 1.05142857e+01 3.20000000e+01\n",
      "  1.34114286e+04 3.79714286e+00 6.00000000e-01 6.28571429e-01\n",
      "  8.57142857e-02 4.57142857e-01 4.00000000e-01 3.14285714e-01]\n",
      " [5.06453901e+01 7.51773050e+01 1.01843972e+00 8.51063830e-01\n",
      "  3.33333333e-01 2.19858156e-01 1.56028369e-01 9.43262411e-01\n",
      "  9.64539007e-01 1.41801418e+02 5.47163121e+01 3.33475177e+00\n",
      "  1.36648936e+02 4.67446809e+00 1.27574468e+01 3.90709220e+01\n",
      "  7.29219858e+03 4.67304965e+00 3.33333333e-01 3.19148936e-01\n",
      "  5.67375887e-02 1.13475177e-01 1.34751773e-01 1.41843972e-01]\n",
      " [5.34964029e+01 7.77697842e+01 1.01669065e+00 9.78417266e-01\n",
      "  6.40287770e-01 2.87769784e-01 2.30215827e-01 8.92086331e-01\n",
      "  9.49640288e-01 1.53848921e+02 5.20978417e+01 2.39892086e+00\n",
      "  1.37992806e+02 4.37266187e+00 1.25323741e+01 3.83597122e+01\n",
      "  9.82589928e+03 4.55827338e+00 3.52517986e-01 4.02877698e-01\n",
      "  1.36690647e-01 2.01438849e-01 1.87050360e-01 1.07913669e-01]\n",
      " [4.92025316e+01 7.60759494e+01 1.01784810e+00 1.06329114e+00\n",
      "  1.26582278e-01 2.91139241e-01 2.53164557e-01 9.11392405e-01\n",
      "  9.36708861e-01 1.41392405e+02 5.90329114e+01 2.57341772e+00\n",
      "  1.36063291e+02 4.91012658e+00 1.21594937e+01 3.61392405e+01\n",
      "  4.81012658e+03 4.26582278e+00 3.41772152e-01 3.03797468e-01\n",
      "  1.01265823e-01 2.40506329e-01 1.89873418e-01 1.64556962e-01]\n",
      " [5.46666667e+01 7.66666667e+01 1.01583333e+00 1.33333333e+00\n",
      "  3.33333333e-01 5.55111512e-17 3.33333333e-01 6.66666667e-01\n",
      "  1.00000000e+00 1.35833333e+02 5.41666667e+01 2.76666667e+00\n",
      "  1.35833333e+02 4.20000000e+00 1.05833333e+01 3.13333333e+01\n",
      "  2.07000000e+04 3.66666667e+00 5.00000000e-01 5.00000000e-01\n",
      "  1.38777878e-17 5.00000000e-01 3.33333333e-01 1.66666667e-01]]\n"
     ]
    }
   ],
   "source": [
    "kmeans.predict(data1)\n",
    "print(kmeans.cluster_centers_) "
   ]
  },
  {
   "cell_type": "markdown",
   "id": "f850811d",
   "metadata": {},
   "source": [
    "# Tracé K-means"
   ]
  },
  {
   "cell_type": "code",
   "execution_count": 104,
   "id": "34bf7cf7",
   "metadata": {},
   "outputs": [
    {
     "name": "stderr",
     "output_type": "stream",
     "text": [
      "No handles with labels found to put in legend.\n"
     ]
    },
    {
     "data": {
      "image/png": "[encoded data removed]",
      "text/plain": [
       "<Figure size 432x288 with 1 Axes>"
      ]
     },
     "metadata": {
      "needs_background": "light"
     },
     "output_type": "display_data"
    }
   ],
   "source": [
    "#Visualisation\n",
    "colormap=np.array([\"magenta\", \"yellow\", \"green\",\"cyan\",\"burlywood\"])\n",
    "plt.scatter(data1.hemo, data1.volume_cellulaire_emballé, c=colormap[kmeans.labels_], s=50, )\n",
    "plt.title(\"Clusters des patients\")\n",
    "plt.xlabel(\"hemo\")\n",
    "plt.ylabel(\"volume_cellulaire_emballé\")\n",
    "plt.legend()\n",
    "plt.show()"
   ]
  },
  {
   "cell_type": "code",
   "execution_count": 90,
   "id": "4b066a1e",
   "metadata": {},
   "outputs": [],
   "source": [
    "sum_of_squared_distances = []\n",
    "K = range(1,25)\n",
    "for k in K:\n",
    "    km = KMeans(n_clusters = k)\n",
    "    km = km.fit(data1)\n",
    "    sum_of_squared_distances.append(km.inertia_)"
   ]
  },
  {
   "cell_type": "code",
   "execution_count": 91,
   "id": "995c0172",
   "metadata": {},
   "outputs": [
    {
     "data": {
      "image/png": "[encoded data removed]",
      "text/plain": [
       "<Figure size 432x288 with 1 Axes>"
      ]
     },
     "metadata": {
      "needs_background": "light"
     },
     "output_type": "display_data"
    }
   ],
   "source": [
    "plt.plot(K,sum_of_squared_distances, 'bx-')\n",
    "plt.xlabel('k')\n",
    "plt.ylabel('sum_of_squared_distances')\n",
    "plt.title('Elbow Method for Optimal k')\n",
    "plt.show()"
   ]
  },
  {
   "cell_type": "markdown",
   "id": "3c12ae56",
   "metadata": {},
   "source": [
    "optimal K=3."
   ]
  },
  {
   "cell_type": "code",
   "execution_count": 92,
   "id": "20519027",
   "metadata": {},
   "outputs": [
    {
     "data": {
      "text/html": [
       "<div>\n",
       "<style scoped>\n",
       "    .dataframe tbody tr th:only-of-type {\n",
       "        vertical-align: middle;\n",
       "    }\n",
       "\n",
       "    .dataframe tbody tr th {\n",
       "        vertical-align: top;\n",
       "    }\n",
       "\n",
       "    .dataframe thead th {\n",
       "        text-align: right;\n",
       "    }\n",
       "</style>\n",
       "<table border=\"1\" class=\"dataframe\">\n",
       "  <thead>\n",
       "    <tr style=\"text-align: right;\">\n",
       "      <th></th>\n",
       "      <th>0</th>\n",
       "    </tr>\n",
       "  </thead>\n",
       "  <tbody>\n",
       "    <tr>\n",
       "      <th>0</th>\n",
       "      <td>1</td>\n",
       "    </tr>\n",
       "    <tr>\n",
       "      <th>1</th>\n",
       "      <td>1</td>\n",
       "    </tr>\n",
       "    <tr>\n",
       "      <th>2</th>\n",
       "      <td>1</td>\n",
       "    </tr>\n",
       "    <tr>\n",
       "      <th>3</th>\n",
       "      <td>1</td>\n",
       "    </tr>\n",
       "    <tr>\n",
       "      <th>4</th>\n",
       "      <td>1</td>\n",
       "    </tr>\n",
       "    <tr>\n",
       "      <th>...</th>\n",
       "      <td>...</td>\n",
       "    </tr>\n",
       "    <tr>\n",
       "      <th>395</th>\n",
       "      <td>1</td>\n",
       "    </tr>\n",
       "    <tr>\n",
       "      <th>396</th>\n",
       "      <td>1</td>\n",
       "    </tr>\n",
       "    <tr>\n",
       "      <th>397</th>\n",
       "      <td>1</td>\n",
       "    </tr>\n",
       "    <tr>\n",
       "      <th>398</th>\n",
       "      <td>1</td>\n",
       "    </tr>\n",
       "    <tr>\n",
       "      <th>399</th>\n",
       "      <td>1</td>\n",
       "    </tr>\n",
       "  </tbody>\n",
       "</table>\n",
       "<p>400 rows × 1 columns</p>\n",
       "</div>"
      ],
      "text/plain": [
       "     0\n",
       "0    1\n",
       "1    1\n",
       "2    1\n",
       "3    1\n",
       "4    1\n",
       "..  ..\n",
       "395  1\n",
       "396  1\n",
       "397  1\n",
       "398  1\n",
       "399  1\n",
       "\n",
       "[400 rows x 1 columns]"
      ]
     },
     "execution_count": 92,
     "metadata": {},
     "output_type": "execute_result"
    }
   ],
   "source": [
    "#Clustering agglomératif\n",
    "model=AgglomerativeClustering(n_clusters=3, affinity='euclidean', linkage='complete')\n",
    "clust_labels=model.fit_predict(data1)  \n",
    "agglomerative=pd.DataFrame(clust_labels)\n",
    "agglomerative"
   ]
  },
  {
   "cell_type": "code",
   "execution_count": 93,
   "id": "ef8b48be",
   "metadata": {},
   "outputs": [
    {
     "data": {
      "text/plain": [
       "<matplotlib.colorbar.Colorbar at 0x47eede48e0>"
      ]
     },
     "execution_count": 93,
     "metadata": {},
     "output_type": "execute_result"
    },
    {
     "data": {
      "image/png": "[encoded data removed]",
      "text/plain": [
       "<Figure size 432x288 with 2 Axes>"
      ]
     },
     "metadata": {
      "needs_background": "light"
     },
     "output_type": "display_data"
    }
   ],
   "source": [
    "fig =plt.figure()\n",
    "ax = fig.add_subplot(111)\n",
    "scatter = ax.scatter (data1['hemo'] , data1['volume_cellulaire_emballé'] , c= agglomerative[0], s=50)\n",
    "ax.set_title(\"Clustering agglomératif\")\n",
    "ax.set_xlabel(\"hemo\")\n",
    "ax.set_ylabel(\"volume_cellulaire_emballé\")\n",
    "plt.colorbar(scatter)"
   ]
  },
  {
   "cell_type": "markdown",
   "id": "be998fe7",
   "metadata": {},
   "source": [
    "# Tracé K-means apres modification de k"
   ]
  },
  {
   "cell_type": "code",
   "execution_count": 98,
   "id": "42e8d7d7",
   "metadata": {},
   "outputs": [
    {
     "data": {
      "text/html": [
       "<style>#sk-container-id-4 {color: black;background-color: white;}#sk-container-id-4 pre{padding: 0;}#sk-container-id-4 div.sk-toggleable {background-color: white;}#sk-container-id-4 label.sk-toggleable__label {cursor: pointer;display: block;width: 100%;margin-bottom: 0;padding: 0.3em;box-sizing: border-box;text-align: center;}#sk-container-id-4 label.sk-toggleable__label-arrow:before {content: \"▸\";float: left;margin-right: 0.25em;color: #696969;}#sk-container-id-4 label.sk-toggleable__label-arrow:hover:before {color: black;}#sk-container-id-4 div.sk-estimator:hover label.sk-toggleable__label-arrow:before {color: black;}#sk-container-id-4 div.sk-toggleable__content {max-height: 0;max-width: 0;overflow: hidden;text-align: left;background-color: #f0f8ff;}#sk-container-id-4 div.sk-toggleable__content pre {margin: 0.2em;color: black;border-radius: 0.25em;background-color: #f0f8ff;}#sk-container-id-4 input.sk-toggleable__control:checked~div.sk-toggleable__content {max-height: 200px;max-width: 100%;overflow: auto;}#sk-container-id-4 input.sk-toggleable__control:checked~label.sk-toggleable__label-arrow:before {content: \"▾\";}#sk-container-id-4 div.sk-estimator input.sk-toggleable__control:checked~label.sk-toggleable__label {background-color: #d4ebff;}#sk-container-id-4 div.sk-label input.sk-toggleable__control:checked~label.sk-toggleable__label {background-color: #d4ebff;}#sk-container-id-4 input.sk-hidden--visually {border: 0;clip: rect(1px 1px 1px 1px);clip: rect(1px, 1px, 1px, 1px);height: 1px;margin: -1px;overflow: hidden;padding: 0;position: absolute;width: 1px;}#sk-container-id-4 div.sk-estimator {font-family: monospace;background-color: #f0f8ff;border: 1px dotted black;border-radius: 0.25em;box-sizing: border-box;margin-bottom: 0.5em;}#sk-container-id-4 div.sk-estimator:hover {background-color: #d4ebff;}#sk-container-id-4 div.sk-parallel-item::after {content: \"\";width: 100%;border-bottom: 1px solid gray;flex-grow: 1;}#sk-container-id-4 div.sk-label:hover label.sk-toggleable__label {background-color: #d4ebff;}#sk-container-id-4 div.sk-serial::before {content: \"\";position: absolute;border-left: 1px solid gray;box-sizing: border-box;top: 0;bottom: 0;left: 50%;z-index: 0;}#sk-container-id-4 div.sk-serial {display: flex;flex-direction: column;align-items: center;background-color: white;padding-right: 0.2em;padding-left: 0.2em;position: relative;}#sk-container-id-4 div.sk-item {position: relative;z-index: 1;}#sk-container-id-4 div.sk-parallel {display: flex;align-items: stretch;justify-content: center;background-color: white;position: relative;}#sk-container-id-4 div.sk-item::before, #sk-container-id-4 div.sk-parallel-item::before {content: \"\";position: absolute;border-left: 1px solid gray;box-sizing: border-box;top: 0;bottom: 0;left: 50%;z-index: -1;}#sk-container-id-4 div.sk-parallel-item {display: flex;flex-direction: column;z-index: 1;position: relative;background-color: white;}#sk-container-id-4 div.sk-parallel-item:first-child::after {align-self: flex-end;width: 50%;}#sk-container-id-4 div.sk-parallel-item:last-child::after {align-self: flex-start;width: 50%;}#sk-container-id-4 div.sk-parallel-item:only-child::after {width: 0;}#sk-container-id-4 div.sk-dashed-wrapped {border: 1px dashed gray;margin: 0 0.4em 0.5em 0.4em;box-sizing: border-box;padding-bottom: 0.4em;background-color: white;}#sk-container-id-4 div.sk-label label {font-family: monospace;font-weight: bold;display: inline-block;line-height: 1.2em;}#sk-container-id-4 div.sk-label-container {text-align: center;}#sk-container-id-4 div.sk-container {/* jupyter's `normalize.less` sets `[hidden] { display: none; }` but bootstrap.min.css set `[hidden] { display: none !important; }` so we also need the `!important` here to be able to override the default hidden behavior on the sphinx rendered scikit-learn.org. See: https://github.com/scikit-learn/scikit-learn/issues/21755 */display: inline-block !important;position: relative;}#sk-container-id-4 div.sk-text-repr-fallback {display: none;}</style><div id=\"sk-container-id-4\" class=\"sk-top-container\"><div class=\"sk-text-repr-fallback\"><pre>KMeans(n_clusters=3, random_state=0)</pre><b>In a Jupyter environment, please rerun this cell to show the HTML representation or trust the notebook. <br />On GitHub, the HTML representation is unable to render, please try loading this page with nbviewer.org.</b></div><div class=\"sk-container\" hidden><div class=\"sk-item\"><div class=\"sk-estimator sk-toggleable\"><input class=\"sk-toggleable__control sk-hidden--visually\" id=\"sk-estimator-id-4\" type=\"checkbox\" checked><label for=\"sk-estimator-id-4\" class=\"sk-toggleable__label sk-toggleable__label-arrow\">KMeans</label><div class=\"sk-toggleable__content\"><pre>KMeans(n_clusters=3, random_state=0)</pre></div></div></div></div></div>"
      ],
      "text/plain": [
       "KMeans(n_clusters=3, random_state=0)"
      ]
     },
     "execution_count": 98,
     "metadata": {},
     "output_type": "execute_result"
    }
   ],
   "source": [
    "data1.columns\n",
    "kmeans=KMeans(n_clusters=3, random_state=0)  #Regrouper nos données en choisissant 3 comme nombre de clusters\n",
    "kmeans.fit(data1)"
   ]
  },
  {
   "cell_type": "markdown",
   "id": "c394742d",
   "metadata": {},
   "source": [
    "# K-means Étiquettes"
   ]
  },
  {
   "cell_type": "code",
   "execution_count": 99,
   "id": "3328bd2d",
   "metadata": {},
   "outputs": [
    {
     "data": {
      "text/html": [
       "<div>\n",
       "<style scoped>\n",
       "    .dataframe tbody tr th:only-of-type {\n",
       "        vertical-align: middle;\n",
       "    }\n",
       "\n",
       "    .dataframe tbody tr th {\n",
       "        vertical-align: top;\n",
       "    }\n",
       "\n",
       "    .dataframe thead th {\n",
       "        text-align: right;\n",
       "    }\n",
       "</style>\n",
       "<table border=\"1\" class=\"dataframe\">\n",
       "  <thead>\n",
       "    <tr style=\"text-align: right;\">\n",
       "      <th></th>\n",
       "      <th>0</th>\n",
       "    </tr>\n",
       "  </thead>\n",
       "  <tbody>\n",
       "    <tr>\n",
       "      <th>0</th>\n",
       "      <td>0</td>\n",
       "    </tr>\n",
       "    <tr>\n",
       "      <th>1</th>\n",
       "      <td>0</td>\n",
       "    </tr>\n",
       "    <tr>\n",
       "      <th>2</th>\n",
       "      <td>0</td>\n",
       "    </tr>\n",
       "    <tr>\n",
       "      <th>3</th>\n",
       "      <td>0</td>\n",
       "    </tr>\n",
       "    <tr>\n",
       "      <th>4</th>\n",
       "      <td>0</td>\n",
       "    </tr>\n",
       "    <tr>\n",
       "      <th>...</th>\n",
       "      <td>...</td>\n",
       "    </tr>\n",
       "    <tr>\n",
       "      <th>395</th>\n",
       "      <td>0</td>\n",
       "    </tr>\n",
       "    <tr>\n",
       "      <th>396</th>\n",
       "      <td>0</td>\n",
       "    </tr>\n",
       "    <tr>\n",
       "      <th>397</th>\n",
       "      <td>0</td>\n",
       "    </tr>\n",
       "    <tr>\n",
       "      <th>398</th>\n",
       "      <td>0</td>\n",
       "    </tr>\n",
       "    <tr>\n",
       "      <th>399</th>\n",
       "      <td>0</td>\n",
       "    </tr>\n",
       "  </tbody>\n",
       "</table>\n",
       "<p>400 rows × 1 columns</p>\n",
       "</div>"
      ],
      "text/plain": [
       "     0\n",
       "0    0\n",
       "1    0\n",
       "2    0\n",
       "3    0\n",
       "4    0\n",
       "..  ..\n",
       "395  0\n",
       "396  0\n",
       "397  0\n",
       "398  0\n",
       "399  0\n",
       "\n",
       "[400 rows x 1 columns]"
      ]
     },
     "execution_count": 99,
     "metadata": {},
     "output_type": "execute_result"
    }
   ],
   "source": [
    "labels=pd.DataFrame(kmeans.labels_)\n",
    "labels"
   ]
  },
  {
   "cell_type": "markdown",
   "id": "48c709fc",
   "metadata": {},
   "source": [
    "# K-Means Centroïdes"
   ]
  },
  {
   "cell_type": "code",
   "execution_count": 100,
   "id": "a58b06fe",
   "metadata": {},
   "outputs": [
    {
     "name": "stdout",
     "output_type": "stream",
     "text": [
      "[[4.96763285e+01 7.54106280e+01 1.01816425e+00 9.46859903e-01\n",
      "  2.31884058e-01 2.56038647e-01 1.98067633e-01 9.27536232e-01\n",
      "  9.56521739e-01 1.42014493e+02 5.66309179e+01 3.15748792e+00\n",
      "  1.36340580e+02 4.78019324e+00 1.24647343e+01 3.77149758e+01\n",
      "  6.27874396e+03 4.48260870e+00 3.28502415e-01 3.14009662e-01\n",
      "  7.72946860e-02 1.59420290e-01 1.59420290e-01 1.54589372e-01]\n",
      " [5.35344828e+01 7.76436782e+01 1.01640805e+00 1.06896552e+00\n",
      "  6.55172414e-01 2.93103448e-01 2.18390805e-01 8.79310345e-01\n",
      "  9.42528736e-01 1.56494253e+02 5.48310345e+01 2.44798851e+00\n",
      "  1.37436782e+02 4.34827586e+00 1.24241379e+01 3.80977011e+01\n",
      "  1.00419540e+04 4.53333333e+00 3.85057471e-01 4.31034483e-01\n",
      "  1.26436782e-01 2.24137931e-01 1.95402299e-01 1.32183908e-01]\n",
      " [5.40526316e+01 7.47368421e+01 1.01342105e+00 2.15789474e+00\n",
      "  9.47368421e-01 2.63157895e-01 6.31578947e-01 6.84210526e-01\n",
      "  8.42105263e-01 1.71421053e+02 8.33684211e+01 7.05263158e+00\n",
      "  1.34789474e+02 4.28947368e+00 1.00473684e+01 2.98947368e+01\n",
      "  1.68736842e+04 3.56315789e+00 6.31578947e-01 5.26315789e-01\n",
      "  2.77555756e-17 5.26315789e-01 4.73684211e-01 2.63157895e-01]]\n"
     ]
    }
   ],
   "source": [
    "kmeans.predict(data1)\n",
    "print(kmeans.cluster_centers_) "
   ]
  },
  {
   "cell_type": "code",
   "execution_count": 103,
   "id": "bb611ad3",
   "metadata": {},
   "outputs": [
    {
     "name": "stderr",
     "output_type": "stream",
     "text": [
      "No handles with labels found to put in legend.\n"
     ]
    },
    {
     "data": {
      "image/png": "[encoded data removed]",
      "text/plain": [
       "<Figure size 432x288 with 1 Axes>"
      ]
     },
     "metadata": {
      "needs_background": "light"
     },
     "output_type": "display_data"
    }
   ],
   "source": [
    "#Visualisation\n",
    "colormap=np.array([\"red\", \"blue\", \"purple\"])\n",
    "plt.scatter(data1.hemo, data1.volume_cellulaire_emballé, c=colormap[kmeans.labels_], s=50, )\n",
    "plt.title(\"Clusters des patients\")\n",
    "plt.xlabel(\"hemo\")\n",
    "plt.ylabel(\"volume_cellulaire_emballé\")\n",
    "plt.legend()\n",
    "plt.show()"
   ]
  },
  {
   "cell_type": "code",
   "execution_count": null,
   "id": "c7f394b7",
   "metadata": {},
   "outputs": [],
   "source": []
  }
 ],
 "metadata": {
  "kernelspec": {
   "display_name": "Python 3 (ipykernel)",
   "language": "python",
   "name": "python3"
  },
  "language_info": {
   "codemirror_mode": {
    "name": "ipython",
    "version": 3
   },
   "file_extension": ".py",
   "mimetype": "text/x-python",
   "name": "python",
   "nbconvert_exporter": "python",
   "pygments_lexer": "ipython3",
   "version": "3.9.7"
  }
 },
 "nbformat": 4,
 "nbformat_minor": 5
}
