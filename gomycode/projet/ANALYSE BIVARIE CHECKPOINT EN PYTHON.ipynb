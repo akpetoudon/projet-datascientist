{
 "cells": [
  {
   "cell_type": "code",
   "execution_count": null,
   "id": "cc981e84",
   "metadata": {},
   "outputs": [],
   "source": [
    "#Analyse bivariée avec PYTHON CHECKPOINT\n",
    "\n",
    "#Objectif\n",
    "#Nous continuerons le travail sur le même jeu de données du point de contrôle précédent, \n",
    "#mais nous irons plus loin et étudierons la relation entre average_montly_hours et number_project.\n",
    "\n",
    "#Des instructions\n",
    "#1.Charger le jeu de données\n",
    "#2.Calculer le coefficient de corrélation avec R et python et en déduire sa valeur\n",
    "#3.Dans la deuxième étape, nous allons implémenter une régression linéaire \n",
    "#  d'heures_mensuelles_moyennes = a*nombre_projet+b\n",
    "#4.En déduire l'expression finale de notre régression\n",
    "#N'oubliez pas d'implémenter votre travail avec R et python"
   ]
  },
  {
   "cell_type": "code",
   "execution_count": null,
   "id": "a1ee154b",
   "metadata": {},
   "outputs": [],
   "source": [
    "import pandas as pd\n",
    "import numpy as np\n",
    "import seaborn as sns\n",
    "import matplotlib.pyplot as plt\n",
    "from sklearn.model_selection import train_test_split\n",
    "from sklearn.linear_model import LinearRegression\n",
    "import warnings\n",
    "warnings.filterwarnings('ignore')"
   ]
  }
 ],
 "metadata": {
  "kernelspec": {
   "display_name": "Python 3 (ipykernel)",
   "language": "python",
   "name": "python3"
  },
  "language_info": {
   "codemirror_mode": {
    "name": "ipython",
    "version": 3
   },
   "file_extension": ".py",
   "mimetype": "text/x-python",
   "name": "python",
   "nbconvert_exporter": "python",
   "pygments_lexer": "ipython3",
   "version": "3.9.7"
  }
 },
 "nbformat": 4,
 "nbformat_minor": 5
}
